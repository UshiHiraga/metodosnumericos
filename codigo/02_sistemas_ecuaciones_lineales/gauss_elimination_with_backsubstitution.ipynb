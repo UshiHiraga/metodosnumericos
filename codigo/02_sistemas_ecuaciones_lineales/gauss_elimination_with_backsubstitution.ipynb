{
 "cells": [
  {
   "cell_type": "markdown",
   "id": "0017044b-d0ce-46cb-856e-9872e340568e",
   "metadata": {},
   "source": [
    "# Gauss elimination with backsubstitution"
   ]
  },
  {
   "cell_type": "markdown",
   "id": "802e1e2a-7152-416f-9629-67336c0a7fd6",
   "metadata": {},
   "source": [
    "| Who  | Mail | Date | What |\n",
    "| ---  | ---   | --- | ---      |\n",
    "|Diego Andrés Alvarez Marín | <daalvarez@unal.edu.co>  | March 22nd, 2025 | Initial code |"
   ]
  },
  {
   "cell_type": "markdown",
   "id": "ac715de1-ec7a-45ed-9a95-5d43468ba8f4",
   "metadata": {},
   "source": [
    "Gaussian elimination with backsubstitution is a fundamental numerical method for solving systems of linear equations. Unlike Gauss-Jordan elimination, which transforms the coefficient matrix into the identity matrix, Gaussian elimination only transforms the matrix into an upper triangular form, followed by a backsubstitution step to find the solution vector."
   ]
  },
  {
   "cell_type": "code",
   "execution_count": 1,
   "id": "adc441cf-68d2-4df6-bc52-1e781a37396b",
   "metadata": {},
   "outputs": [],
   "source": [
    "import numpy as np\n",
    "import matplotlib.pyplot as plt\n",
    "from IPython.display import display, Math, Latex\n",
    "import pandas as pd\n",
    "import time"
   ]
  },
  {
   "cell_type": "markdown",
   "id": "2f1cfef1-e90e-488c-b884-9a5a55b423f1",
   "metadata": {},
   "source": [
    "## 1. Mathematical Background\n",
    "\n",
    "Consider a system of $n$ linear equations with $n$ unknowns:\n",
    "\n",
    "$$\n",
    "\\begin{align}\n",
    "a_{11}x_1 + a_{12}x_2 + \\cdots + a_{1n}x_n &= b_1\\\\\n",
    "a_{21}x_1 + a_{22}x_2 + \\cdots + a_{2n}x_n &= b_2\\\\\n",
    "\\vdots\\\\\n",
    "a_{n1}x_1 + a_{n2}x_2 + \\cdots + a_{nn}x_n &= b_n\n",
    "\\end{align}\n",
    "$$\n",
    "\n",
    "This system can be represented in matrix form as $\\boldsymbol{A}\\boldsymbol{x} = \\boldsymbol{b}$, where:\n",
    "\n",
    "$$\\boldsymbol{A} = \n",
    "\\begin{bmatrix} \n",
    "a_{11} & a_{12} & \\cdots & a_{1n} \\\\\n",
    "a_{21} & a_{22} & \\cdots & a_{2n} \\\\\n",
    "\\vdots & \\vdots & \\ddots & \\vdots \\\\\n",
    "a_{n1} & a_{n2} & \\cdots & a_{nn}\n",
    "\\end{bmatrix}, \n",
    "\\quad \\boldsymbol{x} = \n",
    "\\begin{bmatrix} \n",
    "x_1 \\\\\n",
    "x_2 \\\\\n",
    "\\vdots \\\\\n",
    "x_n\n",
    "\\end{bmatrix}, \n",
    "\\quad \\boldsymbol{b} = \n",
    "\\begin{bmatrix} \n",
    "b_1 \\\\\n",
    "b_2 \\\\\n",
    "\\vdots \\\\\n",
    "b_n\n",
    "\\end{bmatrix}\n",
    "$$\n",
    "\n",
    "The augmented matrix combines $\\boldsymbol{A}$ and $\\boldsymbol{b}$:\n",
    "\n",
    "$$[\\boldsymbol{A}|\\boldsymbol{b}] = \n",
    "\\begin{bmatrix} \n",
    "a_{11} & a_{12} & \\cdots & a_{1n} & b_1 \\\\\n",
    "a_{21} & a_{22} & \\cdots & a_{2n} & b_2 \\\\\n",
    "\\vdots & \\vdots & \\ddots & \\vdots & \\vdots \\\\\n",
    "a_{n1} & a_{n2} & \\cdots & a_{nn} & b_n\n",
    "\\end{bmatrix}\n",
    "$$\n",
    "\n",
    "Gaussian elimination with backsubstitution consists of two main phases:\n",
    "\n",
    "1. **Forward Elimination**: Transform the augmented matrix $[\\boldsymbol{A}|\\boldsymbol{b}]$ into an upper triangular form.\n",
    "2. **Backsubstitution**: Solve for the unknowns starting from the last equation and moving upward."
   ]
  },
  {
   "cell_type": "markdown",
   "id": "3b0ff704-5358-4d84-9678-4fd82a6c3b7c",
   "metadata": {},
   "source": [
    "## 2. Implementation of the Gauss-Jordan elimination method"
   ]
  },
  {
   "cell_type": "markdown",
   "id": "a484b19f-de34-4f5f-af7d-8afb65a05cdf",
   "metadata": {},
   "source": [
    "### 2.1 Visualization Functions"
   ]
  },
  {
   "cell_type": "code",
   "execution_count": 2,
   "id": "f92c6d61-39a3-47a1-9caa-78a3f0e7fa09",
   "metadata": {},
   "outputs": [],
   "source": [
    "def print_matrix(matrix, precision=4):\n",
    "    \"\"\"Pretty print a matrix with a vertical line before the last column\"\"\"\n",
    "    m, n = matrix.shape\n",
    "    \n",
    "    df = pd.DataFrame(np.round(matrix, precision))\n",
    "    df.index += 1 \n",
    "    df.columns = [f'A[:,{i}]' for i in range(1, n)] + ['b']\n",
    "    \n",
    "    # Adjust the display\n",
    "    pd.set_option('display.max_columns', None)  # print an unlimited number of columns\n",
    "    pd.set_option('display.width', None)        # width of the display in characters\n",
    "    \n",
    "    # Apply the style to the last column\n",
    "    def highlight_last_column(s):\n",
    "        return ['background-color: lightblue' if s.name == df.columns[-1] else '' for _ in s]\n",
    "    \n",
    "    return df.style.apply(highlight_last_column, axis=0)"
   ]
  },
  {
   "cell_type": "markdown",
   "id": "aeb719e3-cafd-4ade-8b1a-bb803abb2fcb",
   "metadata": {},
   "source": [
    "### 2.2 Implementation"
   ]
  },
  {
   "cell_type": "markdown",
   "id": "9f4041bd-d3d9-4672-b649-79ba8d641cc4",
   "metadata": {},
   "source": [
    "### Forward Elimination\n",
    "\n",
    "The forward elimination phase transforms the augmented matrix into an upper triangular form. The key differences from Gauss-Jordan elimination are:\n",
    "\n",
    "1. The outer loop runs only to `n-1` (not including the last row).\n",
    "2. We only eliminate entries below the diagonal (rows `i > j`).\n",
    "3. We don't normalize the pivot row (the diagonal elements are not necessarily 1).\n",
    "\n",
    "After this phase, the augmented matrix has the form:\n",
    "\n",
    "$$\n",
    "\\begin{bmatrix} \n",
    "a_{11}' & a_{12}' & \\cdots & a_{1n}' & b_1' \\\\\n",
    "0 & a_{22}' & \\cdots & a_{2n}' & b_2' \\\\\n",
    "\\vdots & \\vdots & \\ddots & \\vdots & \\vdots \\\\\n",
    "0 & 0 & \\cdots & a_{nn}' & b_n'\n",
    "\\end{bmatrix}\n",
    "$$"
   ]
  },
  {
   "cell_type": "code",
   "execution_count": 3,
   "id": "045f2f9b-1488-4bad-a680-8406b8691b27",
   "metadata": {},
   "outputs": [],
   "source": [
    "def gaussian_elimination(A, b, show_steps=False):\n",
    "    \"\"\"\n",
    "    Solve a system of linear equations using Gaussian elimination with backsubstitution.\n",
    "    \n",
    "    Parameters:\n",
    "        A (numpy.ndarray): Coefficient matrix of shape (n, n)\n",
    "        b (numpy.ndarray): Right-hand side vector of shape (n,)\n",
    "        show_steps (bool): Whether to print intermediate steps\n",
    "    \n",
    "    Returns:\n",
    "        numpy.ndarray: Solution vector x of shape (n,)\n",
    "    \"\"\"\n",
    "    # Check if A is square\n",
    "    n, m = A.shape\n",
    "    if n != m:\n",
    "        raise ValueError(\"Coefficient matrix A must be square\")\n",
    "    \n",
    "    # Check if b has compatible dimensions\n",
    "    if len(b) != m:\n",
    "        raise ValueError(\"Dimensions of A and b must be compatible\")\n",
    "    \n",
    "    # Create the augmented matrix [A|b]\n",
    "    augmented = np.column_stack((A.astype(float), b.astype(float)))\n",
    "   \n",
    "    if show_steps:\n",
    "        print(\"Initial augmented matrix:\")\n",
    "        display(print_matrix(augmented))\n",
    "        print(\"-\" * 40)\n",
    "    \n",
    "    # Forward elimination\n",
    "    for j in range(n-1):  # Only go to n-1 as we don't need to eliminate the last row\n",
    "        # Find the pivot row (row with the largest absolute value in column j)\n",
    "        pivot_row = j\n",
    "        for i in range(j + 1, n):\n",
    "            if abs(augmented[i, j]) > abs(augmented[pivot_row, j]):\n",
    "                pivot_row = i\n",
    "        \n",
    "        # Swap the current row with the pivot row\n",
    "        if pivot_row != j:\n",
    "            augmented[[j, pivot_row]] = augmented[[pivot_row, j]]\n",
    "            if show_steps:\n",
    "                print(f\"Swap rows {j+1} and {pivot_row+1}:\")\n",
    "                display(print_matrix(augmented))\n",
    "                print(\"-\" * 40)\n",
    "        \n",
    "        # Check if matrix is singular\n",
    "        if abs(augmented[j, j]) < 1e-10:\n",
    "            raise ValueError(\"Matrix is singular or nearly singular\")\n",
    "        \n",
    "        # Eliminate entries below the pivot\n",
    "        for i in range(j + 1, n):\n",
    "            factor = augmented[i, j] / augmented[j, j]\n",
    "            if abs(factor) > 1e-10:  # Only perform elimination if necessary\n",
    "                augmented[i] = augmented[i] - factor * augmented[j]\n",
    "                if show_steps:\n",
    "                    print(f\"Subtract {factor:.4f} times row {j+1} from row {i+1}:\")\n",
    "                    display(print_matrix(augmented))\n",
    "                    print(\"-\" * 40)\n",
    "    \n",
    "    if show_steps:\n",
    "        print(\"Upper triangular form:\")\n",
    "        display(print_matrix(augmented))\n",
    "        print(\"-\" * 40)\n",
    "    \n",
    "    # Check if the matrix is singular\n",
    "    if abs(augmented[n-1, n-1]) < 1e-10:\n",
    "        raise ValueError(\"Matrix is singular or nearly singular\")\n",
    "      \n",
    "    return augmented"
   ]
  },
  {
   "cell_type": "markdown",
   "id": "d7ab2378-9fd6-4747-abde-a5edf7100855",
   "metadata": {},
   "source": [
    "### Backsubstitution\n",
    "\n",
    "The backsubstitution phase solves for the unknowns starting from the last equation and moving upward. Mathematically, we solve:\n",
    "\n",
    "1. First, $x_n = \\frac{b_n'}{a_{nn}'}$\n",
    "2. Then, for $i = n-1, n-2, \\ldots, 1$:\n",
    "   $$x_i = \\frac{b_i' - \\sum_{j=i+1}^{n} a_{ij}'x_j}{a_{ii}'}$$"
   ]
  },
  {
   "cell_type": "code",
   "execution_count": 4,
   "id": "da5bd96f-379c-4612-9e41-4e4eeb920294",
   "metadata": {},
   "outputs": [],
   "source": [
    "def backsubstitution(augmented):\n",
    "    n = augmented.shape[0]\n",
    "    \n",
    "    # Backsubstitution\n",
    "    x = np.zeros(n)\n",
    "    for i in range(n-1, -1, -1):  # Start from the last row and move upward\n",
    "        x[i] = (augmented[i, n] - np.sum(augmented[i, i+1:n]*x[i+1:n]))/augmented[i, i]\n",
    "\n",
    "    return x"
   ]
  },
  {
   "cell_type": "markdown",
   "id": "f404402c-eb17-4f59-a187-a1fcae18a737",
   "metadata": {},
   "source": [
    "## 3. Examples\n",
    "\n",
    "### Example 1: Solving a simple 3x3 system"
   ]
  },
  {
   "cell_type": "code",
   "execution_count": 5,
   "id": "f2d15d3c-be9a-4f12-9587-aea3d2e710c5",
   "metadata": {},
   "outputs": [
    {
     "name": "stdout",
     "output_type": "stream",
     "text": [
      "\n",
      "Coefficient matrix A:\n",
      "[[ 2  1 -1]\n",
      " [-3 -1  2]\n",
      " [-2  7  2]]\n",
      "\n",
      "Right-hand side vector b:\n",
      "[  8 -19 -99]\n",
      "\n",
      "Augmented system:\n"
     ]
    },
    {
     "data": {
      "text/html": [
       "<style type=\"text/css\">\n",
       "#T_26a21_row0_col3, #T_26a21_row1_col3, #T_26a21_row2_col3 {\n",
       "  background-color: lightblue;\n",
       "}\n",
       "</style>\n",
       "<table id=\"T_26a21\">\n",
       "  <thead>\n",
       "    <tr>\n",
       "      <th class=\"blank level0\" >&nbsp;</th>\n",
       "      <th id=\"T_26a21_level0_col0\" class=\"col_heading level0 col0\" >A[:,1]</th>\n",
       "      <th id=\"T_26a21_level0_col1\" class=\"col_heading level0 col1\" >A[:,2]</th>\n",
       "      <th id=\"T_26a21_level0_col2\" class=\"col_heading level0 col2\" >A[:,3]</th>\n",
       "      <th id=\"T_26a21_level0_col3\" class=\"col_heading level0 col3\" >b</th>\n",
       "    </tr>\n",
       "  </thead>\n",
       "  <tbody>\n",
       "    <tr>\n",
       "      <th id=\"T_26a21_level0_row0\" class=\"row_heading level0 row0\" >1</th>\n",
       "      <td id=\"T_26a21_row0_col0\" class=\"data row0 col0\" >2</td>\n",
       "      <td id=\"T_26a21_row0_col1\" class=\"data row0 col1\" >1</td>\n",
       "      <td id=\"T_26a21_row0_col2\" class=\"data row0 col2\" >-1</td>\n",
       "      <td id=\"T_26a21_row0_col3\" class=\"data row0 col3\" >8</td>\n",
       "    </tr>\n",
       "    <tr>\n",
       "      <th id=\"T_26a21_level0_row1\" class=\"row_heading level0 row1\" >2</th>\n",
       "      <td id=\"T_26a21_row1_col0\" class=\"data row1 col0\" >-3</td>\n",
       "      <td id=\"T_26a21_row1_col1\" class=\"data row1 col1\" >-1</td>\n",
       "      <td id=\"T_26a21_row1_col2\" class=\"data row1 col2\" >2</td>\n",
       "      <td id=\"T_26a21_row1_col3\" class=\"data row1 col3\" >-19</td>\n",
       "    </tr>\n",
       "    <tr>\n",
       "      <th id=\"T_26a21_level0_row2\" class=\"row_heading level0 row2\" >3</th>\n",
       "      <td id=\"T_26a21_row2_col0\" class=\"data row2 col0\" >-2</td>\n",
       "      <td id=\"T_26a21_row2_col1\" class=\"data row2 col1\" >7</td>\n",
       "      <td id=\"T_26a21_row2_col2\" class=\"data row2 col2\" >2</td>\n",
       "      <td id=\"T_26a21_row2_col3\" class=\"data row2 col3\" >-99</td>\n",
       "    </tr>\n",
       "  </tbody>\n",
       "</table>\n"
      ],
      "text/plain": [
       "<pandas.io.formats.style.Styler at 0x7f976bb17c10>"
      ]
     },
     "execution_count": 5,
     "metadata": {},
     "output_type": "execute_result"
    }
   ],
   "source": [
    "A = np.array([\n",
    "    [ 2,  1, -1],\n",
    "    [-3, -1,  2],\n",
    "    [-2,  7,  2]\n",
    "])\n",
    "\n",
    "x = np.array([8, -11, -3])\n",
    "\n",
    "b = A @ x\n",
    "\n",
    "print(\"\\nCoefficient matrix A:\")\n",
    "print(A)\n",
    "print(\"\\nRight-hand side vector b:\")\n",
    "print(b)\n",
    "\n",
    "print(\"\\nAugmented system:\")\n",
    "print_matrix(np.column_stack((A, b)))"
   ]
  },
  {
   "cell_type": "code",
   "execution_count": 6,
   "id": "4db3af15-4624-44ea-a575-bf143a14f54a",
   "metadata": {},
   "outputs": [
    {
     "name": "stdout",
     "output_type": "stream",
     "text": [
      "\n",
      "Solution using our Gaussian elimination implementation:\n",
      "[  8. -11.  -3.]\n",
      "\n",
      "Verification A*x:\n",
      "[  8. -19. -99.]\n",
      "\n",
      "Solution using NumPy's solver:\n",
      "[  8. -11.  -3.]\n",
      "\n",
      "Our solution matches NumPy's: True\n",
      "\n",
      "Condition number of matrix: 36.32\n",
      "The system is well-conditioned.\n"
     ]
    }
   ],
   "source": [
    "try:\n",
    "    x = backsubstitution(gaussian_elimination(A, b))\n",
    "    print(\"\\nSolution using our Gaussian elimination implementation:\")\n",
    "    print(x)\n",
    "    \n",
    "    # Verify the solution\n",
    "    print(\"\\nVerification A*x:\")\n",
    "    print(A @ x)\n",
    "    \n",
    "    # Compare with NumPy's built-in solver\n",
    "    x_numpy = np.linalg.solve(A, b)\n",
    "    print(\"\\nSolution using NumPy's solver:\")\n",
    "    print(x_numpy)\n",
    "    \n",
    "    # Check if solutions are close\n",
    "    print(f\"\\nOur solution matches NumPy's: {np.allclose(x, x_numpy)}\")\n",
    "    \n",
    "except ValueError as error:\n",
    "    print(f\"Error: {error}\")\n",
    "\n",
    "# Condition number analysis\n",
    "cond = np.linalg.cond(A)\n",
    "print(f\"\\nCondition number of matrix: {cond:.2f}\")\n",
    "if cond < 100:\n",
    "    print(\"The system is well-conditioned.\")\n",
    "else:\n",
    "    print(\"The system is poorly conditioned, which may lead to numerical instability.\")    "
   ]
  },
  {
   "cell_type": "code",
   "execution_count": 7,
   "id": "13af38ac-dac5-48eb-a227-69a91c6cee8d",
   "metadata": {},
   "outputs": [
    {
     "name": "stdout",
     "output_type": "stream",
     "text": [
      "Initial augmented matrix:\n"
     ]
    },
    {
     "data": {
      "text/html": [
       "<style type=\"text/css\">\n",
       "#T_e6281_row0_col3, #T_e6281_row1_col3, #T_e6281_row2_col3 {\n",
       "  background-color: lightblue;\n",
       "}\n",
       "</style>\n",
       "<table id=\"T_e6281\">\n",
       "  <thead>\n",
       "    <tr>\n",
       "      <th class=\"blank level0\" >&nbsp;</th>\n",
       "      <th id=\"T_e6281_level0_col0\" class=\"col_heading level0 col0\" >A[:,1]</th>\n",
       "      <th id=\"T_e6281_level0_col1\" class=\"col_heading level0 col1\" >A[:,2]</th>\n",
       "      <th id=\"T_e6281_level0_col2\" class=\"col_heading level0 col2\" >A[:,3]</th>\n",
       "      <th id=\"T_e6281_level0_col3\" class=\"col_heading level0 col3\" >b</th>\n",
       "    </tr>\n",
       "  </thead>\n",
       "  <tbody>\n",
       "    <tr>\n",
       "      <th id=\"T_e6281_level0_row0\" class=\"row_heading level0 row0\" >1</th>\n",
       "      <td id=\"T_e6281_row0_col0\" class=\"data row0 col0\" >2.000000</td>\n",
       "      <td id=\"T_e6281_row0_col1\" class=\"data row0 col1\" >1.000000</td>\n",
       "      <td id=\"T_e6281_row0_col2\" class=\"data row0 col2\" >-1.000000</td>\n",
       "      <td id=\"T_e6281_row0_col3\" class=\"data row0 col3\" >8.000000</td>\n",
       "    </tr>\n",
       "    <tr>\n",
       "      <th id=\"T_e6281_level0_row1\" class=\"row_heading level0 row1\" >2</th>\n",
       "      <td id=\"T_e6281_row1_col0\" class=\"data row1 col0\" >-3.000000</td>\n",
       "      <td id=\"T_e6281_row1_col1\" class=\"data row1 col1\" >-1.000000</td>\n",
       "      <td id=\"T_e6281_row1_col2\" class=\"data row1 col2\" >2.000000</td>\n",
       "      <td id=\"T_e6281_row1_col3\" class=\"data row1 col3\" >-19.000000</td>\n",
       "    </tr>\n",
       "    <tr>\n",
       "      <th id=\"T_e6281_level0_row2\" class=\"row_heading level0 row2\" >3</th>\n",
       "      <td id=\"T_e6281_row2_col0\" class=\"data row2 col0\" >-2.000000</td>\n",
       "      <td id=\"T_e6281_row2_col1\" class=\"data row2 col1\" >7.000000</td>\n",
       "      <td id=\"T_e6281_row2_col2\" class=\"data row2 col2\" >2.000000</td>\n",
       "      <td id=\"T_e6281_row2_col3\" class=\"data row2 col3\" >-99.000000</td>\n",
       "    </tr>\n",
       "  </tbody>\n",
       "</table>\n"
      ],
      "text/plain": [
       "<pandas.io.formats.style.Styler at 0x7f9766145710>"
      ]
     },
     "metadata": {},
     "output_type": "display_data"
    },
    {
     "name": "stdout",
     "output_type": "stream",
     "text": [
      "----------------------------------------\n",
      "Swap rows 1 and 2:\n"
     ]
    },
    {
     "data": {
      "text/html": [
       "<style type=\"text/css\">\n",
       "#T_1d3c0_row0_col3, #T_1d3c0_row1_col3, #T_1d3c0_row2_col3 {\n",
       "  background-color: lightblue;\n",
       "}\n",
       "</style>\n",
       "<table id=\"T_1d3c0\">\n",
       "  <thead>\n",
       "    <tr>\n",
       "      <th class=\"blank level0\" >&nbsp;</th>\n",
       "      <th id=\"T_1d3c0_level0_col0\" class=\"col_heading level0 col0\" >A[:,1]</th>\n",
       "      <th id=\"T_1d3c0_level0_col1\" class=\"col_heading level0 col1\" >A[:,2]</th>\n",
       "      <th id=\"T_1d3c0_level0_col2\" class=\"col_heading level0 col2\" >A[:,3]</th>\n",
       "      <th id=\"T_1d3c0_level0_col3\" class=\"col_heading level0 col3\" >b</th>\n",
       "    </tr>\n",
       "  </thead>\n",
       "  <tbody>\n",
       "    <tr>\n",
       "      <th id=\"T_1d3c0_level0_row0\" class=\"row_heading level0 row0\" >1</th>\n",
       "      <td id=\"T_1d3c0_row0_col0\" class=\"data row0 col0\" >-3.000000</td>\n",
       "      <td id=\"T_1d3c0_row0_col1\" class=\"data row0 col1\" >-1.000000</td>\n",
       "      <td id=\"T_1d3c0_row0_col2\" class=\"data row0 col2\" >2.000000</td>\n",
       "      <td id=\"T_1d3c0_row0_col3\" class=\"data row0 col3\" >-19.000000</td>\n",
       "    </tr>\n",
       "    <tr>\n",
       "      <th id=\"T_1d3c0_level0_row1\" class=\"row_heading level0 row1\" >2</th>\n",
       "      <td id=\"T_1d3c0_row1_col0\" class=\"data row1 col0\" >2.000000</td>\n",
       "      <td id=\"T_1d3c0_row1_col1\" class=\"data row1 col1\" >1.000000</td>\n",
       "      <td id=\"T_1d3c0_row1_col2\" class=\"data row1 col2\" >-1.000000</td>\n",
       "      <td id=\"T_1d3c0_row1_col3\" class=\"data row1 col3\" >8.000000</td>\n",
       "    </tr>\n",
       "    <tr>\n",
       "      <th id=\"T_1d3c0_level0_row2\" class=\"row_heading level0 row2\" >3</th>\n",
       "      <td id=\"T_1d3c0_row2_col0\" class=\"data row2 col0\" >-2.000000</td>\n",
       "      <td id=\"T_1d3c0_row2_col1\" class=\"data row2 col1\" >7.000000</td>\n",
       "      <td id=\"T_1d3c0_row2_col2\" class=\"data row2 col2\" >2.000000</td>\n",
       "      <td id=\"T_1d3c0_row2_col3\" class=\"data row2 col3\" >-99.000000</td>\n",
       "    </tr>\n",
       "  </tbody>\n",
       "</table>\n"
      ],
      "text/plain": [
       "<pandas.io.formats.style.Styler at 0x7f9774af14d0>"
      ]
     },
     "metadata": {},
     "output_type": "display_data"
    },
    {
     "name": "stdout",
     "output_type": "stream",
     "text": [
      "----------------------------------------\n",
      "Subtract -0.6667 times row 1 from row 2:\n"
     ]
    },
    {
     "data": {
      "text/html": [
       "<style type=\"text/css\">\n",
       "#T_5e15a_row0_col3, #T_5e15a_row1_col3, #T_5e15a_row2_col3 {\n",
       "  background-color: lightblue;\n",
       "}\n",
       "</style>\n",
       "<table id=\"T_5e15a\">\n",
       "  <thead>\n",
       "    <tr>\n",
       "      <th class=\"blank level0\" >&nbsp;</th>\n",
       "      <th id=\"T_5e15a_level0_col0\" class=\"col_heading level0 col0\" >A[:,1]</th>\n",
       "      <th id=\"T_5e15a_level0_col1\" class=\"col_heading level0 col1\" >A[:,2]</th>\n",
       "      <th id=\"T_5e15a_level0_col2\" class=\"col_heading level0 col2\" >A[:,3]</th>\n",
       "      <th id=\"T_5e15a_level0_col3\" class=\"col_heading level0 col3\" >b</th>\n",
       "    </tr>\n",
       "  </thead>\n",
       "  <tbody>\n",
       "    <tr>\n",
       "      <th id=\"T_5e15a_level0_row0\" class=\"row_heading level0 row0\" >1</th>\n",
       "      <td id=\"T_5e15a_row0_col0\" class=\"data row0 col0\" >-3.000000</td>\n",
       "      <td id=\"T_5e15a_row0_col1\" class=\"data row0 col1\" >-1.000000</td>\n",
       "      <td id=\"T_5e15a_row0_col2\" class=\"data row0 col2\" >2.000000</td>\n",
       "      <td id=\"T_5e15a_row0_col3\" class=\"data row0 col3\" >-19.000000</td>\n",
       "    </tr>\n",
       "    <tr>\n",
       "      <th id=\"T_5e15a_level0_row1\" class=\"row_heading level0 row1\" >2</th>\n",
       "      <td id=\"T_5e15a_row1_col0\" class=\"data row1 col0\" >0.000000</td>\n",
       "      <td id=\"T_5e15a_row1_col1\" class=\"data row1 col1\" >0.333300</td>\n",
       "      <td id=\"T_5e15a_row1_col2\" class=\"data row1 col2\" >0.333300</td>\n",
       "      <td id=\"T_5e15a_row1_col3\" class=\"data row1 col3\" >-4.666700</td>\n",
       "    </tr>\n",
       "    <tr>\n",
       "      <th id=\"T_5e15a_level0_row2\" class=\"row_heading level0 row2\" >3</th>\n",
       "      <td id=\"T_5e15a_row2_col0\" class=\"data row2 col0\" >-2.000000</td>\n",
       "      <td id=\"T_5e15a_row2_col1\" class=\"data row2 col1\" >7.000000</td>\n",
       "      <td id=\"T_5e15a_row2_col2\" class=\"data row2 col2\" >2.000000</td>\n",
       "      <td id=\"T_5e15a_row2_col3\" class=\"data row2 col3\" >-99.000000</td>\n",
       "    </tr>\n",
       "  </tbody>\n",
       "</table>\n"
      ],
      "text/plain": [
       "<pandas.io.formats.style.Styler at 0x7f976618e350>"
      ]
     },
     "metadata": {},
     "output_type": "display_data"
    },
    {
     "name": "stdout",
     "output_type": "stream",
     "text": [
      "----------------------------------------\n",
      "Subtract 0.6667 times row 1 from row 3:\n"
     ]
    },
    {
     "data": {
      "text/html": [
       "<style type=\"text/css\">\n",
       "#T_98455_row0_col3, #T_98455_row1_col3, #T_98455_row2_col3 {\n",
       "  background-color: lightblue;\n",
       "}\n",
       "</style>\n",
       "<table id=\"T_98455\">\n",
       "  <thead>\n",
       "    <tr>\n",
       "      <th class=\"blank level0\" >&nbsp;</th>\n",
       "      <th id=\"T_98455_level0_col0\" class=\"col_heading level0 col0\" >A[:,1]</th>\n",
       "      <th id=\"T_98455_level0_col1\" class=\"col_heading level0 col1\" >A[:,2]</th>\n",
       "      <th id=\"T_98455_level0_col2\" class=\"col_heading level0 col2\" >A[:,3]</th>\n",
       "      <th id=\"T_98455_level0_col3\" class=\"col_heading level0 col3\" >b</th>\n",
       "    </tr>\n",
       "  </thead>\n",
       "  <tbody>\n",
       "    <tr>\n",
       "      <th id=\"T_98455_level0_row0\" class=\"row_heading level0 row0\" >1</th>\n",
       "      <td id=\"T_98455_row0_col0\" class=\"data row0 col0\" >-3.000000</td>\n",
       "      <td id=\"T_98455_row0_col1\" class=\"data row0 col1\" >-1.000000</td>\n",
       "      <td id=\"T_98455_row0_col2\" class=\"data row0 col2\" >2.000000</td>\n",
       "      <td id=\"T_98455_row0_col3\" class=\"data row0 col3\" >-19.000000</td>\n",
       "    </tr>\n",
       "    <tr>\n",
       "      <th id=\"T_98455_level0_row1\" class=\"row_heading level0 row1\" >2</th>\n",
       "      <td id=\"T_98455_row1_col0\" class=\"data row1 col0\" >0.000000</td>\n",
       "      <td id=\"T_98455_row1_col1\" class=\"data row1 col1\" >0.333300</td>\n",
       "      <td id=\"T_98455_row1_col2\" class=\"data row1 col2\" >0.333300</td>\n",
       "      <td id=\"T_98455_row1_col3\" class=\"data row1 col3\" >-4.666700</td>\n",
       "    </tr>\n",
       "    <tr>\n",
       "      <th id=\"T_98455_level0_row2\" class=\"row_heading level0 row2\" >3</th>\n",
       "      <td id=\"T_98455_row2_col0\" class=\"data row2 col0\" >0.000000</td>\n",
       "      <td id=\"T_98455_row2_col1\" class=\"data row2 col1\" >7.666700</td>\n",
       "      <td id=\"T_98455_row2_col2\" class=\"data row2 col2\" >0.666700</td>\n",
       "      <td id=\"T_98455_row2_col3\" class=\"data row2 col3\" >-86.333300</td>\n",
       "    </tr>\n",
       "  </tbody>\n",
       "</table>\n"
      ],
      "text/plain": [
       "<pandas.io.formats.style.Styler at 0x7f9766d3b750>"
      ]
     },
     "metadata": {},
     "output_type": "display_data"
    },
    {
     "name": "stdout",
     "output_type": "stream",
     "text": [
      "----------------------------------------\n",
      "Swap rows 2 and 3:\n"
     ]
    },
    {
     "data": {
      "text/html": [
       "<style type=\"text/css\">\n",
       "#T_d5cc7_row0_col3, #T_d5cc7_row1_col3, #T_d5cc7_row2_col3 {\n",
       "  background-color: lightblue;\n",
       "}\n",
       "</style>\n",
       "<table id=\"T_d5cc7\">\n",
       "  <thead>\n",
       "    <tr>\n",
       "      <th class=\"blank level0\" >&nbsp;</th>\n",
       "      <th id=\"T_d5cc7_level0_col0\" class=\"col_heading level0 col0\" >A[:,1]</th>\n",
       "      <th id=\"T_d5cc7_level0_col1\" class=\"col_heading level0 col1\" >A[:,2]</th>\n",
       "      <th id=\"T_d5cc7_level0_col2\" class=\"col_heading level0 col2\" >A[:,3]</th>\n",
       "      <th id=\"T_d5cc7_level0_col3\" class=\"col_heading level0 col3\" >b</th>\n",
       "    </tr>\n",
       "  </thead>\n",
       "  <tbody>\n",
       "    <tr>\n",
       "      <th id=\"T_d5cc7_level0_row0\" class=\"row_heading level0 row0\" >1</th>\n",
       "      <td id=\"T_d5cc7_row0_col0\" class=\"data row0 col0\" >-3.000000</td>\n",
       "      <td id=\"T_d5cc7_row0_col1\" class=\"data row0 col1\" >-1.000000</td>\n",
       "      <td id=\"T_d5cc7_row0_col2\" class=\"data row0 col2\" >2.000000</td>\n",
       "      <td id=\"T_d5cc7_row0_col3\" class=\"data row0 col3\" >-19.000000</td>\n",
       "    </tr>\n",
       "    <tr>\n",
       "      <th id=\"T_d5cc7_level0_row1\" class=\"row_heading level0 row1\" >2</th>\n",
       "      <td id=\"T_d5cc7_row1_col0\" class=\"data row1 col0\" >0.000000</td>\n",
       "      <td id=\"T_d5cc7_row1_col1\" class=\"data row1 col1\" >7.666700</td>\n",
       "      <td id=\"T_d5cc7_row1_col2\" class=\"data row1 col2\" >0.666700</td>\n",
       "      <td id=\"T_d5cc7_row1_col3\" class=\"data row1 col3\" >-86.333300</td>\n",
       "    </tr>\n",
       "    <tr>\n",
       "      <th id=\"T_d5cc7_level0_row2\" class=\"row_heading level0 row2\" >3</th>\n",
       "      <td id=\"T_d5cc7_row2_col0\" class=\"data row2 col0\" >0.000000</td>\n",
       "      <td id=\"T_d5cc7_row2_col1\" class=\"data row2 col1\" >0.333300</td>\n",
       "      <td id=\"T_d5cc7_row2_col2\" class=\"data row2 col2\" >0.333300</td>\n",
       "      <td id=\"T_d5cc7_row2_col3\" class=\"data row2 col3\" >-4.666700</td>\n",
       "    </tr>\n",
       "  </tbody>\n",
       "</table>\n"
      ],
      "text/plain": [
       "<pandas.io.formats.style.Styler at 0x7f976613d090>"
      ]
     },
     "metadata": {},
     "output_type": "display_data"
    },
    {
     "name": "stdout",
     "output_type": "stream",
     "text": [
      "----------------------------------------\n",
      "Subtract 0.0435 times row 2 from row 3:\n"
     ]
    },
    {
     "data": {
      "text/html": [
       "<style type=\"text/css\">\n",
       "#T_c4355_row0_col3, #T_c4355_row1_col3, #T_c4355_row2_col3 {\n",
       "  background-color: lightblue;\n",
       "}\n",
       "</style>\n",
       "<table id=\"T_c4355\">\n",
       "  <thead>\n",
       "    <tr>\n",
       "      <th class=\"blank level0\" >&nbsp;</th>\n",
       "      <th id=\"T_c4355_level0_col0\" class=\"col_heading level0 col0\" >A[:,1]</th>\n",
       "      <th id=\"T_c4355_level0_col1\" class=\"col_heading level0 col1\" >A[:,2]</th>\n",
       "      <th id=\"T_c4355_level0_col2\" class=\"col_heading level0 col2\" >A[:,3]</th>\n",
       "      <th id=\"T_c4355_level0_col3\" class=\"col_heading level0 col3\" >b</th>\n",
       "    </tr>\n",
       "  </thead>\n",
       "  <tbody>\n",
       "    <tr>\n",
       "      <th id=\"T_c4355_level0_row0\" class=\"row_heading level0 row0\" >1</th>\n",
       "      <td id=\"T_c4355_row0_col0\" class=\"data row0 col0\" >-3.000000</td>\n",
       "      <td id=\"T_c4355_row0_col1\" class=\"data row0 col1\" >-1.000000</td>\n",
       "      <td id=\"T_c4355_row0_col2\" class=\"data row0 col2\" >2.000000</td>\n",
       "      <td id=\"T_c4355_row0_col3\" class=\"data row0 col3\" >-19.000000</td>\n",
       "    </tr>\n",
       "    <tr>\n",
       "      <th id=\"T_c4355_level0_row1\" class=\"row_heading level0 row1\" >2</th>\n",
       "      <td id=\"T_c4355_row1_col0\" class=\"data row1 col0\" >0.000000</td>\n",
       "      <td id=\"T_c4355_row1_col1\" class=\"data row1 col1\" >7.666700</td>\n",
       "      <td id=\"T_c4355_row1_col2\" class=\"data row1 col2\" >0.666700</td>\n",
       "      <td id=\"T_c4355_row1_col3\" class=\"data row1 col3\" >-86.333300</td>\n",
       "    </tr>\n",
       "    <tr>\n",
       "      <th id=\"T_c4355_level0_row2\" class=\"row_heading level0 row2\" >3</th>\n",
       "      <td id=\"T_c4355_row2_col0\" class=\"data row2 col0\" >0.000000</td>\n",
       "      <td id=\"T_c4355_row2_col1\" class=\"data row2 col1\" >0.000000</td>\n",
       "      <td id=\"T_c4355_row2_col2\" class=\"data row2 col2\" >0.304300</td>\n",
       "      <td id=\"T_c4355_row2_col3\" class=\"data row2 col3\" >-0.913000</td>\n",
       "    </tr>\n",
       "  </tbody>\n",
       "</table>\n"
      ],
      "text/plain": [
       "<pandas.io.formats.style.Styler at 0x7f97ae0ec190>"
      ]
     },
     "metadata": {},
     "output_type": "display_data"
    },
    {
     "name": "stdout",
     "output_type": "stream",
     "text": [
      "----------------------------------------\n",
      "Upper triangular form:\n"
     ]
    },
    {
     "data": {
      "text/html": [
       "<style type=\"text/css\">\n",
       "#T_df973_row0_col3, #T_df973_row1_col3, #T_df973_row2_col3 {\n",
       "  background-color: lightblue;\n",
       "}\n",
       "</style>\n",
       "<table id=\"T_df973\">\n",
       "  <thead>\n",
       "    <tr>\n",
       "      <th class=\"blank level0\" >&nbsp;</th>\n",
       "      <th id=\"T_df973_level0_col0\" class=\"col_heading level0 col0\" >A[:,1]</th>\n",
       "      <th id=\"T_df973_level0_col1\" class=\"col_heading level0 col1\" >A[:,2]</th>\n",
       "      <th id=\"T_df973_level0_col2\" class=\"col_heading level0 col2\" >A[:,3]</th>\n",
       "      <th id=\"T_df973_level0_col3\" class=\"col_heading level0 col3\" >b</th>\n",
       "    </tr>\n",
       "  </thead>\n",
       "  <tbody>\n",
       "    <tr>\n",
       "      <th id=\"T_df973_level0_row0\" class=\"row_heading level0 row0\" >1</th>\n",
       "      <td id=\"T_df973_row0_col0\" class=\"data row0 col0\" >-3.000000</td>\n",
       "      <td id=\"T_df973_row0_col1\" class=\"data row0 col1\" >-1.000000</td>\n",
       "      <td id=\"T_df973_row0_col2\" class=\"data row0 col2\" >2.000000</td>\n",
       "      <td id=\"T_df973_row0_col3\" class=\"data row0 col3\" >-19.000000</td>\n",
       "    </tr>\n",
       "    <tr>\n",
       "      <th id=\"T_df973_level0_row1\" class=\"row_heading level0 row1\" >2</th>\n",
       "      <td id=\"T_df973_row1_col0\" class=\"data row1 col0\" >0.000000</td>\n",
       "      <td id=\"T_df973_row1_col1\" class=\"data row1 col1\" >7.666700</td>\n",
       "      <td id=\"T_df973_row1_col2\" class=\"data row1 col2\" >0.666700</td>\n",
       "      <td id=\"T_df973_row1_col3\" class=\"data row1 col3\" >-86.333300</td>\n",
       "    </tr>\n",
       "    <tr>\n",
       "      <th id=\"T_df973_level0_row2\" class=\"row_heading level0 row2\" >3</th>\n",
       "      <td id=\"T_df973_row2_col0\" class=\"data row2 col0\" >0.000000</td>\n",
       "      <td id=\"T_df973_row2_col1\" class=\"data row2 col1\" >0.000000</td>\n",
       "      <td id=\"T_df973_row2_col2\" class=\"data row2 col2\" >0.304300</td>\n",
       "      <td id=\"T_df973_row2_col3\" class=\"data row2 col3\" >-0.913000</td>\n",
       "    </tr>\n",
       "  </tbody>\n",
       "</table>\n"
      ],
      "text/plain": [
       "<pandas.io.formats.style.Styler at 0x7f976612d410>"
      ]
     },
     "metadata": {},
     "output_type": "display_data"
    },
    {
     "name": "stdout",
     "output_type": "stream",
     "text": [
      "----------------------------------------\n"
     ]
    }
   ],
   "source": [
    "x = backsubstitution(gaussian_elimination(A, b, show_steps=True))"
   ]
  },
  {
   "cell_type": "markdown",
   "id": "0e171c73-d837-493d-96c4-d1d94f008f20",
   "metadata": {},
   "source": [
    "### Example 2: Ill-conditioned system"
   ]
  },
  {
   "cell_type": "code",
   "execution_count": 8,
   "id": "20441ada-9623-4967-b485-cd3d12ed77f4",
   "metadata": {},
   "outputs": [
    {
     "name": "stdout",
     "output_type": "stream",
     "text": [
      "\n",
      "\n",
      "Ill-conditioned system\n",
      "Coefficient matrix A:\n",
      "[[1. 1.]\n",
      " [1. 1.]]\n",
      "\n",
      "Right-hand side vector b:\n",
      "[2. 2.]\n",
      "Error: Matrix is singular or nearly singular\n",
      "\n",
      "Condition number of matrix: 59617770476389832.00\n",
      "The system is poorly conditioned, which may lead to numerical instability.\n"
     ]
    }
   ],
   "source": [
    "A = np.array([\n",
    "    [1, 1],\n",
    "    [1, 1.000000000000000001]\n",
    "])\n",
    "\n",
    "b = np.array([2, 2.000000000000000001])\n",
    "\n",
    "print(\"\\n\\nIll-conditioned system\")\n",
    "print(\"Coefficient matrix A:\")\n",
    "print(A)\n",
    "print(\"\\nRight-hand side vector b:\")\n",
    "print(b)\n",
    "\n",
    "try:\n",
    "    x = backsubstitution(gaussian_elimination(A, b))\n",
    "    print(\"\\nSolution using our Gauss-Jordan implementation:\")\n",
    "    print(x)\n",
    "    \n",
    "    # Verify the solution\n",
    "    print(\"\\nVerification A*x:\")\n",
    "    print(A @ x)\n",
    "    \n",
    "    # Compare with NumPy's built-in solver\n",
    "    x_numpy = np.linalg.solve(A, b)\n",
    "    print(\"\\nSolution using NumPy's solver:\")\n",
    "    print(x_numpy)\n",
    "    \n",
    "except ValueError as error:\n",
    "    print(f\"Error: {error}\")\n",
    "\n",
    "# Condition number analysis\n",
    "cond = np.linalg.cond(A)\n",
    "print(f\"\\nCondition number of matrix: {cond:.2f}\")\n",
    "if cond < 100:\n",
    "    print(\"The system is well-conditioned.\")\n",
    "else:\n",
    "    print(\"The system is poorly conditioned, which may lead to numerical instability.\")"
   ]
  },
  {
   "cell_type": "markdown",
   "id": "f4b16b22-300a-4846-9072-2cf0137f694a",
   "metadata": {},
   "source": [
    "## 4. Large System Performance"
   ]
  },
  {
   "cell_type": "code",
   "execution_count": 9,
   "id": "851da087-02af-4c30-a0bb-69587dc932d6",
   "metadata": {},
   "outputs": [],
   "source": [
    "def compare_performance(sizes):\n",
    "    \"\"\"Compare performance of our implementation versus NumPy for different matrix sizes.\"\"\"\n",
    "\n",
    "    gj_times = []\n",
    "    np_times = []\n",
    "    gj_residuals = []\n",
    "    np_residuals = []\n",
    "\n",
    "    # Create a seed for reproducibility\n",
    "    np.random.seed(42)\n",
    "\n",
    "    for n in sizes:\n",
    "        # Generate a random matrix\n",
    "        A = np.random.rand(n, n)\n",
    "\n",
    "        # Create a known solution\n",
    "        x_true = np.random.rand(n) * 10\n",
    "\n",
    "        # Compute the right-hand side\n",
    "        b = A @ x_true\n",
    "\n",
    "        # Time our implementation\n",
    "        start = time.time()\n",
    "        try:\n",
    "            x_gj = backsubstitution(gaussian_elimination(A.copy(), b.copy()))\n",
    "            gj_time = time.time() - start\n",
    "            gj_times.append(gj_time)\n",
    "\n",
    "        except Exception as error:\n",
    "            print(f\"Gauss-Jordan failed: {error}\")\n",
    "            gj_times.append(np.nan)\n",
    "\n",
    "        # Time NumPy's implementation\n",
    "        start = time.time()\n",
    "        x_np = np.linalg.solve(A, b)\n",
    "        np_time = time.time() - start\n",
    "        np_times.append(np_time)\n",
    "\n",
    "        # Check if solution satisfies the original system\n",
    "        gj_residuals.append(np.linalg.norm(A @ x_gj - b))\n",
    "        np_residuals.append(np.linalg.norm(A @ x_np - b))\n",
    "\n",
    "    # Pack all stats in a pandas' dataframe\n",
    "    df = pd.DataFrame({\n",
    "        'Size':           sizes,\n",
    "        'Time GJ':        gj_times,\n",
    "        'Time NumPy':     np_times,\n",
    "        'Residual GJ':    gj_residuals,\n",
    "        'Residual NumPy': np_residuals\n",
    "    })\n",
    "    return df"
   ]
  },
  {
   "cell_type": "code",
   "execution_count": 10,
   "id": "3c5443aa-4071-47ac-bcf0-c06d12286b4a",
   "metadata": {},
   "outputs": [
    {
     "name": "stdout",
     "output_type": "stream",
     "text": [
      "\n",
      "\n",
      "Performance Comparison:\n"
     ]
    },
    {
     "data": {
      "text/html": [
       "<div>\n",
       "<style scoped>\n",
       "    .dataframe tbody tr th:only-of-type {\n",
       "        vertical-align: middle;\n",
       "    }\n",
       "\n",
       "    .dataframe tbody tr th {\n",
       "        vertical-align: top;\n",
       "    }\n",
       "\n",
       "    .dataframe thead th {\n",
       "        text-align: right;\n",
       "    }\n",
       "</style>\n",
       "<table border=\"1\" class=\"dataframe\">\n",
       "  <thead>\n",
       "    <tr style=\"text-align: right;\">\n",
       "      <th></th>\n",
       "      <th>Size</th>\n",
       "      <th>Time GJ</th>\n",
       "      <th>Time NumPy</th>\n",
       "      <th>Residual GJ</th>\n",
       "      <th>Residual NumPy</th>\n",
       "    </tr>\n",
       "  </thead>\n",
       "  <tbody>\n",
       "    <tr>\n",
       "      <th>0</th>\n",
       "      <td>10</td>\n",
       "      <td>0.000949</td>\n",
       "      <td>0.000114</td>\n",
       "      <td>7.105427e-15</td>\n",
       "      <td>5.024296e-15</td>\n",
       "    </tr>\n",
       "    <tr>\n",
       "      <th>1</th>\n",
       "      <td>20</td>\n",
       "      <td>0.001789</td>\n",
       "      <td>0.000088</td>\n",
       "      <td>4.081757e-14</td>\n",
       "      <td>2.751920e-14</td>\n",
       "    </tr>\n",
       "    <tr>\n",
       "      <th>2</th>\n",
       "      <td>50</td>\n",
       "      <td>0.004811</td>\n",
       "      <td>0.000231</td>\n",
       "      <td>1.537139e-13</td>\n",
       "      <td>1.406803e-13</td>\n",
       "    </tr>\n",
       "    <tr>\n",
       "      <th>3</th>\n",
       "      <td>100</td>\n",
       "      <td>0.025552</td>\n",
       "      <td>0.000281</td>\n",
       "      <td>3.253013e-13</td>\n",
       "      <td>4.167441e-13</td>\n",
       "    </tr>\n",
       "    <tr>\n",
       "      <th>4</th>\n",
       "      <td>200</td>\n",
       "      <td>0.134793</td>\n",
       "      <td>0.000723</td>\n",
       "      <td>1.462545e-12</td>\n",
       "      <td>4.249212e-12</td>\n",
       "    </tr>\n",
       "    <tr>\n",
       "      <th>5</th>\n",
       "      <td>500</td>\n",
       "      <td>0.634349</td>\n",
       "      <td>0.002420</td>\n",
       "      <td>7.954830e-12</td>\n",
       "      <td>3.827517e-11</td>\n",
       "    </tr>\n",
       "    <tr>\n",
       "      <th>6</th>\n",
       "      <td>1000</td>\n",
       "      <td>2.728331</td>\n",
       "      <td>0.012946</td>\n",
       "      <td>2.824197e-11</td>\n",
       "      <td>9.710959e-11</td>\n",
       "    </tr>\n",
       "    <tr>\n",
       "      <th>7</th>\n",
       "      <td>2000</td>\n",
       "      <td>14.358639</td>\n",
       "      <td>0.077778</td>\n",
       "      <td>9.810746e-11</td>\n",
       "      <td>5.957253e-10</td>\n",
       "    </tr>\n",
       "  </tbody>\n",
       "</table>\n",
       "</div>"
      ],
      "text/plain": [
       "   Size    Time GJ  Time NumPy   Residual GJ  Residual NumPy\n",
       "0    10   0.000949    0.000114  7.105427e-15    5.024296e-15\n",
       "1    20   0.001789    0.000088  4.081757e-14    2.751920e-14\n",
       "2    50   0.004811    0.000231  1.537139e-13    1.406803e-13\n",
       "3   100   0.025552    0.000281  3.253013e-13    4.167441e-13\n",
       "4   200   0.134793    0.000723  1.462545e-12    4.249212e-12\n",
       "5   500   0.634349    0.002420  7.954830e-12    3.827517e-11\n",
       "6  1000   2.728331    0.012946  2.824197e-11    9.710959e-11\n",
       "7  2000  14.358639    0.077778  9.810746e-11    5.957253e-10"
      ]
     },
     "metadata": {},
     "output_type": "display_data"
    }
   ],
   "source": [
    "# Compare performance for matrices of different sizes\n",
    "print(\"\\n\\nPerformance Comparison:\")\n",
    "sizes = [10, 20, 50, 100, 200, 500, 1000, 2000]\n",
    "df = compare_performance(sizes)\n",
    "display(df)"
   ]
  },
  {
   "cell_type": "code",
   "execution_count": 11,
   "id": "fc9b63f9-87c4-4680-bd7d-dcb41ae2dbcd",
   "metadata": {},
   "outputs": [
    {
     "data": {
      "image/png": "[encoded data removed]",
      "text/plain": [
       "<Figure size 1000x600 with 1 Axes>"
      ]
     },
     "metadata": {},
     "output_type": "display_data"
    }
   ],
   "source": [
    "# Plot the performance comparison\n",
    "gj_times = df['Time GJ']\n",
    "np_times = df['Time NumPy']\n",
    "\n",
    "plt.figure(figsize=(10, 6))\n",
    "plt.plot(sizes, gj_times, 'o-', label='Gauss-Jordan Implementation')\n",
    "plt.plot(sizes, np_times, 's-', label='NumPy Implementation')\n",
    "plt.xlabel('Matrix Size (n)')\n",
    "plt.ylabel('Time (seconds)')\n",
    "plt.title('Performance Comparison: Gauss-Jordan vs NumPy')\n",
    "plt.legend()\n",
    "plt.grid(True)\n",
    "plt.xscale('log')\n",
    "plt.yscale('log')\n",
    "\n",
    "#k, log_a = np.polyfit(np.log(sizes), np.log(gj_times), 1)\n",
    "#plt.plot(sizes, np.exp(log_a)*sizes**k)\n",
    "\n",
    "plt.show()"
   ]
  },
  {
   "cell_type": "markdown",
   "id": "7bdc5bf9-9e83-4d0b-9be9-2cc08eadc2d9",
   "metadata": {},
   "source": [
    "When data follows a straight line in a log-log plot, it indicates that the relationship between the two variables adheres to a *power law*. Specifically, the data can be modeled by an equation of the form $y = ax^k$. To show that, take the logarithm of both sides of the power law equation transforms it into:\n",
    "$$\n",
    "   \\log(y) = \\log(a) + k\\log(x)\n",
    "$$\n",
    "This is a linear equation where $k$ is the slope of the line and $\\log(a)$ is the intercept."
   ]
  },
  {
   "cell_type": "code",
   "execution_count": 12,
   "id": "1b124a86-c0da-45de-870f-4fd88dce46fa",
   "metadata": {},
   "outputs": [
    {
     "name": "stdout",
     "output_type": "stream",
     "text": [
      "k = 1.868892222681182\n",
      "a = 6.514479304411747e-06\n"
     ]
    }
   ],
   "source": [
    "k, log_a = np.polyfit(np.log(sizes), np.log(gj_times), 1)\n",
    "print(\"k =\", k)\n",
    "print(\"a =\", np.exp(log_a))"
   ]
  },
  {
   "cell_type": "markdown",
   "id": "f7bf39eb-942b-4f18-8edd-909bddb9c02c",
   "metadata": {},
   "source": [
    "## Key Differences from Gauss-Jordan Elimination\n",
    "\n",
    "1. **Computational Efficiency**: Gaussian elimination requires approximately $\\frac{2n^3}{3}$ floating-point operations, whereas Gauss-Jordan requires approximately $n^3$.\n",
    "2. **Matrix Form**: Gaussian elimination produces an upper triangular matrix, while Gauss-Jordan produces a reduced row echelon form (identity matrix).\n",
    "3. **Solution Process**: Gaussian elimination requires a separate backsubstitution step, while in Gauss-Jordan, the solution is directly available in the last column of the augmented matrix.\n",
    "\n",
    "## Numerical Stability Considerations\n",
    "\n",
    "The implementation includes several techniques to enhance numerical stability:\n",
    "\n",
    "1. **Partial Pivoting**: Selects the largest element in the current column as the pivot.\n",
    "2. **Threshold Checks**: Verifies if the pivot is too small, indicating a singular matrix.\n",
    "3. **Selective Elimination**: Only performs elimination when the factor is significant.\n",
    "\n",
    "## Practical Considerations\n",
    "\n",
    "### Advantages of Gaussian Elimination\n",
    "\n",
    "- More computationally efficient than Gauss-Jordan elimination\n",
    "- Provides the upper triangular form, which is useful for calculating determinants and LU decomposition\n",
    "\n",
    "### Limitations\n",
    "\n",
    "- May suffer from round-off errors in floating-point arithmetic\n",
    "- Not as numerically stable as LU decomposition with partial pivoting\n",
    "- Does not directly provide the inverse of the matrix\n",
    "\n",
    "## Extensions and Variants\n",
    "\n",
    "- **LU Decomposition**: A factorization method that builds on Gaussian elimination\n",
    "- **Cholesky Decomposition**: For symmetric positive definite matrices\n",
    "- **QR Factorization**: More stable for some applications\n",
    "- **Iterative Methods**: For very large, sparse systems where direct methods are impractical\n",
    "\n",
    "## Conclusion\n",
    "\n",
    "Gaussian elimination with backsubstitution is a fundamental numerical method for solving systems of linear equations. While not as comprehensive as Gauss-Jordan elimination, it is more computationally efficient and serves as the foundation for many advanced numerical techniques.\n",
    "\n",
    "Understanding both the mathematical theory and implementation details presented in this tutorial provides a solid foundation for tackling more complex linear algebra problems and numerical methods."
   ]
  }
 ],
 "metadata": {
  "kernelspec": {
   "display_name": "Python 3 (ipykernel)",
   "language": "python",
   "name": "python3"
  },
  "language_info": {
   "codemirror_mode": {
    "name": "ipython",
    "version": 3
   },
   "file_extension": ".py",
   "mimetype": "text/x-python",
   "name": "python",
   "nbconvert_exporter": "python",
   "pygments_lexer": "ipython3",
   "version": "3.12.7"
  }
 },
 "nbformat": 4,
 "nbformat_minor": 5
}
