{
 "cells": [
  {
   "cell_type": "markdown",
   "id": "0017044b-d0ce-46cb-856e-9872e340568e",
   "metadata": {},
   "source": [
    "# Cholesky decomposition"
   ]
  },
  {
   "cell_type": "markdown",
   "id": "802e1e2a-7152-416f-9629-67336c0a7fd6",
   "metadata": {},
   "source": [
    "| Who  | Mail | Date | What |\n",
    "| ---  | ---   | --- | ---      |\n",
    "|Diego Andrés Alvarez Marín | <daalvarez@unal.edu.co>  | March 19th, 2025 | Initial code |"
   ]
  },
  {
   "cell_type": "markdown",
   "id": "ac715de1-ec7a-45ed-9a95-5d43468ba8f4",
   "metadata": {},
   "source": [
    "The Cholesky decomposition is a method for efficiently solving linear systems when the coefficient matrix is symmetric positive definite. For a symmetric positive definite matrix $\\boldsymbol{A}$, the Cholesky decomposition gives us:\n",
    "\n",
    "$$\\boldsymbol{A} = \\boldsymbol{L}\\boldsymbol{L}^T$$\n",
    "\n",
    "where $\\boldsymbol{L}$ is a lower triangular matrix with positive diagonal entries."
   ]
  },
  {
   "cell_type": "code",
   "execution_count": 1,
   "id": "adc441cf-68d2-4df6-bc52-1e781a37396b",
   "metadata": {},
   "outputs": [],
   "source": [
    "from IPython.display import display\n",
    "import pandas as pd\n",
    "import numpy as np\n",
    "from numpy.linalg import norm\n",
    "from numpy.random import rand\n",
    "import matplotlib.pyplot as plt\n",
    "import scipy.linalg as linalg\n",
    "import time\n",
    "\n",
    "# Increase the number of digits shown when an array is printed\n",
    "np.set_printoptions(linewidth=200)"
   ]
  },
  {
   "cell_type": "markdown",
   "id": "96ff1ed0-afd0-4156-acb6-ad35fd014cc0",
   "metadata": {},
   "source": [
    "## 1. Mathematical Background\n",
    "\n",
    "The algorithm for computing the Cholesky decomposition is as follows:\n",
    "\n",
    "For a symmetric positive definite matrix $\\boldsymbol{A}$ of size $n \\times n$, the elements of $\\boldsymbol{L}$ can be computed as:\n",
    "\n",
    "$L_{ii} = \\sqrt{A_{ii} - \\sum_{k=1}^{i-1} L_{ik}^2}$\n",
    "\n",
    "$L_{ji} = \\frac{1}{L_{ii}} \\left(A_{ji} - \\sum_{k=1}^{i-1} L_{jk}L_{ik}\\right) \\qquad \\text{for } j > i.$"
   ]
  },
  {
   "cell_type": "markdown",
   "id": "3b0ff704-5358-4d84-9678-4fd82a6c3b7c",
   "metadata": {},
   "source": [
    "## 2. Implementation of the Gauss-Jordan elimination method"
   ]
  },
  {
   "cell_type": "code",
   "execution_count": 2,
   "id": "045f2f9b-1488-4bad-a680-8406b8691b27",
   "metadata": {},
   "outputs": [],
   "source": [
    "def cholesky_decomposition(A):\n",
    "    \"\"\"\n",
    "    Compute the Cholesky decomposition of a symmetric positive definite matrix.\n",
    "    \n",
    "    Parameters:\n",
    "    A (numpy.ndarray): A symmetric positive definite matrix\n",
    "    \n",
    "    Returns:\n",
    "    L (numpy.ndarray): Lower triangular matrix such that A = L @ L.T\n",
    "\n",
    "    Raises:\n",
    "    ValueError: If matrix is not symmetric or not positive definite\n",
    "    \"\"\"\n",
    "    n = A.shape[0]\n",
    "    \n",
    "    # Check if the matrix is symmetric\n",
    "    if not np.allclose(A, A.T):\n",
    "        raise ValueError(\"Matrix must be symmetric\")\n",
    "    \n",
    "    # Initialize L as a zero matrix\n",
    "    L = np.zeros_like(A, dtype=float)\n",
    "    \n",
    "    # Compute L column by column\n",
    "    for i in range(n):\n",
    "        # Compute diagonal element\n",
    "        Lii2 = A[i, i] - np.sum(L[i, :i]**2)\n",
    "\n",
    "        # Check if the matrix is positive definite\n",
    "        if Lii2 <= 0:\n",
    "            raise ValueError(f\"Matrix is not positive definite.\")\n",
    "        \n",
    "        L[i, i] = np.sqrt(Lii2)\n",
    "        \n",
    "        # Compute lower off-diagonal elements\n",
    "        for j in range(i+1, n):\n",
    "            L[j, i] = (A[j, i] - np.sum(L[j, :i] * L[i, :i])) / L[i, i]\n",
    "            #sum_k = sum(L[j, k] * L[i, k] for k in range(j))\n",
    "            #L[j, i] = (A[j, i] - sum_k) / L[i, i]\n",
    "    return L"
   ]
  },
  {
   "cell_type": "markdown",
   "id": "f404402c-eb17-4f59-a187-a1fcae18a737",
   "metadata": {},
   "source": [
    "## 3. Example\n",
    "\n",
    "Let's test our implementation with a simple example:\n",
    "\n",
    "### Test 1: Positive definite matrix"
   ]
  },
  {
   "cell_type": "code",
   "execution_count": 3,
   "id": "4ebe6437-1655-4f4b-8b98-f6533b6f0261",
   "metadata": {},
   "outputs": [
    {
     "name": "stdout",
     "output_type": "stream",
     "text": [
      "Original matrix A:\n",
      "[[1.39550348 1.14801866 1.03972534 1.66750926]\n",
      " [1.14801866 1.20865811 0.70298574 1.55821172]\n",
      " [1.03972534 0.70298574 0.97838292 1.08381923]\n",
      " [1.66750926 1.55821172 1.08381923 2.31713076]]\n",
      "\n",
      "Verify A is symmetric: True\n",
      "\n",
      "Computed L:\n",
      "[[ 1.1813143   0.          0.          0.        ]\n",
      " [ 0.97181475  0.51403717  0.          0.        ]\n",
      " [ 0.88014286 -0.29637948  0.34042719  0.        ]\n",
      " [ 1.41157121  0.36267027 -0.15003813  0.41298463]]\n",
      "\n",
      "Verify A = L@L.T: True\n"
     ]
    }
   ],
   "source": [
    "# Create a symmetric positive definite matrix\n",
    "n = 4\n",
    "A_random = rand(n, n)\n",
    "A = A_random @ A_random.T  # This ensures the matrix is symmetric positive definite\n",
    "\n",
    "print(\"Original matrix A:\")\n",
    "print(A)\n",
    "\n",
    "print(\"\\nVerify A is symmetric:\", np.allclose(A, A.T))\n",
    "\n",
    "# Compute Cholesky decomposition\n",
    "try:\n",
    "    L = cholesky_decomposition(A)\n",
    "    print(\"\\nComputed L:\")\n",
    "    print(L)    \n",
    "\n",
    "    # Verify the decomposition\n",
    "    print(\"\\nVerify A = L@L.T:\", np.allclose(A, L@L.T))\n",
    "except ValueError as error:\n",
    "    print(f\"Error: {error}\")"
   ]
  },
  {
   "cell_type": "markdown",
   "id": "755131ee-2565-43a1-bf24-eb59de18baea",
   "metadata": {},
   "source": [
    "### Test 2: Non-positive definite matrix"
   ]
  },
  {
   "cell_type": "code",
   "execution_count": 4,
   "id": "5a5e39e4-a944-4656-a7eb-cb949e7bde1b",
   "metadata": {},
   "outputs": [
    {
     "name": "stdout",
     "output_type": "stream",
     "text": [
      "Original matrix A:\n",
      "[[-1.39550348  1.14801866  1.03972534  1.66750926]\n",
      " [ 1.14801866  1.20865811  0.70298574  1.55821172]\n",
      " [ 1.03972534  0.70298574  0.97838292  1.08381923]\n",
      " [ 1.66750926  1.55821172  1.08381923  2.31713076]]\n",
      "\n",
      "Verify A is symmetric: True\n",
      "Error: Matrix is not positive definite.\n"
     ]
    }
   ],
   "source": [
    "A_npd = A.copy()\n",
    "A_npd[0,0] *= -1  # Negative diagonal element\n",
    "\n",
    "print(\"Original matrix A:\")\n",
    "print(A_npd)\n",
    "\n",
    "print(\"\\nVerify A is symmetric:\", np.allclose(A_npd, A_npd.T))\n",
    "\n",
    "# Compute Cholesky decomposition\n",
    "try:\n",
    "    L = cholesky_decomposition(A_npd)\n",
    "    print(\"\\nComputed L:\")\n",
    "    print(L)    \n",
    "\n",
    "    # Verify the decomposition\n",
    "    print(\"\\nVerify A = L@L.T:\", np.allclose(A_npd, L@L.T))\n",
    "except ValueError as error:\n",
    "    print(f\"Error: {error}\")"
   ]
  },
  {
   "cell_type": "markdown",
   "id": "3e809164-c329-4d33-b8b4-baa048f0852d",
   "metadata": {},
   "source": [
    "Using our function `cholesky_decomposition()` we can create another function to check if a matrix is positive definite"
   ]
  },
  {
   "cell_type": "code",
   "execution_count": 5,
   "id": "d32f4c3a-bfff-4fd1-b698-59679c6b936f",
   "metadata": {},
   "outputs": [],
   "source": [
    "def is_positive_definite(A):\n",
    "    \"\"\"\n",
    "    Check if a matrix is positive definite using the Cholesky decomposition.\n",
    "    \n",
    "    Parameters:\n",
    "    A (numpy.ndarray): A symmetric matrix\n",
    "    \n",
    "    Returns:\n",
    "    bool: True if the matrix is positive definite, False otherwise\n",
    "    \"\"\"\n",
    "    try:\n",
    "        cholesky_decomposition(A)\n",
    "        return True\n",
    "    except ValueError:\n",
    "        return False"
   ]
  },
  {
   "cell_type": "code",
   "execution_count": 6,
   "id": "aae7c010-f561-4581-bcb6-ae39c08e3944",
   "metadata": {},
   "outputs": [
    {
     "name": "stdout",
     "output_type": "stream",
     "text": [
      "Original matrix A:\n",
      "[[1.39550348 1.14801866 1.03972534 1.66750926]\n",
      " [1.14801866 1.20865811 0.70298574 1.55821172]\n",
      " [1.03972534 0.70298574 0.97838292 1.08381923]\n",
      " [1.66750926 1.55821172 1.08381923 2.31713076]]\n",
      "\n",
      "Verify A is positive definite matrix: True\n",
      "\n",
      "min eigenvalue = 0.028276\n"
     ]
    }
   ],
   "source": [
    "print(\"Original matrix A:\")\n",
    "print(A)\n",
    "\n",
    "print(\"\\nVerify A is positive definite matrix:\", is_positive_definite(A))\n",
    "\n",
    "# Let's also check using NumPy's eigenvalues\n",
    "eigenvalues = np.linalg.eigvalsh(A)\n",
    "print(f\"\\nmin eigenvalue = {min(eigenvalues):.6f}\")"
   ]
  },
  {
   "cell_type": "markdown",
   "id": "91806a29-14e1-4c9c-8863-7260565a8a33",
   "metadata": {},
   "source": [
    "## 4. Comparison with NumPy's Implementation\n",
    "\n",
    "Now, let's compare our implementation with NumPy's built-in function:"
   ]
  },
  {
   "cell_type": "code",
   "execution_count": 7,
   "id": "ece5f807-8417-4080-ba55-ba072330feb9",
   "metadata": {},
   "outputs": [
    {
     "name": "stdout",
     "output_type": "stream",
     "text": [
      "NumPy's L:\n",
      "[[ 1.1813143   0.          0.          0.        ]\n",
      " [ 0.97181475  0.51403717  0.          0.        ]\n",
      " [ 0.88014286 -0.29637948  0.34042719  0.        ]\n",
      " [ 1.41157121  0.36267027 -0.15003813  0.41298463]]\n",
      "\n",
      "Is our implementation close to NumPy's? True\n"
     ]
    }
   ],
   "source": [
    "# NumPy's implementation\n",
    "L_numpy = np.linalg.cholesky(A)\n",
    "\n",
    "print(\"NumPy's L:\")\n",
    "print(L_numpy)\n",
    "\n",
    "print(\"\\nIs our implementation close to NumPy's?\", np.allclose(L, L_numpy))"
   ]
  },
  {
   "cell_type": "markdown",
   "id": "a12e10bd-9ada-491c-9688-fe9c2d5c395c",
   "metadata": {},
   "source": [
    "## 5. Solving Linear Systems Using Cholesky Decomposition"
   ]
  },
  {
   "cell_type": "markdown",
   "id": "2bf8eeeb-cb28-44f4-a814-e0e27a79ae86",
   "metadata": {},
   "source": [
    "One of the main applications of the Cholesky decomposition is solving linear systems of the form $Ax = b$, where $A$ is symmetric positive definite.\n",
    "\n",
    "Given $\\boldsymbol{A} = \\boldsymbol{L}\\boldsymbol{L}^T$, we can solve $\\boldsymbol{A}\\boldsymbol{x} = \\boldsymbol{b}$ by:\n",
    "1. Solving $\\boldsymbol{L}\\boldsymbol{y} = \\boldsymbol{b}$ for $\\boldsymbol{y}$\n",
    "2. Solving $\\boldsymbol{L}^T\\boldsymbol{x} = \\boldsymbol{y}$ for $\\boldsymbol{x}$\n",
    "\n",
    "Let's implement this:"
   ]
  },
  {
   "cell_type": "code",
   "execution_count": 8,
   "id": "7333ebbd-a6e9-4d95-bed7-dde3d42db92c",
   "metadata": {},
   "outputs": [],
   "source": [
    "def solve_using_cholesky(A, b):\n",
    "    \"\"\"\n",
    "    Solve the linear system Ax = b using Cholesky decomposition.\n",
    "    \n",
    "    Parameters:\n",
    "    A (numpy.ndarray): Symmetric positive definite matrix\n",
    "    b (numpy.ndarray): Right-hand side vector\n",
    "    \n",
    "    Returns:\n",
    "    x (numpy.ndarray): Solution vector\n",
    "    \"\"\"\n",
    "    # Compute the Cholesky decomposition\n",
    "    L = cholesky_decomposition(A)\n",
    "    \n",
    "    # Solve Ly = b for y (forward substitution)\n",
    "    n = A.shape[0]\n",
    "    y = np.zeros(n)\n",
    "    for i in range(n):\n",
    "        y[i] = (b[i] - np.sum(L[i, :i] * y[:i])) / L[i, i]\n",
    "    \n",
    "    # Solve L^Tx = y for x (backward substitution)\n",
    "    x = np.zeros(n)\n",
    "    for i in range(n-1, -1, -1):\n",
    "        x[i] = (y[i] - np.sum(L[i+1:, i] * x[i+1:])) / L[i, i]\n",
    "    \n",
    "    return x"
   ]
  },
  {
   "cell_type": "markdown",
   "id": "cdb6d2f5-9498-4d27-8ed8-97c267dbc8f7",
   "metadata": {},
   "source": [
    "Let's test our solver with a simple example"
   ]
  },
  {
   "cell_type": "code",
   "execution_count": 9,
   "id": "e2c59023-b1ca-470b-8eb0-45e2919c235a",
   "metadata": {},
   "outputs": [
    {
     "name": "stdout",
     "output_type": "stream",
     "text": [
      "Our solution x:\n",
      "[-14.43176439   5.33161567   9.93310978   2.32361849]\n",
      "\n",
      "NumPy's solution x:\n",
      "[-14.43176439   5.33161567   9.93310978   2.32361849]\n",
      "\n",
      "Is our solution close to NumPy's? True\n",
      "\n",
      "Verify A@x = b: True\n"
     ]
    }
   ],
   "source": [
    "# Create a random right-hand side vector\n",
    "b = rand(n)\n",
    "\n",
    "# Solve the system using our implementation\n",
    "x_our = solve_using_cholesky(A, b)\n",
    "\n",
    "# Solve the system using NumPy\n",
    "x_numpy = np.linalg.solve(A, b)\n",
    "\n",
    "print(\"Our solution x:\")\n",
    "print(x_our)\n",
    "print(\"\\nNumPy's solution x:\")\n",
    "print(x_numpy)\n",
    "print(\"\\nIs our solution close to NumPy's?\", np.allclose(x_our, x_numpy))\n",
    "\n",
    "# Verify the solution\n",
    "print(\"\\nVerify A@x = b:\", np.allclose(A@x_our, b))"
   ]
  },
  {
   "cell_type": "markdown",
   "id": "f4b16b22-300a-4846-9072-2cf0137f694a",
   "metadata": {},
   "source": [
    "## 6. Large System Performance\n",
    "\n",
    "Now, let's compare the performance of our implementation with NumPy's for matrices of different sizes:"
   ]
  },
  {
   "cell_type": "code",
   "execution_count": 10,
   "id": "29f53ec7-7eb2-4128-b619-28568c4307d6",
   "metadata": {},
   "outputs": [],
   "source": [
    "def compare_performance(sizes):\n",
    "    \"\"\"\n",
    "    Compare the performance of our Cholesky implementation with NumPy's.\n",
    "    \"\"\"\n",
    "    ch_times = []\n",
    "    np_times = []\n",
    "\n",
    "    # Create a seed for reproducibility\n",
    "    np.random.seed(42)\n",
    "    \n",
    "    for n in sizes:\n",
    "        # Create a random symmetric positive definite matrix\n",
    "        # Create lower triangular matrix with random values below diagonal\n",
    "        L = np.tril(np.random.randn(n, n), -1)\n",
    "    \n",
    "        # Ensure positive diagonal entries (crucial for positive definiteness)\n",
    "        np.fill_diagonal(L, np.abs(np.random.randn(n)) + 100)\n",
    "    \n",
    "        # Compute positive definite matrix\n",
    "        A = L @ L.T\n",
    "        \n",
    "        # Time our implementation\n",
    "        start_time = time.time()\n",
    "        L_our = cholesky_decomposition(A)\n",
    "        ch_time = time.time() - start_time\n",
    "        ch_times.append(ch_time)\n",
    "        \n",
    "        # Time NumPy's implementation\n",
    "        start_time = time.time()\n",
    "        L_numpy = np.linalg.cholesky(A)\n",
    "        np_time = time.time() - start_time\n",
    "        np_times.append(np_time)\n",
    "\n",
    "    # Pack all stats in a pandas' dataframe\n",
    "    df = pd.DataFrame({\n",
    "        'Size':            sizes,\n",
    "        'Our time':        ch_times,\n",
    "        'NumPy time':      np_times\n",
    "    })\n",
    "    return df"
   ]
  },
  {
   "cell_type": "code",
   "execution_count": 11,
   "id": "234f9922-02f3-4c01-b52c-9d03ef045cda",
   "metadata": {},
   "outputs": [
    {
     "name": "stdout",
     "output_type": "stream",
     "text": [
      "\n",
      "\n",
      "Performance Comparison:\n"
     ]
    },
    {
     "data": {
      "text/html": [
       "<div>\n",
       "<style scoped>\n",
       "    .dataframe tbody tr th:only-of-type {\n",
       "        vertical-align: middle;\n",
       "    }\n",
       "\n",
       "    .dataframe tbody tr th {\n",
       "        vertical-align: top;\n",
       "    }\n",
       "\n",
       "    .dataframe thead th {\n",
       "        text-align: right;\n",
       "    }\n",
       "</style>\n",
       "<table border=\"1\" class=\"dataframe\">\n",
       "  <thead>\n",
       "    <tr style=\"text-align: right;\">\n",
       "      <th></th>\n",
       "      <th>Size</th>\n",
       "      <th>Our time</th>\n",
       "      <th>NumPy time</th>\n",
       "    </tr>\n",
       "  </thead>\n",
       "  <tbody>\n",
       "    <tr>\n",
       "      <th>0</th>\n",
       "      <td>10</td>\n",
       "      <td>0.000408</td>\n",
       "      <td>0.000036</td>\n",
       "    </tr>\n",
       "    <tr>\n",
       "      <th>1</th>\n",
       "      <td>20</td>\n",
       "      <td>0.001182</td>\n",
       "      <td>0.000094</td>\n",
       "    </tr>\n",
       "    <tr>\n",
       "      <th>2</th>\n",
       "      <td>50</td>\n",
       "      <td>0.018180</td>\n",
       "      <td>0.000083</td>\n",
       "    </tr>\n",
       "    <tr>\n",
       "      <th>3</th>\n",
       "      <td>100</td>\n",
       "      <td>0.082976</td>\n",
       "      <td>0.000222</td>\n",
       "    </tr>\n",
       "    <tr>\n",
       "      <th>4</th>\n",
       "      <td>200</td>\n",
       "      <td>0.187405</td>\n",
       "      <td>0.000557</td>\n",
       "    </tr>\n",
       "    <tr>\n",
       "      <th>5</th>\n",
       "      <td>500</td>\n",
       "      <td>0.581193</td>\n",
       "      <td>0.002339</td>\n",
       "    </tr>\n",
       "    <tr>\n",
       "      <th>6</th>\n",
       "      <td>1000</td>\n",
       "      <td>2.650949</td>\n",
       "      <td>0.012469</td>\n",
       "    </tr>\n",
       "    <tr>\n",
       "      <th>7</th>\n",
       "      <td>2000</td>\n",
       "      <td>12.833083</td>\n",
       "      <td>0.054615</td>\n",
       "    </tr>\n",
       "    <tr>\n",
       "      <th>8</th>\n",
       "      <td>5000</td>\n",
       "      <td>92.443198</td>\n",
       "      <td>0.392605</td>\n",
       "    </tr>\n",
       "  </tbody>\n",
       "</table>\n",
       "</div>"
      ],
      "text/plain": [
       "   Size   Our time  NumPy time\n",
       "0    10   0.000408    0.000036\n",
       "1    20   0.001182    0.000094\n",
       "2    50   0.018180    0.000083\n",
       "3   100   0.082976    0.000222\n",
       "4   200   0.187405    0.000557\n",
       "5   500   0.581193    0.002339\n",
       "6  1000   2.650949    0.012469\n",
       "7  2000  12.833083    0.054615\n",
       "8  5000  92.443198    0.392605"
      ]
     },
     "metadata": {},
     "output_type": "display_data"
    }
   ],
   "source": [
    "# Compare performance for matrices of different sizes\n",
    "print(\"\\n\\nPerformance Comparison:\")\n",
    "sizes = [10, 20, 50, 100, 200, 500, 1000, 2000, 5000]\n",
    "df = compare_performance(sizes)\n",
    "display(df)"
   ]
  },
  {
   "cell_type": "code",
   "execution_count": 12,
   "id": "c226881f-5253-4ca0-8bd9-4deca9122a59",
   "metadata": {},
   "outputs": [
    {
     "data": {
      "image/png": "[encoded data removed]",
      "text/plain": [
       "<Figure size 1000x600 with 1 Axes>"
      ]
     },
     "metadata": {},
     "output_type": "display_data"
    }
   ],
   "source": [
    "# Plot the performance comparison\n",
    "ch_times = df['Our time']\n",
    "np_times = df['NumPy time']\n",
    "\n",
    "plt.figure(figsize=(10, 6))\n",
    "plt.plot(sizes, ch_times, 'o-', label='Our Cholesky Implementation')\n",
    "plt.plot(sizes, np_times, 's-', label='NumPy Implementation')\n",
    "plt.xlabel('Matrix Size (n)')\n",
    "plt.ylabel('Time (seconds)')\n",
    "plt.title('Performance Comparison: Cholesky vs NumPy')\n",
    "plt.legend()\n",
    "plt.grid(True)\n",
    "plt.xscale('log')\n",
    "plt.yscale('log')\n",
    "\n",
    "#k, log_a = np.polyfit(np.log(sizes), np.log(ch_times), 1)\n",
    "#plt.plot(sizes, np.exp(log_a)*sizes**k)\n",
    "\n",
    "plt.show()"
   ]
  },
  {
   "cell_type": "markdown",
   "id": "7bdc5bf9-9e83-4d0b-9be9-2cc08eadc2d9",
   "metadata": {},
   "source": [
    "When data follows a straight line in a log-log plot, it indicates that the relationship between the two variables adheres to a *power law*. Specifically, the data can be modeled by an equation of the form $y = ax^k$. To show that, take the logarithm of both sides of the power law equation transforms it into:\n",
    "$$\n",
    "   \\log(y) = \\log(a) + k\\log(x)\n",
    "$$\n",
    "This is a linear equation where $k$ is the slope of the line and $\\log(a)$ is the intercept."
   ]
  },
  {
   "cell_type": "code",
   "execution_count": 13,
   "id": "5b0c375a-9851-4cd4-8206-0deeca438e0a",
   "metadata": {},
   "outputs": [
    {
     "name": "stdout",
     "output_type": "stream",
     "text": [
      "k = 1.926877355794774\n",
      "a = 5.891425619484933e-06\n"
     ]
    }
   ],
   "source": [
    "k, log_a = np.polyfit(np.log(sizes), np.log(ch_times), 1)\n",
    "print(\"k =\", k)\n",
    "print(\"a =\", np.exp(log_a))"
   ]
  },
  {
   "cell_type": "markdown",
   "id": "b6745318-f845-4a9d-85d4-5607b30dd14e",
   "metadata": {},
   "source": [
    "The computational complexity of the Cholesky decomposition is $O(n^3/3)$ for an $n \\times n$ matrix, which is about 3 times faster than LU decomposition."
   ]
  },
  {
   "cell_type": "markdown",
   "id": "a6736454-e34d-47ba-8e6d-c6c2bb5be5c3",
   "metadata": {},
   "source": [
    "## 7. Numerical Stability\n",
    "\n",
    "The Cholesky decomposition is known for its numerical stability for symmetric positive definite matrices. Let's examine this property:"
   ]
  },
  {
   "cell_type": "raw",
   "id": "372842a9-2916-42cb-8dbc-f98ced9a094c",
   "metadata": {},
   "source": [
    "def check_stability(n, condition_numbers):\n",
    "    \"\"\"\n",
    "    Check the numerical stability of Cholesky decomposition for matrices with different condition numbers.\n",
    "    \n",
    "    Parameters:\n",
    "    n (int): Matrix size\n",
    "    condition_numbers (list): List of condition numbers to test\n",
    "    \n",
    "    Returns:\n",
    "    results (dict): Dictionary containing error results\n",
    "    \"\"\"\n",
    "    results = {\n",
    "        'condition_numbers': condition_numbers,\n",
    "        'errors': []\n",
    "    }\n",
    "    \n",
    "    for cond in condition_numbers:\n",
    "        # Create a random SPD matrix with a specified condition number\n",
    "        U, _ = np.linalg.qr(rand(n, n))\n",
    "        s = np.linspace(1, cond, n)\n",
    "        A = U @ np.diag(s) @ U.T\n",
    "        \n",
    "        # Compute Cholesky decomposition\n",
    "        L = cholesky_decomposition(A)\n",
    "        \n",
    "        # Compute error\n",
    "        error = norm(A - L @ L.T) / norm(A)\n",
    "        results['errors'].append(error)\n",
    "        \n",
    "        print(f\"Condition number = {cond:.2e}, Error = {error:.2e}\")\n",
    "    \n",
    "    return results\n",
    "\n",
    "# Check stability for different condition numbers\n",
    "n = 100\n",
    "condition_numbers = [1e2, 1e4, 1e6, 1e8, 1e10]\n",
    "results_stability = check_stability(n, condition_numbers)\n",
    "\n",
    "# Plot the results\n",
    "plt.figure(figsize=(10, 6))\n",
    "plt.loglog(results_stability['condition_numbers'], results_stability['errors'], 'o-')\n",
    "plt.xlabel('Condition Number')\n",
    "plt.ylabel('Relative Error')\n",
    "plt.title('Numerical Stability of Cholesky Decomposition')\n",
    "plt.grid(True)\n",
    "plt.show()"
   ]
  },
  {
   "cell_type": "markdown",
   "id": "e76db39e-7d4a-463d-9437-cc57ad9a8c08",
   "metadata": {},
   "source": [
    "## 8. Application: Solving a Poisson Equation\n",
    "\n",
    "Let's apply the Cholesky decomposition to solve a Poisson equation, which is a common application in numerical methods.\n",
    "\n",
    "The 1D Poisson equation is given by:\n",
    "\n",
    "$\\frac{d^2 u}{dx^2} = f(x)$\n",
    "\n",
    "With boundary conditions $u(0) = u(1) = 0$.\n",
    "\n",
    "Using finite differences, we get a system of linear equations $Au = f$ where $A$ is a tridiagonal matrix, which is symmetric positive definite."
   ]
  },
  {
   "cell_type": "code",
   "execution_count": 14,
   "id": "0c541c0c-9644-4def-9cae-e315af64d07e",
   "metadata": {},
   "outputs": [
    {
     "data": {
      "image/png": "[encoded data removed]",
      "text/plain": [
       "<Figure size 1000x600 with 1 Axes>"
      ]
     },
     "metadata": {},
     "output_type": "display_data"
    },
    {
     "name": "stdout",
     "output_type": "stream",
     "text": [
      "Maximum error: 8.168541e-06\n"
     ]
    }
   ],
   "source": [
    "def solve_poisson_1d(n, f):\n",
    "    \"\"\"\n",
    "    Solve the 1D Poisson equation using finite differences and Cholesky decomposition.\n",
    "    \n",
    "    Parameters:\n",
    "    n (int): Number of interior grid points\n",
    "    f (function): Right-hand side function\n",
    "    \n",
    "    Returns:\n",
    "    x (numpy.ndarray): Grid points\n",
    "    u (numpy.ndarray): Solution\n",
    "    \"\"\"\n",
    "    # Create grid\n",
    "    h = 1.0 / (n + 1)\n",
    "    x = np.linspace(h, 1-h, n)\n",
    "    \n",
    "    # Create system matrix A\n",
    "    A = np.zeros((n, n))\n",
    "    for i in range(n):\n",
    "        A[i, i] = 2\n",
    "        if i > 0:\n",
    "            A[i, i-1] = -1\n",
    "        if i < n-1:\n",
    "            A[i, i+1] = -1\n",
    "    A = A / h**2\n",
    "    \n",
    "    # Create right-hand side vector\n",
    "    b = np.array([f(xi) for xi in x])\n",
    "    \n",
    "    # Solve using Cholesky decomposition\n",
    "    u = solve_using_cholesky(A, b)\n",
    "    \n",
    "    return x, u\n",
    "\n",
    "# Define the right-hand side function\n",
    "def f(x):\n",
    "    return np.sin(np.pi * x)\n",
    "\n",
    "# Solve the Poisson equation\n",
    "n = 100\n",
    "x, u = solve_poisson_1d(n, f)\n",
    "\n",
    "# Analytical solution\n",
    "u_analytical = np.sin(np.pi * x) / (np.pi**2)\n",
    "\n",
    "# Plot the results\n",
    "plt.figure(figsize=(10, 6))\n",
    "plt.plot(x, u, 'o-', label='Numerical Solution')\n",
    "plt.plot(x, u_analytical, '--', label='Analytical Solution')\n",
    "plt.xlabel('x')\n",
    "plt.ylabel('u(x)')\n",
    "plt.title('Solution of 1D Poisson Equation')\n",
    "plt.legend()\n",
    "plt.grid(True)\n",
    "plt.show()\n",
    "\n",
    "# Compute and print the error\n",
    "error = np.max(np.abs(u - u_analytical))\n",
    "print(f\"Maximum error: {error:.6e}\")"
   ]
  },
  {
   "cell_type": "markdown",
   "id": "f7bf39eb-942b-4f18-8edd-909bddb9c02c",
   "metadata": {},
   "source": [
    "## 9. Advantages and Limitations\n",
    "\n",
    "### Advantages of Cholesky decomposition:\n",
    "* The Cholesky decomposition is approximately twice as efficient as LU decomposition for symmetric positive definite matrices, making it the preferred choice for such problems.\n",
    "* It's also numerically stable, provided the matrix is well-conditioned.\n",
    "* This is the a good method when using symmetric positive definite matrices common in physical problems\n",
    "* It is useful to determine if a matrix is positive definite.\n",
    "\n",
    "### Limitations of Cholesky decomposition:\n",
    "* Exclusively applicable to symmetric positive-definite matrices. Failure occurs if the matrix is indefinite or ill-conditioned, leading to negative square roots during decomposition."
   ]
  }
 ],
 "metadata": {
  "kernelspec": {
   "display_name": "Python 3 (ipykernel)",
   "language": "python",
   "name": "python3"
  },
  "language_info": {
   "codemirror_mode": {
    "name": "ipython",
    "version": 3
   },
   "file_extension": ".py",
   "mimetype": "text/x-python",
   "name": "python",
   "nbconvert_exporter": "python",
   "pygments_lexer": "ipython3",
   "version": "3.11.5"
  }
 },
 "nbformat": 4,
 "nbformat_minor": 5
}
