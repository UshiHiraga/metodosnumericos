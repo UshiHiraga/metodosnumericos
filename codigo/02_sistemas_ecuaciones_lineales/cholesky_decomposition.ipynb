{
 "cells": [
  {
   "cell_type": "markdown",
   "id": "0017044b-d0ce-46cb-856e-9872e340568e",
   "metadata": {},
   "source": [
    "# Cholesky decomposition"
   ]
  },
  {
   "cell_type": "markdown",
   "id": "802e1e2a-7152-416f-9629-67336c0a7fd6",
   "metadata": {},
   "source": [
    "| Who  | Mail | Date | What |\n",
    "| ---  | ---   | --- | ---      |\n",
    "|Diego Andrés Alvarez Marín | <daalvarez@unal.edu.co>  | May 18th, 2025 | Initial code |"
   ]
  },
  {
   "cell_type": "markdown",
   "id": "ac715de1-ec7a-45ed-9a95-5d43468ba8f4",
   "metadata": {},
   "source": [
    "The Cholesky decomposition is a method for efficiently solving linear systems when the coefficient matrix is symmetric positive definite. For a symmetric positive definite matrix $\\boldsymbol{A}$, the Cholesky decomposition gives us:\n",
    "\n",
    "$$\\boldsymbol{A} = \\boldsymbol{L}\\boldsymbol{L}^T$$\n",
    "\n",
    "where $\\boldsymbol{L}$ is a lower triangular matrix with positive diagonal entries."
   ]
  },
  {
   "cell_type": "code",
   "execution_count": 1,
   "id": "adc441cf-68d2-4df6-bc52-1e781a37396b",
   "metadata": {},
   "outputs": [],
   "source": [
    "from IPython.display import display\n",
    "import pandas as pd\n",
    "import numpy as np\n",
    "from numpy.linalg import norm\n",
    "from numpy.random import rand\n",
    "import matplotlib.pyplot as plt\n",
    "from scipy.linalg import issymmetric, solve\n",
    "import time\n",
    "\n",
    "# Increase the number of digits shown when an array is printed\n",
    "np.set_printoptions(linewidth=200)"
   ]
  },
  {
   "cell_type": "markdown",
   "id": "96ff1ed0-afd0-4156-acb6-ad35fd014cc0",
   "metadata": {
    "jp-MarkdownHeadingCollapsed": true
   },
   "source": [
    "## 1. Mathematical Background\n",
    "\n",
    "Let $\\boldsymbol{A}$ be an $n \\times n$ real, symmetric, positive-definite matrix. We want to find a lower triangular matrix $\\boldsymbol{L}$ such that $\\boldsymbol{A} = \\boldsymbol{L}\\boldsymbol{L}^T$. The algorithm proceeds by computing the entries of $\\boldsymbol{L}$ column by column (or row by row).\n",
    "\n",
    "For $j = 1, 2, \\dots, n$:\n",
    "\n",
    "1.  Compute the diagonal element $l_{jj}$:\n",
    "    $$l_{jj} = \\sqrt{a_{jj} - \\sum_{k=1}^{j-1} l_{jk}^2}$$\n",
    "\n",
    "2.  Compute the off-diagonal elements in the  $j$-th column $(i > j)$:\n",
    "    $$l_{ij} = \\frac{1}{l_{jj}} \\left( a_{ij} - \\sum_{k=1}^{j-1} l_{ik} l_{jk} \\right) \\quad \\text{for } i = j+1, j+2, \\dots, n$$"
   ]
  },
  {
   "cell_type": "markdown",
   "id": "3b0ff704-5358-4d84-9678-4fd82a6c3b7c",
   "metadata": {},
   "source": [
    "## 2. Implementation of the Gauss-Jordan elimination method"
   ]
  },
  {
   "cell_type": "code",
   "execution_count": 2,
   "id": "045f2f9b-1488-4bad-a680-8406b8691b27",
   "metadata": {},
   "outputs": [],
   "source": [
    "def cholesky_decomposition(A):\n",
    "    \"\"\"\n",
    "    Compute the Cholesky decomposition of a symmetric positive definite matrix.\n",
    "    \n",
    "    Parameters:\n",
    "    A (numpy.ndarray): A symmetric positive definite matrix\n",
    "    \n",
    "    Returns:\n",
    "    L (numpy.ndarray): Lower triangular matrix such that A = L@L.T\n",
    "\n",
    "    Raises:\n",
    "    ValueError: If matrix is not symmetric or not positive definite\n",
    "    \"\"\"\n",
    "    n = A.shape[0]\n",
    "    \n",
    "    # Check if the matrix is symmetric\n",
    "    if not issymmetric(A):\n",
    "        raise ValueError(\"Matrix must be symmetric\")\n",
    "    \n",
    "    # Initialize L as a zero matrix\n",
    "    L = np.zeros((n, n))\n",
    "    \n",
    "    # Compute L column by column\n",
    "    for j in range(n):\n",
    "        # Compute diagonal element\n",
    "        Ljj2 = A[j, j] - np.sum(L[j, :j]**2)\n",
    "\n",
    "        # Check if the matrix is positive definite\n",
    "        if Ljj2 <= 0:\n",
    "            raise ValueError(\"Matrix is not positive definite\")\n",
    "        \n",
    "        L[j, j] = np.sqrt(Ljj2)\n",
    "        \n",
    "        # Compute lower off-diagonal elements\n",
    "        for i in range(j+1, n):\n",
    "            L[i, j] = (A[i, j] - np.sum(L[i, :j] * L[j, :j]))/L[j, j]\n",
    "            \n",
    "    return L"
   ]
  },
  {
   "cell_type": "markdown",
   "id": "f404402c-eb17-4f59-a187-a1fcae18a737",
   "metadata": {},
   "source": [
    "## 3. Example\n",
    "\n",
    "Let's test our implementation with a simple example:\n",
    "\n",
    "### Test 1: Positive definite matrix"
   ]
  },
  {
   "cell_type": "code",
   "execution_count": 3,
   "id": "4ebe6437-1655-4f4b-8b98-f6533b6f0261",
   "metadata": {},
   "outputs": [
    {
     "name": "stdout",
     "output_type": "stream",
     "text": [
      "Original matrix A:\n",
      "[[0.98942822 0.11339217 0.50249214 1.26277893]\n",
      " [0.11339217 0.02155458 0.09118211 0.16665663]\n",
      " [0.50249214 0.09118211 0.73297661 1.10531925]\n",
      " [1.26277893 0.16665663 1.10531925 2.25818022]]\n",
      "\n",
      "Verify A is symmetric: True\n",
      "\n",
      "Computed L:\n",
      "[[0.99470007 0.         0.         0.        ]\n",
      " [0.11399635 0.0925171  0.         0.        ]\n",
      " [0.50516951 0.36311808 0.58815443 0.        ]\n",
      " [1.26950724 0.23711767 0.64252035 0.42127711]]\n",
      "\n",
      "Verify A = L@L.T: True\n"
     ]
    }
   ],
   "source": [
    "# Create a symmetric positive definite matrix\n",
    "n = 4\n",
    "A_random = rand(n, n)\n",
    "A = A_random @ A_random.T  # This ensures the matrix is symmetric positive definite\n",
    "\n",
    "print(\"Original matrix A:\")\n",
    "print(A)\n",
    "\n",
    "print(\"\\nVerify A is symmetric:\", issymmetric(A))\n",
    "\n",
    "# Compute Cholesky decomposition\n",
    "try:\n",
    "    L = cholesky_decomposition(A)\n",
    "    print(\"\\nComputed L:\")\n",
    "    print(L)    \n",
    "\n",
    "    # Verify the decomposition\n",
    "    print(\"\\nVerify A = L@L.T:\", np.allclose(A, L@L.T))\n",
    "except ValueError as error:\n",
    "    print(f\"Error: {error}\")"
   ]
  },
  {
   "cell_type": "markdown",
   "id": "755131ee-2565-43a1-bf24-eb59de18baea",
   "metadata": {},
   "source": [
    "### Test 2: Non-positive definite matrix"
   ]
  },
  {
   "cell_type": "code",
   "execution_count": 4,
   "id": "5a5e39e4-a944-4656-a7eb-cb949e7bde1b",
   "metadata": {},
   "outputs": [
    {
     "name": "stdout",
     "output_type": "stream",
     "text": [
      "Original matrix A:\n",
      "[[-0.98942822  0.11339217  0.50249214  1.26277893]\n",
      " [ 0.11339217  0.02155458  0.09118211  0.16665663]\n",
      " [ 0.50249214  0.09118211  0.73297661  1.10531925]\n",
      " [ 1.26277893  0.16665663  1.10531925  2.25818022]]\n",
      "\n",
      "Verify A is symmetric: True\n",
      "Error: Matrix is not positive definite\n"
     ]
    }
   ],
   "source": [
    "A_npd = A.copy()\n",
    "A_npd[0,0] *= -1  # Negative diagonal element\n",
    "\n",
    "print(\"Original matrix A:\")\n",
    "print(A_npd)\n",
    "\n",
    "print(\"\\nVerify A is symmetric:\", issymmetric(A_npd))\n",
    "\n",
    "# Compute Cholesky decomposition\n",
    "try:\n",
    "    L = cholesky_decomposition(A_npd)\n",
    "    print(\"\\nComputed L:\")\n",
    "    print(L)    \n",
    "\n",
    "    # Verify the decomposition\n",
    "    print(\"\\nVerify A = L@L.T:\", np.allclose(A_npd, L@L.T))\n",
    "except ValueError as error:\n",
    "    print(f\"Error: {error}\")"
   ]
  },
  {
   "cell_type": "markdown",
   "id": "3e809164-c329-4d33-b8b4-baa048f0852d",
   "metadata": {},
   "source": [
    "Using our function `cholesky_decomposition()` we can create another function to check if a matrix is positive definite"
   ]
  },
  {
   "cell_type": "code",
   "execution_count": 5,
   "id": "d32f4c3a-bfff-4fd1-b698-59679c6b936f",
   "metadata": {},
   "outputs": [],
   "source": [
    "def is_positive_definite(A):\n",
    "    \"\"\"\n",
    "    Check if a matrix is positive definite using the Cholesky decomposition.\n",
    "    \n",
    "    Parameters:\n",
    "    A (numpy.ndarray): A symmetric matrix\n",
    "    \n",
    "    Returns:\n",
    "    bool: True if the matrix is positive definite, False otherwise\n",
    "    \"\"\"\n",
    "    try:\n",
    "        cholesky_decomposition(A)\n",
    "        return True\n",
    "    except ValueError:\n",
    "        return False"
   ]
  },
  {
   "cell_type": "code",
   "execution_count": 6,
   "id": "aae7c010-f561-4581-bcb6-ae39c08e3944",
   "metadata": {},
   "outputs": [
    {
     "name": "stdout",
     "output_type": "stream",
     "text": [
      "Original matrix A:\n",
      "[[0.98942822 0.11339217 0.50249214 1.26277893]\n",
      " [0.11339217 0.02155458 0.09118211 0.16665663]\n",
      " [0.50249214 0.09118211 0.73297661 1.10531925]\n",
      " [1.26277893 0.16665663 1.10531925 2.25818022]]\n",
      "\n",
      "Verify A is positive definite matrix: True\n",
      "\n",
      "min eigenvalue = 0.005423\n"
     ]
    }
   ],
   "source": [
    "print(\"Original matrix A:\")\n",
    "print(A)\n",
    "\n",
    "print(\"\\nVerify A is positive definite matrix:\", is_positive_definite(A))\n",
    "\n",
    "# Let's also check using NumPy's eigenvalues\n",
    "eigenvalues = np.linalg.eigvalsh(A)\n",
    "print(f\"\\nmin eigenvalue = {min(eigenvalues):.6f}\")"
   ]
  },
  {
   "cell_type": "markdown",
   "id": "91806a29-14e1-4c9c-8863-7260565a8a33",
   "metadata": {},
   "source": [
    "## 4. Comparison with NumPy's Implementation\n",
    "\n",
    "Now, let's compare our implementation with NumPy's built-in function:"
   ]
  },
  {
   "cell_type": "code",
   "execution_count": 7,
   "id": "ece5f807-8417-4080-ba55-ba072330feb9",
   "metadata": {},
   "outputs": [
    {
     "name": "stdout",
     "output_type": "stream",
     "text": [
      "NumPy's L:\n",
      "[[0.99470007 0.         0.         0.        ]\n",
      " [0.11399635 0.0925171  0.         0.        ]\n",
      " [0.50516951 0.36311808 0.58815443 0.        ]\n",
      " [1.26950724 0.23711767 0.64252035 0.42127711]]\n",
      "\n",
      "Is our implementation close to NumPy's? True\n"
     ]
    }
   ],
   "source": [
    "# NumPy's implementation\n",
    "L_numpy = np.linalg.cholesky(A)\n",
    "\n",
    "print(\"NumPy's L:\")\n",
    "print(L_numpy)\n",
    "\n",
    "print(\"\\nIs our implementation close to NumPy's?\", np.allclose(L, L_numpy))"
   ]
  },
  {
   "cell_type": "markdown",
   "id": "a12e10bd-9ada-491c-9688-fe9c2d5c395c",
   "metadata": {},
   "source": [
    "## 5. Solving Linear Systems Using Cholesky Decomposition"
   ]
  },
  {
   "cell_type": "markdown",
   "id": "2bf8eeeb-cb28-44f4-a814-e0e27a79ae86",
   "metadata": {},
   "source": [
    "One of the main applications of the Cholesky decomposition is solving linear systems of the form $\\boldsymbol{A}\\boldsymbol{x} = \\boldsymbol{b}$, where $\\boldsymbol{A}$ is symmetric positive definite.\n",
    "\n",
    "Given $\\boldsymbol{A} = \\boldsymbol{L}\\boldsymbol{L}^T$, we can solve $\\boldsymbol{A}\\boldsymbol{x} = \\boldsymbol{b}$ by:\n",
    "\n",
    "1.  **Forward Substitution:** Solve the lower triangular system $\\boldsymbol{Ly} = \\boldsymbol{b}$ for the vector $\\boldsymbol{y}$.\n",
    "2.  **Backward Substitution:** Solve the upper triangular system $\\boldsymbol{L}^T \\boldsymbol{x} = \\boldsymbol{y}$ for the vector $\\boldsymbol{x}$, which is the solution to the original system.\n",
    "\n",
    "$\\textbf{1. Forward Substitution } (\\boldsymbol{Ly} = \\boldsymbol{b})$\n",
    "\n",
    "Since $\\boldsymbol{L}$ is a lower triangular matrix:\n",
    "\n",
    "$$\\begin{pmatrix}\n",
    "l_{11} & 0 & 0 & \\dots & 0 \\\\\n",
    "l_{21} & l_{22} & 0 & \\dots & 0 \\\\\n",
    "l_{31} & l_{32} & l_{33} & \\dots & 0 \\\\\n",
    "\\vdots & \\vdots & \\vdots & \\ddots & \\vdots \\\\\n",
    "l_{n1} & l_{n2} & l_{n3} & \\dots & l_{nn}\n",
    "\\end{pmatrix}\n",
    "\\begin{pmatrix}\n",
    "y_1 \\\\ y_2 \\\\ y_3 \\\\ \\vdots \\\\ y_n\n",
    "\\end{pmatrix}\n",
    "=\n",
    "\\begin{pmatrix}\n",
    "b_1 \\\\ b_2 \\\\ b_3 \\\\ \\vdots \\\\ b_n\n",
    "\\end{pmatrix}$$\n",
    "\n",
    "We can solve for the components of $\\boldsymbol{y}$ iteratively, starting from the first equation:\n",
    "\n",
    "* From the first row: $l_{11} y_1 = b_1 \\implies y_1 = \\frac{b_1}{l_{11}}$\n",
    "* From the second row: $l_{21} y_1 + l_{22} y_2 = b_2 \\implies y_2 = \\frac{b_2 - l_{21} y_1}{l_{22}}$\n",
    "* From the third row: $l_{31} y_1 + l_{32} y_2 + l_{33} y_3 = b_3 \\implies y_3 = \\frac{b_3 - l_{31} y_1 - l_{32} y_2}{l_{33}}$\n",
    "* In general, for $i = 1, 2, \\dots, n$:\n",
    "    $$y_i = \\frac{b_i - \\sum_{j=1}^{i-1} l_{ij} y_j}{l_{ii}}$$\n",
    "\n",
    "$\\textbf{2. Backward Substitution } (\\boldsymbol{L}^T \\boldsymbol{x} = \\boldsymbol{y})$\n",
    "\n",
    "Since $\\boldsymbol{L}^T$ is an upper triangular matrix:\n",
    "\n",
    "$$\\begin{pmatrix}\n",
    "l_{11} & l_{21} & l_{31} & \\dots & l_{n1} \\\\\n",
    "0 & l_{22} & l_{32} & \\dots & l_{n2} \\\\\n",
    "0 & 0 & l_{33} & \\dots & l_{n3} \\\\\n",
    "\\vdots & \\vdots & \\vdots & \\ddots & \\vdots \\\\\n",
    "0 & 0 & 0 & \\dots & l_{nn}\n",
    "\\end{pmatrix}\n",
    "\\begin{pmatrix}\n",
    "x_1 \\\\ x_2 \\\\ x_3 \\\\ \\vdots \\\\ x_n\n",
    "\\end{pmatrix}\n",
    "=\n",
    "\\begin{pmatrix}\n",
    "y_1 \\\\ y_2 \\\\ y_3 \\\\ \\vdots \\\\ y_n\n",
    "\\end{pmatrix}$$\n",
    "\n",
    "We can solve for the components of $\\boldsymbol{x}$ iteratively, starting from the last equation:\n",
    "\n",
    "* From the last row: $l_{nn} x_n = y_n \\implies x_n = \\frac{y_n}{l_{nn}}$\n",
    "* From the second to last row: $l_{n-1, n-1} x_{n-1} + l_{n, n-1} x_n = y_{n-1} \\implies x_{n-1} = \\frac{y_{n-1} - l_{n, n-1} x_n}{l_{n-1, n-1}}$\n",
    "* From the third to last row: $l_{n-2, n-2} x_{n-2} + l_{n-1, n-2} x_{n-1} + l_{n, n-2} x_n = y_{n-2} \\implies x_{n-2} = \\frac{y_{n-2} - l_{n-1, n-2} x_{n-1} - l_{n, n-2} x_n}{l_{n-2, n-2}}$\n",
    "* In general, for $i = n, n-1, \\dots, 1$:\n",
    "    $$x_i = \\frac{y_i - \\sum_{j=i+1}^{n} l_{ji} x_j}{l_{ii}}$$\n",
    "\n",
    "\n",
    "Let's implement this:"
   ]
  },
  {
   "cell_type": "code",
   "execution_count": 8,
   "id": "7333ebbd-a6e9-4d95-bed7-dde3d42db92c",
   "metadata": {},
   "outputs": [],
   "source": [
    "def solve_using_cholesky(A, b):\n",
    "    \"\"\"\n",
    "    Solve the linear system Ax = b using Cholesky decomposition.\n",
    "    \n",
    "    Parameters:\n",
    "    A (numpy.ndarray): Symmetric positive definite matrix\n",
    "    b (numpy.ndarray): Right-hand side vector\n",
    "    \n",
    "    Returns:\n",
    "    x (numpy.ndarray): Solution vector\n",
    "    \"\"\"\n",
    "    # Compute the Cholesky decomposition\n",
    "    L = cholesky_decomposition(A)\n",
    "    \n",
    "    # Solve Ly = b for y (forward substitution)\n",
    "    n = A.shape[0]\n",
    "    y = np.zeros(n)\n",
    "    for i in range(n):\n",
    "        y[i] = (b[i] - np.sum(L[i, :i]*y[:i]))/L[i, i]\n",
    "    \n",
    "    # Solve L^Tx = y for x (backward substitution)\n",
    "    x = np.zeros(n)\n",
    "    for i in range(n-1, -1, -1):\n",
    "        x[i] = (y[i] - np.sum(L[i+1:, i]*x[i+1:]))/L[i, i]\n",
    "    \n",
    "    return x"
   ]
  },
  {
   "cell_type": "markdown",
   "id": "cdb6d2f5-9498-4d27-8ed8-97c267dbc8f7",
   "metadata": {},
   "source": [
    "Let's test our solver with a simple example"
   ]
  },
  {
   "cell_type": "code",
   "execution_count": 9,
   "id": "e2c59023-b1ca-470b-8eb0-45e2919c235a",
   "metadata": {},
   "outputs": [
    {
     "name": "stdout",
     "output_type": "stream",
     "text": [
      "Our solution x:\n",
      "[-16.18377095 133.70427887 -15.76993104   7.00773395]\n",
      "\n",
      "NumPy's solution x:\n",
      "[-16.18377095 133.70427887 -15.76993104   7.00773395]\n",
      "\n",
      "Is our solution close to SciPy's? True\n",
      "\n",
      "Verify A@x = b: True\n"
     ]
    }
   ],
   "source": [
    "# Create a random right-hand side vector\n",
    "b = rand(n)\n",
    "\n",
    "# Solve the system using our implementation\n",
    "x_our = solve_using_cholesky(A, b)\n",
    "\n",
    "# Solve the system using SciPy, taking advantage that A is a positive definite matrix\n",
    "x_scipy = solve(A, b, assume_a='pos')\n",
    "\n",
    "print(\"Our solution x:\")\n",
    "print(x_our)\n",
    "print(\"\\nNumPy's solution x:\")\n",
    "print(x_scipy)\n",
    "print(\"\\nIs our solution close to SciPy's?\", np.allclose(x_our, x_scipy))\n",
    "\n",
    "# Verify the solution\n",
    "print(\"\\nVerify A@x = b:\", np.allclose(A@x_our, b))"
   ]
  },
  {
   "cell_type": "markdown",
   "id": "f4b16b22-300a-4846-9072-2cf0137f694a",
   "metadata": {},
   "source": [
    "## 6. Large System Performance\n",
    "\n",
    "Now, let's compare the performance of our implementation with NumPy's for matrices of different sizes:"
   ]
  },
  {
   "cell_type": "code",
   "execution_count": 10,
   "id": "29f53ec7-7eb2-4128-b619-28568c4307d6",
   "metadata": {},
   "outputs": [],
   "source": [
    "def compare_performance(sizes):\n",
    "    \"\"\"\n",
    "    Compare performance of our implementation versus NumPy for different matrix sizes.\n",
    "    \"\"\"\n",
    "    \n",
    "    num_sizes = len(sizes)\n",
    "\n",
    "    # Separate memory\n",
    "    ch_times     = np.zeros(num_sizes)\n",
    "    np_times     = np.zeros(num_sizes)\n",
    "    ch_residuals = np.zeros(num_sizes)\n",
    "    np_residuals = np.zeros(num_sizes)\n",
    "\n",
    "    # Create a seed for reproducibility\n",
    "    np.random.seed(42)\n",
    "    \n",
    "    for i in range(num_sizes):\n",
    "        # Matrix size\n",
    "        n = sizes[i]\n",
    "        \n",
    "        # Create a random symmetric positive definite matrix\n",
    "        # Create lower triangular matrix with random values below diagonal\n",
    "        L = np.tril(np.random.randn(n, n), -1)\n",
    "    \n",
    "        # Ensure positive diagonal entries (crucial for positive definiteness)\n",
    "        np.fill_diagonal(L, np.abs(np.random.randn(n)) + 100)\n",
    "    \n",
    "        # Compute positive definite matrix\n",
    "        A = L@L.T\n",
    "        \n",
    "        # Time our implementation\n",
    "        start = time.perf_counter()            \n",
    "        L_our = cholesky_decomposition(A)\n",
    "        ch_times[i] = time.perf_counter() - start\n",
    "        \n",
    "        # Time NumPy's implementation\n",
    "        start = time.perf_counter()\n",
    "        L_numpy = np.linalg.cholesky(A)\n",
    "        np_times[i] = time.perf_counter() - start\n",
    "\n",
    "    # Pack all stats in a pandas' dataframe\n",
    "    df = pd.DataFrame({\n",
    "        'Size':            sizes,\n",
    "        'Our time':        ch_times,\n",
    "        'NumPy time':      np_times\n",
    "    })\n",
    "    return df"
   ]
  },
  {
   "cell_type": "code",
   "execution_count": 11,
   "id": "234f9922-02f3-4c01-b52c-9d03ef045cda",
   "metadata": {},
   "outputs": [
    {
     "name": "stdout",
     "output_type": "stream",
     "text": [
      "\n",
      "\n",
      "Performance Comparison:\n"
     ]
    },
    {
     "data": {
      "text/html": [
       "<div>\n",
       "<style scoped>\n",
       "    .dataframe tbody tr th:only-of-type {\n",
       "        vertical-align: middle;\n",
       "    }\n",
       "\n",
       "    .dataframe tbody tr th {\n",
       "        vertical-align: top;\n",
       "    }\n",
       "\n",
       "    .dataframe thead th {\n",
       "        text-align: right;\n",
       "    }\n",
       "</style>\n",
       "<table border=\"1\" class=\"dataframe\">\n",
       "  <thead>\n",
       "    <tr style=\"text-align: right;\">\n",
       "      <th></th>\n",
       "      <th>Size</th>\n",
       "      <th>Our time</th>\n",
       "      <th>NumPy time</th>\n",
       "    </tr>\n",
       "  </thead>\n",
       "  <tbody>\n",
       "    <tr>\n",
       "      <th>0</th>\n",
       "      <td>10</td>\n",
       "      <td>0.000529</td>\n",
       "      <td>0.000052</td>\n",
       "    </tr>\n",
       "    <tr>\n",
       "      <th>1</th>\n",
       "      <td>20</td>\n",
       "      <td>0.001499</td>\n",
       "      <td>0.000084</td>\n",
       "    </tr>\n",
       "    <tr>\n",
       "      <th>2</th>\n",
       "      <td>50</td>\n",
       "      <td>0.008699</td>\n",
       "      <td>0.000127</td>\n",
       "    </tr>\n",
       "    <tr>\n",
       "      <th>3</th>\n",
       "      <td>100</td>\n",
       "      <td>0.034621</td>\n",
       "      <td>0.000294</td>\n",
       "    </tr>\n",
       "    <tr>\n",
       "      <th>4</th>\n",
       "      <td>200</td>\n",
       "      <td>0.083092</td>\n",
       "      <td>0.001250</td>\n",
       "    </tr>\n",
       "    <tr>\n",
       "      <th>5</th>\n",
       "      <td>500</td>\n",
       "      <td>0.549869</td>\n",
       "      <td>0.003284</td>\n",
       "    </tr>\n",
       "    <tr>\n",
       "      <th>6</th>\n",
       "      <td>1000</td>\n",
       "      <td>2.286092</td>\n",
       "      <td>0.013994</td>\n",
       "    </tr>\n",
       "    <tr>\n",
       "      <th>7</th>\n",
       "      <td>2000</td>\n",
       "      <td>10.497291</td>\n",
       "      <td>0.081373</td>\n",
       "    </tr>\n",
       "    <tr>\n",
       "      <th>8</th>\n",
       "      <td>5000</td>\n",
       "      <td>90.953983</td>\n",
       "      <td>0.868226</td>\n",
       "    </tr>\n",
       "  </tbody>\n",
       "</table>\n",
       "</div>"
      ],
      "text/plain": [
       "   Size   Our time  NumPy time\n",
       "0    10   0.000529    0.000052\n",
       "1    20   0.001499    0.000084\n",
       "2    50   0.008699    0.000127\n",
       "3   100   0.034621    0.000294\n",
       "4   200   0.083092    0.001250\n",
       "5   500   0.549869    0.003284\n",
       "6  1000   2.286092    0.013994\n",
       "7  2000  10.497291    0.081373\n",
       "8  5000  90.953983    0.868226"
      ]
     },
     "metadata": {},
     "output_type": "display_data"
    }
   ],
   "source": [
    "# Compare performance for matrices of different sizes\n",
    "print(\"\\n\\nPerformance Comparison:\")\n",
    "sizes = [10, 20, 50, 100, 200, 500, 1000, 2000, 5000]\n",
    "df = compare_performance(sizes)\n",
    "display(df)"
   ]
  },
  {
   "cell_type": "code",
   "execution_count": 12,
   "id": "c226881f-5253-4ca0-8bd9-4deca9122a59",
   "metadata": {},
   "outputs": [
    {
     "data": {
      "image/png": "[encoded data removed]",
      "text/plain": [
       "<Figure size 1000x600 with 1 Axes>"
      ]
     },
     "metadata": {},
     "output_type": "display_data"
    }
   ],
   "source": [
    "# Plot the performance comparison\n",
    "ch_times = df['Our time']\n",
    "np_times = df['NumPy time']\n",
    "\n",
    "plt.figure(figsize=(10, 6))\n",
    "plt.loglog(sizes, ch_times, 'o-', label='Our Cholesky Implementation')\n",
    "plt.loglog(sizes, np_times, 's-', label='NumPy Implementation')\n",
    "plt.xlabel('Matrix Size (n)')\n",
    "plt.ylabel('Time (seconds)')\n",
    "plt.title('Performance Comparison: Cholesky vs NumPy')\n",
    "plt.legend()\n",
    "plt.grid(True, which=\"both\")\n",
    "#k, log_a = np.polyfit(np.log(sizes[4:]), np.log(ch_times[4:]), 1)\n",
    "#plt.plot(sizes, np.exp(log_a)*sizes**k)\n",
    "plt.show()"
   ]
  },
  {
   "cell_type": "markdown",
   "id": "7bdc5bf9-9e83-4d0b-9be9-2cc08eadc2d9",
   "metadata": {},
   "source": [
    "When data follows a straight line in a log-log plot, it indicates that the relationship between the two variables adheres to a *power law*. Specifically, the data can be modeled by an equation of the form \n",
    "$$y = ax^k.$$\n",
    "To show that, take the logarithm of both sides of the power law equation transforms it into:\n",
    "$$\n",
    "   \\log(y) = \\log(a) + k\\log(x).\n",
    "$$\n",
    "This is a linear equation where $k$ is the slope of the line and $\\log(a)$ is the intercept."
   ]
  },
  {
   "cell_type": "code",
   "execution_count": 13,
   "id": "5b0c375a-9851-4cd4-8206-0deeca438e0a",
   "metadata": {},
   "outputs": [
    {
     "name": "stdout",
     "output_type": "stream",
     "text": [
      "k = 2.166792091387427\n",
      "a = 7.932064138969218e-07\n"
     ]
    }
   ],
   "source": [
    "k, log_a = np.polyfit(np.log(sizes[4:]), np.log(ch_times[4:]), 1)\n",
    "print(\"k =\", k)\n",
    "print(\"a =\", np.exp(log_a))"
   ]
  },
  {
   "cell_type": "markdown",
   "id": "b6745318-f845-4a9d-85d4-5607b30dd14e",
   "metadata": {},
   "source": [
    "The computational complexity of the Cholesky decomposition is $O(n^3/3)$ for an $n \\times n$ matrix, which is about 3 times faster than LU decomposition."
   ]
  },
  {
   "cell_type": "markdown",
   "id": "e76db39e-7d4a-463d-9437-cc57ad9a8c08",
   "metadata": {},
   "source": [
    "## 7. Application: Solving a Poisson Equation\n",
    "\n",
    "Let's apply the Cholesky decomposition to solve a Poisson equation, which is a common application in numerical methods.\n",
    "\n",
    "The 1D Poisson equation is given by:\n",
    "\n",
    "$\\frac{d^2 u}{dx^2} = f(x)$\n",
    "\n",
    "With boundary conditions $u(0) = u(1) = 0$.\n",
    "\n",
    "Using finite differences, we get a system of linear equations $Au = f$ where $A$ is a tridiagonal matrix, which is symmetric positive definite."
   ]
  },
  {
   "cell_type": "code",
   "execution_count": 14,
   "id": "0c541c0c-9644-4def-9cae-e315af64d07e",
   "metadata": {},
   "outputs": [
    {
     "data": {
      "image/png": "[encoded data removed]",
      "text/plain": [
       "<Figure size 1000x600 with 1 Axes>"
      ]
     },
     "metadata": {},
     "output_type": "display_data"
    },
    {
     "name": "stdout",
     "output_type": "stream",
     "text": [
      "Maximum error: 8.168541e-06\n"
     ]
    }
   ],
   "source": [
    "def solve_poisson_1d(n, f):\n",
    "    \"\"\"\n",
    "    Solve the 1D Poisson equation using finite differences and Cholesky decomposition.\n",
    "    \n",
    "    Parameters:\n",
    "    n (int): Number of interior grid points\n",
    "    f (function): Right-hand side function\n",
    "    \n",
    "    Returns:\n",
    "    x (numpy.ndarray): Grid points\n",
    "    u (numpy.ndarray): Solution\n",
    "    \"\"\"\n",
    "    # Create grid\n",
    "    h = 1.0/(n + 1)\n",
    "    x = np.linspace(h, 1-h, n)\n",
    "    \n",
    "    # Create system matrix A\n",
    "    A = np.zeros((n, n))\n",
    "    for i in range(n):\n",
    "        A[i, i] = 2\n",
    "        if i > 0:\n",
    "            A[i, i-1] = -1\n",
    "        if i < n-1:\n",
    "            A[i, i+1] = -1\n",
    "    A = A / h**2\n",
    "    \n",
    "    # Create right-hand side vector\n",
    "    b = np.array([f(xi) for xi in x])\n",
    "    \n",
    "    # Solve using Cholesky decomposition\n",
    "    u = solve_using_cholesky(A, b)\n",
    "    \n",
    "    return x, u\n",
    "\n",
    "# Define the right-hand side function\n",
    "def f(x):\n",
    "    return np.sin(np.pi * x)\n",
    "\n",
    "# Solve the Poisson equation\n",
    "n = 100\n",
    "x, u = solve_poisson_1d(n, f)\n",
    "\n",
    "# Analytical solution\n",
    "u_analytical = np.sin(np.pi * x) / (np.pi**2)\n",
    "\n",
    "# Plot the results\n",
    "plt.figure(figsize=(10, 6))\n",
    "plt.plot(x, u, 'o-', label='Numerical Solution')\n",
    "plt.plot(x, u_analytical, '--', label='Analytical Solution')\n",
    "plt.xlabel('x')\n",
    "plt.ylabel('u(x)')\n",
    "plt.title('Solution of 1D Poisson Equation')\n",
    "plt.legend()\n",
    "plt.grid(True)\n",
    "plt.show()\n",
    "\n",
    "# Compute and print the error\n",
    "error = np.max(np.abs(u - u_analytical))\n",
    "print(f\"Maximum error: {error:.6e}\")"
   ]
  }
 ],
 "metadata": {
  "kernelspec": {
   "display_name": "Python 3 (ipykernel)",
   "language": "python",
   "name": "python3"
  },
  "language_info": {
   "codemirror_mode": {
    "name": "ipython",
    "version": 3
   },
   "file_extension": ".py",
   "mimetype": "text/x-python",
   "name": "python",
   "nbconvert_exporter": "python",
   "pygments_lexer": "ipython3",
   "version": "3.12.7"
  }
 },
 "nbformat": 4,
 "nbformat_minor": 5
}
