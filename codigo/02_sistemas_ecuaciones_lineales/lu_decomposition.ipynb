{
 "cells": [
  {
   "cell_type": "markdown",
   "id": "0017044b-d0ce-46cb-856e-9872e340568e",
   "metadata": {},
   "source": [
    "# LU decomposition"
   ]
  },
  {
   "cell_type": "markdown",
   "id": "802e1e2a-7152-416f-9629-67336c0a7fd6",
   "metadata": {},
   "source": [
    "| Who  | Mail | Date | What |\n",
    "| ---  | ---   | --- | ---      |\n",
    "|Diego Andrés Alvarez Marín | <daalvarez@unal.edu.co>  | March 20th, 2025 | Initial code |"
   ]
  },
  {
   "cell_type": "markdown",
   "id": "ac715de1-ec7a-45ed-9a95-5d43468ba8f4",
   "metadata": {},
   "source": [
    "LU decomposition is a fundamental matrix factorization technique in numerical linear algebra. It decomposes a matrix $\\boldsymbol{A}$ into the product of a lower triangular matrix $\\boldsymbol{L}$ and an upper triangular matrix $\\boldsymbol{U}$:\n",
    "\n",
    "$$\\boldsymbol{A} = \\boldsymbol{L}\\boldsymbol{U}$$\n",
    "\n",
    "This decomposition is particularly useful for solving systems of linear equations, computing determinants, and calculating matrix inverses efficiently."
   ]
  },
  {
   "cell_type": "code",
   "execution_count": 1,
   "id": "adc441cf-68d2-4df6-bc52-1e781a37396b",
   "metadata": {},
   "outputs": [],
   "source": [
    "from IPython.display import display\n",
    "import pandas as pd\n",
    "import scipy\n",
    "import numpy as np\n",
    "from numpy.random import rand\n",
    "from numpy.linalg import det\n",
    "import matplotlib.pyplot as plt\n",
    "import time\n",
    "\n",
    "# Increase the number of digits shown when an array is printed\n",
    "np.set_printoptions(linewidth=200)"
   ]
  },
  {
   "cell_type": "markdown",
   "id": "96ff1ed0-afd0-4156-acb6-ad35fd014cc0",
   "metadata": {},
   "source": [
    "## 1. Mathematical Background\n",
    "\n",
    "Given a square matrix $\\boldsymbol{A}$, the LU decomposition finds matrices $\\boldsymbol{L}$ and $\\boldsymbol{U}$ such that:\n",
    "\n",
    "$$\\boldsymbol{A} = \\boldsymbol{L}\\boldsymbol{U}$$\n",
    "\n",
    "Where:\n",
    "- $\\boldsymbol{L}$ is a lower triangular matrix with 1's on the diagonal\n",
    "- $\\boldsymbol{U}$ is an upper triangular matrix\n",
    "\n",
    "For a $3 \\times 3$ matrix, the decomposition looks like:\n",
    "\n",
    "$$\n",
    "\\begin{pmatrix} \n",
    "A_{11} & A_{12} & A_{13} \\\\\n",
    "A_{21} & A_{22} & A_{23} \\\\\n",
    "A_{31} & A_{32} & A_{33}\n",
    "\\end{pmatrix} = \n",
    "\\begin{pmatrix} \n",
    "1 & 0 & 0 \\\\\n",
    "L_{21} & 1 & 0 \\\\\n",
    "L_{31} & L_{32} & 1\n",
    "\\end{pmatrix}\n",
    "\\begin{pmatrix} \n",
    "U_{11} & U_{12} & U_{13} \\\\\n",
    "0 & U_{22} & U_{23} \\\\\n",
    "0 & 0 & U_{33}\n",
    "\\end{pmatrix}\n",
    "$$\n",
    "\n",
    "### Algorithm for LU Decomposition (Doolittle's Method)\n",
    "\n",
    "The Doolittle algorithm computes $\\boldsymbol{L}$ and $\\boldsymbol{U}$ directly:\n",
    "\n",
    "For $i = 1, 2, ..., n$:\n",
    "   - For $j = i, i+1, ..., n$:\n",
    "     $$U_{ij} = A_{ij} - \\sum_{k=1}^{i-1} L_{ik} U_{kj}$$\n",
    "   \n",
    "   - For $j = i+1, i+2, ..., n$:\n",
    "     $$L_{ji} = \\frac{A_{ji} - \\sum_{k=1}^{i-1} L_{jk} U_{ki}}{U_{ii}}$$"
   ]
  },
  {
   "cell_type": "markdown",
   "id": "3b0ff704-5358-4d84-9678-4fd82a6c3b7c",
   "metadata": {},
   "source": [
    "## 2. Implementation of the LU decomposition"
   ]
  },
  {
   "cell_type": "code",
   "execution_count": 2,
   "id": "045f2f9b-1488-4bad-a680-8406b8691b27",
   "metadata": {},
   "outputs": [],
   "source": [
    "def lu_decomposition(A):\n",
    "    \"\"\"\n",
    "    Perform LU decomposition on matrix A using Doolittle's method.\n",
    "    \n",
    "    Parameters:\n",
    "        A (numpy.ndarray): Input square matrix\n",
    "        \n",
    "    Returns:\n",
    "        L (numpy.ndarray): Lower triangular matrix\n",
    "        U (numpy.ndarray): Upper triangular matrix\n",
    "    \"\"\"\n",
    "    # Check if A is square\n",
    "    n, m = A.shape\n",
    "    if n != m:\n",
    "        raise ValueError(\"Matrix A must be square\")\n",
    "       \n",
    "    # Initialize L and U matrices\n",
    "    L = np.zeros((n, n))\n",
    "    U = np.zeros((n, n))\n",
    "    \n",
    "    # Set diagonal of L to 1\n",
    "    np.fill_diagonal(L, 1)\n",
    "    \n",
    "    for i in range(n):\n",
    "        # Calculate U[i,j]\n",
    "        for j in range(i, n):\n",
    "            U[i, j] = A[i, j] - np.sum(L[i, :i] * U[:i, j])\n",
    "        \n",
    "        # Calculate L[j,i]\n",
    "        for j in range(i+1, n):\n",
    "            L[j, i] = (A[j, i] - np.sum(L[j, :i] * U[:i, i])) / U[i, i]\n",
    "    \n",
    "    return L, U"
   ]
  },
  {
   "cell_type": "markdown",
   "id": "f404402c-eb17-4f59-a187-a1fcae18a737",
   "metadata": {},
   "source": [
    "## 3. Example\n",
    "\n",
    "Let's test our implementation:"
   ]
  },
  {
   "cell_type": "code",
   "execution_count": 3,
   "id": "4ebe6437-1655-4f4b-8b98-f6533b6f0261",
   "metadata": {},
   "outputs": [
    {
     "name": "stdout",
     "output_type": "stream",
     "text": [
      "Original matrix A:\n",
      "[[0.11211773 0.89804957 0.11728672 0.03244627]\n",
      " [0.90784615 0.28039452 0.22061424 0.13219272]\n",
      " [0.4619435  0.54356164 0.63339858 0.62045685]\n",
      " [0.64954606 0.80440257 0.5633764  0.78502884]]\n",
      "\n",
      "Lower Triangular Matrix (L2):\n",
      "[[1.         0.         0.         0.        ]\n",
      " [8.09725751 1.         0.         0.        ]\n",
      " [4.12016444 0.45149405 1.         0.        ]\n",
      " [5.7934284  0.62911842 0.71466733 1.        ]]\n",
      "\n",
      "Upper Triangular Matrix (U2):\n",
      "[[ 0.11211773  0.89804957  0.11728672  0.03244627]\n",
      " [ 0.         -6.99134414 -0.72908656 -0.13053307]\n",
      " [ 0.          0.          0.47933624  0.54570779]\n",
      " [ 0.          0.          0.          0.28917493]]\n",
      "\n",
      "Verify A = L@U: True\n"
     ]
    }
   ],
   "source": [
    "# Create a symmetric positive definite matrix\n",
    "n = 4\n",
    "A = rand(n, n)\n",
    "\n",
    "# Compute Cholesky decomposition\n",
    "L, U = lu_decomposition(A)\n",
    "\n",
    "print(\"Original matrix A:\")\n",
    "print(A)\n",
    "\n",
    "print(\"\\nLower Triangular Matrix (L2):\")\n",
    "print(L)\n",
    "\n",
    "print(\"\\nUpper Triangular Matrix (U2):\")\n",
    "print(U)\n",
    "\n",
    "# Verify the decomposition\n",
    "print(\"\\nVerify A = L@U:\", np.allclose(A, L@U))"
   ]
  },
  {
   "cell_type": "markdown",
   "id": "91806a29-14e1-4c9c-8863-7260565a8a33",
   "metadata": {},
   "source": [
    "## 4. Comparison with SciPy's Implementation\n",
    "\n",
    "Now, let's compare our implementation with NumPy's built-in function:"
   ]
  },
  {
   "cell_type": "code",
   "execution_count": 4,
   "id": "ece5f807-8417-4080-ba55-ba072330feb9",
   "metadata": {},
   "outputs": [
    {
     "name": "stdout",
     "output_type": "stream",
     "text": [
      "SciPy's L:\n",
      "[[0.1234986  1.         0.         0.        ]\n",
      " [1.         0.         0.         0.        ]\n",
      " [0.50883456 0.46430085 1.         0.        ]\n",
      " [0.71548032 0.69929459 0.71466733 1.        ]]\n",
      "SciPy's U:\n",
      "[[0.90784615 0.28039452 0.22061424 0.13219272]\n",
      " [0.         0.86342124 0.09004117 0.01612065]\n",
      " [0.         0.         0.47933624 0.54570779]\n",
      " [0.         0.         0.         0.28917493]]\n",
      "\n",
      "Is our implementation close to NumPy's? False\n"
     ]
    }
   ],
   "source": [
    "# SciPy's implementation\n",
    "L_scipy, U_scipy = scipy.linalg.lu(A, permute_l=True)\n",
    "\n",
    "print(\"SciPy's L:\")\n",
    "print(L_scipy)\n",
    "\n",
    "print(\"SciPy's U:\")\n",
    "print(U_scipy)\n",
    "\n",
    "print(\"\\nIs our implementation close to NumPy's?\", np.allclose(L, L_scipy) and np.allclose(U, U_scipy))"
   ]
  },
  {
   "cell_type": "markdown",
   "id": "a12e10bd-9ada-491c-9688-fe9c2d5c395c",
   "metadata": {},
   "source": [
    "## 5. Solving linear systems using LU decomposition"
   ]
  },
  {
   "cell_type": "markdown",
   "id": "2bf8eeeb-cb28-44f4-a814-e0e27a79ae86",
   "metadata": {},
   "source": [
    "One of the main applications of the LU decomposition is solving linear systems of the form $\\boldsymbol{A}\\boldsymbol{x} = \\boldsymbol{b}$.\n",
    "\n",
    "Given $\\boldsymbol{A} = \\boldsymbol{L}\\boldsymbol{U}$, we can solve $\\boldsymbol{A}\\boldsymbol{x} = \\boldsymbol{b}$ by:\n",
    "1. Solving $\\boldsymbol{L}\\boldsymbol{y} = \\boldsymbol{b}$ for $\\boldsymbol{y}$\n",
    "2. Solving $\\boldsymbol{U}\\boldsymbol{x} = \\boldsymbol{y}$ for $\\boldsymbol{x}$\n",
    "\n",
    "Let's implement this:"
   ]
  },
  {
   "cell_type": "code",
   "execution_count": 5,
   "id": "7333ebbd-a6e9-4d95-bed7-dde3d42db92c",
   "metadata": {},
   "outputs": [],
   "source": [
    "# Forward substitution to solve Ly = b for y\n",
    "def forward_substitution(L, b):\n",
    "    n = len(b)\n",
    "    y = np.zeros(n)\n",
    "    for i in range(n):\n",
    "        y[i] = (b[i] - np.dot(L[i, :i], y[:i])) / L[i, i]\n",
    "    return y\n",
    "\n",
    "# Backward substitution to solve Ux = y for x\n",
    "def backward_substitution(U, y):\n",
    "    n = len(y)\n",
    "    x = np.zeros(n)\n",
    "    for i in range(n-1, -1, -1):\n",
    "        x[i] = (y[i] - np.dot(U[i, i+1:], x[i+1:])) / U[i, i]\n",
    "    return x\n",
    "\n",
    "def solve_using_lu(A, b):\n",
    "    \"\"\"\n",
    "    Solve the linear system Ax = b using LU decomposition.\n",
    "    \n",
    "    Parameters:\n",
    "    A (numpy.ndarray): Symmetric positive definite matrix\n",
    "    b (numpy.ndarray): Right-hand side vector\n",
    "    \n",
    "    Returns:\n",
    "    x (numpy.ndarray): Solution vector\n",
    "    \"\"\"\n",
    "    n = A.shape[0]\n",
    "    \n",
    "    # Compute the LU decomposition\n",
    "    L, U = lu_decomposition(A)\n",
    "    \n",
    "    # Forward substitution to solve Ly = b for y\n",
    "    y = forward_substitution(L, b)\n",
    "\n",
    "    # Backward substitution to solve Ux = y for x\n",
    "    x = backward_substitution(U, y)\n",
    "    \n",
    "    return x"
   ]
  },
  {
   "cell_type": "markdown",
   "id": "cdb6d2f5-9498-4d27-8ed8-97c267dbc8f7",
   "metadata": {},
   "source": [
    "Let's test our solver with a simple example"
   ]
  },
  {
   "cell_type": "code",
   "execution_count": 6,
   "id": "e2c59023-b1ca-470b-8eb0-45e2919c235a",
   "metadata": {},
   "outputs": [
    {
     "name": "stdout",
     "output_type": "stream",
     "text": [
      "Our solution x:\n",
      "[-0.34163975  0.96559847  1.37135568 -0.45493452]\n",
      "\n",
      "NumPy's solution x:\n",
      "[-0.34163975  0.96559847  1.37135568 -0.45493452]\n",
      "\n",
      "Is our solution close to NumPy's? True\n",
      "\n",
      "Verify A@x = b: True\n"
     ]
    }
   ],
   "source": [
    "# Create a random right-hand side vector\n",
    "b = rand(n)\n",
    "\n",
    "# Solve the system using our implementation\n",
    "x_our = solve_using_lu(A, b)\n",
    "\n",
    "# Solve the system using NumPy\n",
    "x_numpy = np.linalg.solve(A, b)\n",
    "\n",
    "print(\"Our solution x:\")\n",
    "print(x_our)\n",
    "print(\"\\nNumPy's solution x:\")\n",
    "print(x_numpy)\n",
    "print(\"\\nIs our solution close to NumPy's?\", np.allclose(x_our, x_numpy))\n",
    "\n",
    "# Verify the solution\n",
    "print(\"\\nVerify A@x = b:\", np.allclose(A@x_our, b))"
   ]
  },
  {
   "cell_type": "markdown",
   "id": "f4b16b22-300a-4846-9072-2cf0137f694a",
   "metadata": {},
   "source": [
    "## 6. Large System Performance\n",
    "\n",
    "Now, let's compare the performance of our implementation with NumPy's for matrices of different sizes:"
   ]
  },
  {
   "cell_type": "code",
   "execution_count": 7,
   "id": "29f53ec7-7eb2-4128-b619-28568c4307d6",
   "metadata": {},
   "outputs": [],
   "source": [
    "def compare_performance(sizes):\n",
    "    \"\"\"\n",
    "    Compare the performance of our LU implementation with SciPy's.\n",
    "    \"\"\"\n",
    "    lu_times = []\n",
    "    sp_times = []\n",
    "\n",
    "    # Create a seed for reproducibility\n",
    "    np.random.seed(42)\n",
    "    \n",
    "    for n in sizes:\n",
    "        # Create a random matrix    \n",
    "        A = np.random.randn(n, n)\n",
    "        \n",
    "        # Time our implementation\n",
    "        start_time = time.time()\n",
    "        L_our, U_our = lu_decomposition(A)\n",
    "        lu_time = time.time() - start_time\n",
    "        lu_times.append(lu_time)\n",
    "        \n",
    "        # Time NumPy's implementation\n",
    "        start_time = time.time()\n",
    "        L_scipy, U_scipy = scipy.linalg.lu(A, permute_l=True)\n",
    "        sp_time = time.time() - start_time\n",
    "        sp_times.append(sp_time)\n",
    "\n",
    "    # Pack all stats in a pandas' dataframe\n",
    "    df = pd.DataFrame({\n",
    "        'Size':            sizes,\n",
    "        'Our time':        lu_times,\n",
    "        'SciPy time':      sp_times\n",
    "    })\n",
    "    return df"
   ]
  },
  {
   "cell_type": "code",
   "execution_count": 8,
   "id": "234f9922-02f3-4c01-b52c-9d03ef045cda",
   "metadata": {},
   "outputs": [
    {
     "name": "stdout",
     "output_type": "stream",
     "text": [
      "\n",
      "\n",
      "Performance Comparison:\n"
     ]
    },
    {
     "data": {
      "text/html": [
       "<div>\n",
       "<style scoped>\n",
       "    .dataframe tbody tr th:only-of-type {\n",
       "        vertical-align: middle;\n",
       "    }\n",
       "\n",
       "    .dataframe tbody tr th {\n",
       "        vertical-align: top;\n",
       "    }\n",
       "\n",
       "    .dataframe thead th {\n",
       "        text-align: right;\n",
       "    }\n",
       "</style>\n",
       "<table border=\"1\" class=\"dataframe\">\n",
       "  <thead>\n",
       "    <tr style=\"text-align: right;\">\n",
       "      <th></th>\n",
       "      <th>Size</th>\n",
       "      <th>Our time</th>\n",
       "      <th>SciPy time</th>\n",
       "    </tr>\n",
       "  </thead>\n",
       "  <tbody>\n",
       "    <tr>\n",
       "      <th>0</th>\n",
       "      <td>10</td>\n",
       "      <td>0.000795</td>\n",
       "      <td>0.000318</td>\n",
       "    </tr>\n",
       "    <tr>\n",
       "      <th>1</th>\n",
       "      <td>20</td>\n",
       "      <td>0.002821</td>\n",
       "      <td>0.000271</td>\n",
       "    </tr>\n",
       "    <tr>\n",
       "      <th>2</th>\n",
       "      <td>50</td>\n",
       "      <td>0.023334</td>\n",
       "      <td>0.000439</td>\n",
       "    </tr>\n",
       "    <tr>\n",
       "      <th>3</th>\n",
       "      <td>100</td>\n",
       "      <td>0.088468</td>\n",
       "      <td>0.000700</td>\n",
       "    </tr>\n",
       "    <tr>\n",
       "      <th>4</th>\n",
       "      <td>200</td>\n",
       "      <td>0.203506</td>\n",
       "      <td>0.001892</td>\n",
       "    </tr>\n",
       "    <tr>\n",
       "      <th>5</th>\n",
       "      <td>500</td>\n",
       "      <td>1.312598</td>\n",
       "      <td>0.006211</td>\n",
       "    </tr>\n",
       "    <tr>\n",
       "      <th>6</th>\n",
       "      <td>1000</td>\n",
       "      <td>5.749982</td>\n",
       "      <td>0.026555</td>\n",
       "    </tr>\n",
       "    <tr>\n",
       "      <th>7</th>\n",
       "      <td>2000</td>\n",
       "      <td>38.837254</td>\n",
       "      <td>0.113250</td>\n",
       "    </tr>\n",
       "  </tbody>\n",
       "</table>\n",
       "</div>"
      ],
      "text/plain": [
       "   Size   Our time  SciPy time\n",
       "0    10   0.000795    0.000318\n",
       "1    20   0.002821    0.000271\n",
       "2    50   0.023334    0.000439\n",
       "3   100   0.088468    0.000700\n",
       "4   200   0.203506    0.001892\n",
       "5   500   1.312598    0.006211\n",
       "6  1000   5.749982    0.026555\n",
       "7  2000  38.837254    0.113250"
      ]
     },
     "metadata": {},
     "output_type": "display_data"
    }
   ],
   "source": [
    "# Compare performance for matrices of different sizes\n",
    "print(\"\\n\\nPerformance Comparison:\")\n",
    "sizes = [10, 20, 50, 100, 200, 500, 1000, 2000]\n",
    "df = compare_performance(sizes)\n",
    "display(df)"
   ]
  },
  {
   "cell_type": "code",
   "execution_count": 9,
   "id": "c226881f-5253-4ca0-8bd9-4deca9122a59",
   "metadata": {},
   "outputs": [
    {
     "data": {
      "image/png": "[encoded data removed]",
      "text/plain": [
       "<Figure size 1000x600 with 1 Axes>"
      ]
     },
     "metadata": {},
     "output_type": "display_data"
    }
   ],
   "source": [
    "# Plot the performance comparison\n",
    "lu_times = df['Our time']\n",
    "sp_times = df['SciPy time']\n",
    "\n",
    "plt.figure(figsize=(10, 6))\n",
    "plt.plot(sizes, lu_times, 'o-', label='Our LU Implementation')\n",
    "plt.plot(sizes, sp_times, 's-', label='SciPy Implementation')\n",
    "plt.xlabel('Matrix Size (n)')\n",
    "plt.ylabel('Time (seconds)')\n",
    "plt.title('Performance Comparison: LU vs SciPy')\n",
    "plt.legend()\n",
    "plt.grid(True)\n",
    "plt.xscale('log')\n",
    "plt.yscale('log')\n",
    "\n",
    "#k, log_a = np.polyfit(np.log(sizes), np.log(ch_times), 1)\n",
    "#plt.plot(sizes, np.exp(log_a)*sizes**k)\n",
    "\n",
    "plt.show()"
   ]
  },
  {
   "cell_type": "markdown",
   "id": "7bdc5bf9-9e83-4d0b-9be9-2cc08eadc2d9",
   "metadata": {},
   "source": [
    "When data follows a straight line in a log-log plot, it indicates that the relationship between the two variables adheres to a *power law*. Specifically, the data can be modeled by an equation of the form $y = ax^k$. To show that, take the logarithm of both sides of the power law equation transforms it into:\n",
    "$$\n",
    "   \\log(y) = \\log(a) + k\\log(x)\n",
    "$$\n",
    "This is a linear equation where $k$ is the slope of the line and $\\log(a)$ is the intercept."
   ]
  },
  {
   "cell_type": "code",
   "execution_count": 10,
   "id": "5b0c375a-9851-4cd4-8206-0deeca438e0a",
   "metadata": {},
   "outputs": [
    {
     "name": "stdout",
     "output_type": "stream",
     "text": [
      "k = 1.970337177734571\n",
      "a = 8.299571818963576e-06\n"
     ]
    }
   ],
   "source": [
    "k, log_a = np.polyfit(np.log(sizes), np.log(lu_times), 1)\n",
    "print(\"k =\", k)\n",
    "print(\"a =\", np.exp(log_a))"
   ]
  },
  {
   "cell_type": "markdown",
   "id": "b6745318-f845-4a9d-85d4-5607b30dd14e",
   "metadata": {},
   "source": [
    "The computational complexity of the Cholesky decomposition is $O(n^3/3)$ for an $n \\times n$ matrix, which is about 3 times faster than LU decomposition."
   ]
  },
  {
   "cell_type": "markdown",
   "id": "ed577529-05ec-47f5-af72-c307612f09a2",
   "metadata": {},
   "source": [
    "## 7. Computing the determinant\n",
    "\n",
    "Another application of LU decomposition is efficiently computing the determinant of a matrix. For a square matrix $\\boldsymbol{A}$ with LU decomposition $\\boldsymbol{A} = \\boldsymbol{L}\\boldsymbol{U}$, the determinant is:\n",
    "\n",
    "$$\\det(\\boldsymbol{A}) = \\det(\\boldsymbol{L}) \\cdot \\det(\\boldsymbol{U}) = \\det(\\boldsymbol{U}) = \\prod_{i=1}^n U_{ii}$$\n",
    "\n",
    "This is because $\\det(\\boldsymbol{L}) = 1$ due to its unit diagonal."
   ]
  },
  {
   "cell_type": "code",
   "execution_count": 11,
   "id": "af28da75-8e28-46de-a6be-07d6747d0a9a",
   "metadata": {},
   "outputs": [],
   "source": [
    "def determinant_using_lu(A):\n",
    "    \"\"\"\n",
    "    Compute the determinant of a matrix using LU decomposition.\n",
    "    \n",
    "    Parameters:\n",
    "        A (numpy.ndarray): Input square matrix\n",
    "        \n",
    "    Returns:\n",
    "        det (float): Determinant of the matrix\n",
    "    \"\"\"\n",
    "    L, U = lu_decomposition(A)\n",
    "    det_U = np.prod(np.diag(U))\n",
    "    return det_U"
   ]
  },
  {
   "cell_type": "code",
   "execution_count": 12,
   "id": "170a2ab1-c6c6-4a1e-9d69-7ef5ba05b7ef",
   "metadata": {},
   "outputs": [
    {
     "name": "stdout",
     "output_type": "stream",
     "text": [
      "Determinant of A using LU decomposition: -0.108652\n",
      "Determinant of A using NumPy: -0.108652\n"
     ]
    }
   ],
   "source": [
    "# Calculate determinants of our example matrices\n",
    "det_A_lu = determinant_using_lu(A)\n",
    "det_A_np = det(A)\n",
    "\n",
    "print(f\"Determinant of A using LU decomposition: {det_A_lu:.6f}\")\n",
    "print(f\"Determinant of A using NumPy: {det_A_np:.6f}\")"
   ]
  },
  {
   "cell_type": "markdown",
   "id": "d45425c4-2551-437d-8653-48000522b9e1",
   "metadata": {},
   "source": [
    "## 8. Computing the inverse\n",
    "\n",
    "LU decomposition can also be used to compute the inverse of a matrix efficiently:"
   ]
  },
  {
   "cell_type": "code",
   "execution_count": 13,
   "id": "3ccb6b4d-d597-430e-81e2-fb35e10c87dc",
   "metadata": {},
   "outputs": [],
   "source": [
    "def inverse_using_lu(A):\n",
    "    \"\"\"\n",
    "    Compute the inverse of a matrix using LU decomposition.\n",
    "    \n",
    "    Parameters:\n",
    "        A (numpy.ndarray): Input square matrix\n",
    "        \n",
    "    Returns:\n",
    "        A_inv (numpy.ndarray): Inverse of the matrix\n",
    "    \"\"\"\n",
    "    n = A.shape[0]\n",
    "    \n",
    "    # Perform LU decomposition\n",
    "    L, U = lu_decomposition(A)\n",
    "    \n",
    "    # Initialize inverse matrix\n",
    "    A_inv = np.zeros((n, n))\n",
    "    \n",
    "    # Identity matrix for solving Ax = I\n",
    "    I = np.eye(n)\n",
    "    \n",
    "    # Solve for each column of the identity matrix\n",
    "    for i in range(n):\n",
    "        y = forward_substitution(L, I[:,i])\n",
    "        x = backward_substitution(U, y)\n",
    "        A_inv[:,i] = x\n",
    "    \n",
    "    return A_inv"
   ]
  },
  {
   "cell_type": "code",
   "execution_count": 14,
   "id": "01e3673d-8d55-4b9d-b3dd-81a2c9844f5f",
   "metadata": {},
   "outputs": [
    {
     "name": "stdout",
     "output_type": "stream",
     "text": [
      "Original matrix:\n",
      "[[0.11211773 0.89804957 0.11728672 0.03244627]\n",
      " [0.90784615 0.28039452 0.22061424 0.13219272]\n",
      " [0.4619435  0.54356164 0.63339858 0.62045685]\n",
      " [0.64954606 0.80440257 0.5633764  0.78502884]]\n",
      "\n",
      "Inverse using LU decomposition:\n",
      "[[-0.28078415  1.23811473 -0.68726778  0.34630657]\n",
      " [ 1.13205192 -0.15083767 -0.46483134  0.34599566]\n",
      " [ 0.47809147  0.26456285  4.8998235  -3.93694406]\n",
      " [-1.27076693 -1.05974043 -2.47140136  3.45811438]]\n",
      "\n",
      "Inverse using NumPy:\n",
      "[[-0.28078415  1.23811473 -0.68726778  0.34630657]\n",
      " [ 1.13205192 -0.15083767 -0.46483134  0.34599566]\n",
      " [ 0.47809147  0.26456285  4.8998235  -3.93694406]\n",
      " [-1.27076693 -1.05974043 -2.47140136  3.45811438]]\n",
      "\n",
      "Verify A*A^{-1} = I: True\n"
     ]
    }
   ],
   "source": [
    "# Calculate inverse of our example matrix\n",
    "A_inv_lu = inverse_using_lu(A)\n",
    "A_inv_np = np.linalg.inv(A)\n",
    "\n",
    "print(\"Original matrix:\")\n",
    "print(A)\n",
    "\n",
    "print(\"\\nInverse using LU decomposition:\")\n",
    "print(A_inv_lu)\n",
    "\n",
    "print(\"\\nInverse using NumPy:\")\n",
    "print(A_inv_np)\n",
    "\n",
    "# Verify the solution\n",
    "print(\"\\nVerify A*A^{-1} = I:\", np.allclose(A@A_inv_lu, np.identity(n)))"
   ]
  },
  {
   "cell_type": "markdown",
   "id": "be3ec1e5-7abd-4e97-9afb-e91dc620a579",
   "metadata": {},
   "source": [
    "## 9. Numerical stability and pivoting\n",
    "\n",
    "The standard LU decomposition algorithm can encounter numerical instability if small or zero diagonal elements are encountered. Partial pivoting can improve stability by swapping rows to bring the largest element in the column to the diagonal position."
   ]
  },
  {
   "cell_type": "raw",
   "id": "31a78c9a-79f8-42cf-95c2-5aef6bd090e5",
   "metadata": {},
   "source": [
    "def lu_decomposition_with_pivoting(A):\n",
    "    \"\"\"\n",
    "    Perform LU decomposition with partial pivoting.\n",
    "    \n",
    "    Parameters:\n",
    "        A (numpy.ndarray): Input square matrix\n",
    "        \n",
    "    Returns:\n",
    "        P (numpy.ndarray): Permutation matrix\n",
    "        L (numpy.ndarray): Lower triangular matrix\n",
    "        U (numpy.ndarray): Upper triangular matrix\n",
    "    \"\"\"\n",
    "    n = A.shape[0]\n",
    "    U = A.copy()\n",
    "    L = np.eye(n)\n",
    "    P = np.eye(n)\n",
    "    \n",
    "    for i in range(n):\n",
    "        # Find pivot\n",
    "        pivot = np.argmax(np.abs(U[i:, i])) + i\n",
    "        \n",
    "        # Swap rows if needed\n",
    "        if pivot != i:\n",
    "            # Swap rows in U\n",
    "            U[[i, pivot], :] = U[[pivot, i], :]\n",
    "            \n",
    "            # Swap rows in P\n",
    "            P[[i, pivot], :] = P[[pivot, i], :]\n",
    "            \n",
    "            # Swap portions of L that have been computed\n",
    "            if i > 0:\n",
    "                L[[i, pivot], :i] = L[[pivot, i], :i]\n",
    "        \n",
    "        # Perform elimination\n",
    "        for j in range(i+1, n):\n",
    "            L[j, i] = U[j, i] / U[i, i]\n",
    "            U[j, i:] = U[j, i:] - L[j, i] * U[i, i:]\n",
    "    \n",
    "    return P, L, U"
   ]
  },
  {
   "cell_type": "raw",
   "id": "32f85cf0-4f41-4b04-980e-e15d022fa9c3",
   "metadata": {},
   "source": [
    "# Test with an example that needs pivoting\n",
    "A_pivot = np.array([\n",
    "    [0, 1, 2],\n",
    "    [3, 4, 5],\n",
    "    [6, 7, 8]\n",
    "])\n",
    "\n",
    "P, L, U = lu_decomposition_with_pivoting(A_pivot)\n",
    "\n",
    "print(\"Matrix that needs pivoting:\")\n",
    "print(A_pivot)\n",
    "print(\"\\nPermutation matrix P:\")\n",
    "print(P)\n",
    "print(\"\\nLower triangular matrix L:\")\n",
    "print(L)\n",
    "print(\"\\nUpper triangular matrix U:\")\n",
    "print(U)\n",
    "print(\"\\nVerification - P^T * A:\")\n",
    "print(np.matmul(P.T, A_pivot))\n",
    "print(\"\\nVerification - L * U:\")\n",
    "print(np.matmul(L, U))"
   ]
  },
  {
   "cell_type": "markdown",
   "id": "f7bf39eb-942b-4f18-8edd-909bddb9c02c",
   "metadata": {},
   "source": [
    "## 10. Conclusions\n",
    "\n",
    "LU decomposition is a powerful technique for matrix operations, particularly in solving linear systems. It offers computational efficiency for operations like solving multiple systems with the same coefficient matrix or computing matrix inverses.\n",
    "\n",
    "The main advantages of LU decomposition include:\n",
    "- Only one decomposition needed to solve multiple systems with the same coefficient matrix\n",
    "- Efficient calculation of determinants and inverses\n",
    "- Reduced computational complexity compared to direct methods for large systems\n",
    "\n",
    "The main challenges relate to numerical stability, which can be mitigated through pivoting strategies. Modern implementations typically use partial or complete pivoting to ensure stable computations.\n",
    "\n",
    "## To do\n",
    "Learn how to use the SciPy functions: `lu_factor` and `lu_solve`."
   ]
  }
 ],
 "metadata": {
  "kernelspec": {
   "display_name": "Python 3 (ipykernel)",
   "language": "python",
   "name": "python3"
  },
  "language_info": {
   "codemirror_mode": {
    "name": "ipython",
    "version": 3
   },
   "file_extension": ".py",
   "mimetype": "text/x-python",
   "name": "python",
   "nbconvert_exporter": "python",
   "pygments_lexer": "ipython3",
   "version": "3.11.5"
  }
 },
 "nbformat": 4,
 "nbformat_minor": 5
}
