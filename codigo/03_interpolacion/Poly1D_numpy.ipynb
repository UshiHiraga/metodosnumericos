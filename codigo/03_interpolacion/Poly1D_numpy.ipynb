{
 "cells": [
  {
   "cell_type": "markdown",
   "metadata": {
    "id": "E3jsvg3Gi5tE"
   },
   "source": [
    "# Understanding Polynomials with NumPy (using the `Poly1D` class)\n",
    "\n",
    "Let us understand the polynomial class `np.poly1d`. Numpy also provides the class `np.polynomial`.\n",
    "\n",
    "## 1. Representing Polynomials: `numpy.poly1d`\n",
    "\n",
    "The `numpy.poly1d` function is a convenient way to create a polynomial object in NumPy. You can define a polynomial by providing its coefficients. The coefficients are listed in descending order of power.\n",
    "\n",
    "### Example\n",
    "For example, the polynomial $P(x) = 3x^2 + 2x - 1$ can be represented by the coefficients `[3, 2, -1]`:"
   ]
  },
  {
   "cell_type": "code",
   "execution_count": 1,
   "metadata": {
    "id": "H8wvOrcLi5tI"
   },
   "outputs": [
    {
     "name": "stdout",
     "output_type": "stream",
     "text": [
      "Our polynomial P(y):\n",
      "    2\n",
      "3 y + 2 y - 1\n",
      "\n",
      "Our polynomial P(x):\n",
      "    2\n",
      "3 x + 2 x - 1\n",
      "\n",
      "The coefficients of our polynomial P(x): [ 3  2 -1]\n",
      "\n",
      "The order of polynomial P(x): 2\n"
     ]
    }
   ],
   "source": [
    "import numpy as np\n",
    "\n",
    "# Define the polynomial P(y) = 3y^2 + 2y - 1\n",
    "P = np.poly1d([3, 2, -1], variable='y')\n",
    "print(\"Our polynomial P(y):\\n\", P)\n",
    "\n",
    "# Now let us define it as a function of x: P(x) = 3x^2 + 2x - 1\n",
    "P = np.poly1d([3, 2, -1])\n",
    "print(\"\\nOur polynomial P(x):\\n\", P)\n",
    "\n",
    "# Print the coefficients of the polynomial\n",
    "print(\"\\nThe coefficients of our polynomial P(x):\", P.coeffs)\n",
    "\n",
    "# Print the order of the polynomial\n",
    "print(\"\\nThe order of polynomial P(x):\", P.order)"
   ]
  },
  {
   "cell_type": "markdown",
   "metadata": {
    "id": "jgqzgwUei5tJ"
   },
   "source": [
    "## 2. Evaluating Polynomials: `numpy.polyval`\n",
    "\n",
    "The `numpy.polyval` function allows you to evaluate a polynomial at one or more specific points. While the `poly1d` object itself can be called like a function to evaluate the polynomial, `polyval` is also available and useful when you have the coefficients directly.\n",
    "\n",
    "### Example\n",
    "Let's evaluate our polynomial $P(x) = 3x^2 + 2x - 1$ at $x = 5$ and $x = -2$:"
   ]
  },
  {
   "cell_type": "code",
   "execution_count": 2,
   "metadata": {
    "id": "_GovVy8Wi5tK"
   },
   "outputs": [
    {
     "name": "stdout",
     "output_type": "stream",
     "text": [
      "P(5) = 84\n",
      "P(-2) = 7\n",
      "P(x) for x_values [0, 1, 2, 3] is: [-1  4 15 32]\n"
     ]
    }
   ],
   "source": [
    "# Evaluate P(x) at x = 5\n",
    "val_at_5 = P(5) # or np.polyval(P, 5)\n",
    "print(f\"P(5) = {val_at_5}\")\n",
    "\n",
    "# Evaluate P(x) at x = -2\n",
    "val_at_minus_2 = np.polyval(P, -2)\n",
    "print(f\"P(-2) = {val_at_minus_2}\")\n",
    "\n",
    "# Evaluate P(x) for an array of x values\n",
    "x_values = [0, 1, 2, 3]\n",
    "P_at_x_values = P(x_values)\n",
    "print(f\"P(x) for x_values {x_values} is: {P_at_x_values}\")"
   ]
  },
  {
   "cell_type": "markdown",
   "metadata": {
    "id": "45m1juSPi5tK"
   },
   "source": [
    "## 3. Finding Roots of a Polynomial: `numpy.roots`\n",
    "\n",
    "The roots of a polynomial are the values of $x$ for which $P(x) = 0$. The `numpy.roots` function takes an array of polynomial coefficients and returns the roots.\n",
    "\n",
    "For a quadratic equation $ax^2 + bx + c = 0$, the roots are given by the quadratic formula: $x = \\frac{-b \\pm \\sqrt{b^2 - 4ac}}{2a}$. `numpy.roots` generalizes this for any degree polynomial.\n",
    "\n",
    "### Example\n",
    "Let's find the roots of another polynomial $Q(x) = x^3 - 6x^2 + 11x - 6$."
   ]
  },
  {
   "cell_type": "code",
   "execution_count": 3,
   "metadata": {
    "id": "lBFJAEpxi5tK"
   },
   "outputs": [
    {
     "name": "stdout",
     "output_type": "stream",
     "text": [
      "\n",
      "Our polynomial Q(x):\n",
      "    3     2\n",
      "1 x - 6 x + 11 x - 6\n",
      "\n",
      "The roots of Q(x) are (method 1): [3. 2. 1.]\n",
      "\n",
      "The roots of Q(x) are (method 2): [3. 2. 1.]\n"
     ]
    }
   ],
   "source": [
    "# Let's define another polynomial\n",
    "# Q(x) = x^3 - 6x^2 + 11x - 6\n",
    "Q = np.poly1d([1, -6, 11, -6])\n",
    "print(\"\\nOur polynomial Q(x):\\n\", Q)\n",
    "\n",
    "# Find the roots of Q (method 1)\n",
    "roots_Q = np.roots(Q)\n",
    "print(f\"\\nThe roots of Q(x) are (method 1): {roots_Q}\")\n",
    "\n",
    "# Find the roots of Q\n",
    "print(f\"\\nThe roots of Q(x) are (method 2): {Q.roots}\")"
   ]
  },
  {
   "cell_type": "markdown",
   "metadata": {
    "id": "FOhJOwQ9i5tL"
   },
   "source": [
    "## 4. Constructing a Polynomial from its Roots: `numpy.poly`\n",
    "\n",
    "The `numpy.poly` function is the inverse of `numpy.roots`. Given a sequence of roots, it returns the coefficients of the polynomial that has those roots. This is useful when you know the desired behavior (roots) of a system and want to define its governing polynomial.\n",
    "\n",
    "If the roots are $r_1, r_2, \\ldots, r_n$, the polynomial can be written as $(x - r_1)(x - r_2)\\cdots(x - r_n)$.\n",
    "\n",
    "### Example\n",
    "Let's reconstruct the polynomial $Q(x)$ using its roots, which we found to be approximately `[3., 2., 1.]`:"
   ]
  },
  {
   "cell_type": "code",
   "execution_count": 4,
   "metadata": {
    "id": "bUb53R3Gi5tL"
   },
   "outputs": [
    {
     "name": "stdout",
     "output_type": "stream",
     "text": [
      "Coefficients of Q(x) reconstructed from roots: [ 1. -6. 11. -6.]\n",
      "\n",
      "Reconstructed polynomial Q(x):\n",
      "    3     2\n",
      "1 x - 6 x + 11 x - 6\n"
     ]
    }
   ],
   "source": [
    "# Reconstruct polynomial Q(x) from its roots\n",
    "reconstructed_Q_coeffs = np.poly(roots_Q)\n",
    "print(f\"Coefficients of Q(x) reconstructed from roots: {reconstructed_Q_coeffs}\")\n",
    "\n",
    "# We can then create a poly1d object from these coefficients\n",
    "reconstructed_Q = np.poly1d(reconstructed_Q_coeffs)\n",
    "print(\"\\nReconstructed polynomial Q(x):\\n\", reconstructed_Q)"
   ]
  },
  {
   "cell_type": "markdown",
   "metadata": {
    "id": "197J75Zti5tL"
   },
   "source": [
    "## 5. Polynomial Fitting: `numpy.polyfit`\n",
    "\n",
    "`numpy.polyfit` is a powerful function used to find the coefficients of a polynomial that best fits a given set of data points. This is a common task in engineering for curve fitting experimental data, trend analysis, and modeling. It uses a least-squares approach to minimize the sum of the squares of the differences between the observed and predicted values.\n",
    "\n",
    "The function takes `x` coordinates, `y` coordinates, and the desired degree of the polynomial.\n",
    "\n",
    "### Example\n",
    "\n",
    "Suppose we have some experimental data and we want to fit a quadratic polynomial to it."
   ]
  },
  {
   "cell_type": "code",
   "execution_count": 5,
   "metadata": {
    "id": "GugvNp8Ti5tM"
   },
   "outputs": [
    {
     "name": "stdout",
     "output_type": "stream",
     "text": [
      "Coefficients of the fitted polynomial: [ 0.89744318 -5.22909416  9.48080788 -5.45382707]\n",
      "\n",
      "Fitted polynomial Q_fit(x):\n",
      "         3         2\n",
      "0.8974 x - 5.229 x + 9.481 x - 5.454\n"
     ]
    },
    {
     "data": {
      "image/png": "[encoded data removed]",
      "text/plain": [
       "<Figure size 800x600 with 1 Axes>"
      ]
     },
     "metadata": {},
     "output_type": "display_data"
    }
   ],
   "source": [
    "# Experimental data\n",
    "n_data = 30\n",
    "x_data = np.linspace(0, 5, n_data)\n",
    "y_data = Q(x_data) + np.random.randn(n_data)\n",
    "\n",
    "# Fit a 3rd degree polynomial to the data\n",
    "# The result will be the coefficients [a, b, c, d] for ax^3 + bx^2 + cx + d\n",
    "coeffs_fit = np.polyfit(x_data, y_data, 3)\n",
    "print(f\"Coefficients of the fitted polynomial: {coeffs_fit}\")\n",
    "\n",
    "# Create a poly1d object from the fitted coefficients\n",
    "Q_fit = np.poly1d(coeffs_fit)\n",
    "print(\"\\nFitted polynomial Q_fit(x):\\n\", Q_fit)\n",
    "\n",
    "# Let's plot the original data and the fitted polynomial\n",
    "import matplotlib.pyplot as plt\n",
    "\n",
    "plt.figure(figsize=(8, 6))\n",
    "plt.scatter(x_data, y_data, label='Original Data')\n",
    "x_plot = np.linspace(min(x_data), max(x_data), 100)\n",
    "plt.plot(x_plot, Q(x_plot),     color='blue', label='Original polynomial')\n",
    "plt.plot(x_plot, Q_fit(x_plot), color='red',  label='Fitted polynomial')\n",
    "plt.title('Polynomial Fit to Data')\n",
    "plt.xlabel('x')\n",
    "plt.ylabel('y')\n",
    "plt.legend()\n",
    "plt.grid(True)\n",
    "plt.show()"
   ]
  },
  {
   "cell_type": "markdown",
   "metadata": {
    "id": "7liQG6Ipi5tM"
   },
   "source": [
    "## 6. Polynomial Differentiation: `numpy.polyder`\n",
    "\n",
    "Differentiation of polynomials is essential for finding slopes, rates of change, and critical points (maxima/minima). `numpy.polyder` returns the coefficients of the derivative of a polynomial.\n",
    "\n",
    "If $P(x) = \\sum_{i=0}^n a_i x^i$, then $\\frac{dP}{dx} = \\sum_{i=1}^n i a_i x^{i-1}$. `polyder` applies this rule term by term.\n",
    "\n",
    "### Example\n",
    "Let's find the first and second derivatives of our polynomial $P(x) = 3x^2 + 2x - 1$:"
   ]
  },
  {
   "cell_type": "code",
   "execution_count": 6,
   "metadata": {
    "id": "oId7PkCGi5tM"
   },
   "outputs": [
    {
     "name": "stdout",
     "output_type": "stream",
     "text": [
      "Original P(x):\n",
      "    2\n",
      "3 x + 2 x - 1\n",
      "\n",
      "First derivative P'(x):\n",
      "  \n",
      "6 x + 2\n",
      "\n",
      "Second derivative P''(x):\n",
      "  \n",
      "6\n",
      "\n",
      "First derivative P'(x) (using .deriv()):\n",
      "  \n",
      "6 x + 2\n",
      "\n",
      "Second derivative P''(x) (using .deriv()):\n",
      "  \n",
      "6\n"
     ]
    }
   ],
   "source": [
    "# Our original polynomial P(x)\n",
    "print(\"Original P(x):\\n\", P)\n",
    "\n",
    "# First derivative of P(x)\n",
    "P_prime = np.polyder(P)\n",
    "print(\"\\nFirst derivative P'(x):\\n\", P_prime)\n",
    "\n",
    "# Second derivative of P(x) (derivative of P_prime)\n",
    "P_double_prime = np.polyder(P_prime)\n",
    "print(\"\\nSecond derivative P''(x):\\n\", P_double_prime)\n",
    "\n",
    "# Alternatively, you can directly differentiate the poly1d object\n",
    "P_prime = P.deriv(m=1) # m=1 for first derivative\n",
    "print(\"\\nFirst derivative P'(x) (using .deriv()):\\n\", P_prime)\n",
    "\n",
    "P_double_prime = P.deriv(m=2) # m=2 for second derivative\n",
    "print(\"\\nSecond derivative P''(x) (using .deriv()):\\n\", P_double_prime)"
   ]
  },
  {
   "cell_type": "markdown",
   "metadata": {
    "id": "Z-Uzp1yGi5tN"
   },
   "source": [
    "## 7. Polynomial Integration: `numpy.polyint`\n",
    "\n",
    "Integration of polynomials is used in calculations involving areas, volumes, and cumulative effects. `numpy.polyint` returns the coefficients of the indefinite integral of a polynomial. You can also specify the constant of integration.\n",
    "\n",
    "If $P(x) = \\sum_{i=0}^n a_i x^i$, then $\\int P(x) dx = \\sum_{i=0}^n \\frac{a_i}{i+1} x^{i+1}$ + C.\n",
    "\n",
    "\n",
    "### Example\n",
    "Let's find the indefinite integral of $P(x) = 3x^2 + 2x - 1$. We'll set the constant of integration to 10."
   ]
  },
  {
   "cell_type": "code",
   "execution_count": null,
   "metadata": {
    "id": "SPYYy6oyi5tN"
   },
   "outputs": [
    {
     "name": "stdout",
     "output_type": "stream",
     "text": [
      "Original P(x):\n",
      "    2\n",
      "3 x + 2 x - 1\n",
      "\n",
      "Indefinite integral of P(x) (C=10):\n",
      "    3     2\n",
      "1 x + 1 x - 1 x + 10\n",
      "\n",
      "Derivative of the integral of P(x):\n",
      "    2\n",
      "3 x + 2 x - 1\n",
      "\n",
      "Indefinite integral of P(x) (using .integ(), C=10):\n",
      "    3     2\n",
      "1 x + 1 x - 1 x + 10\n"
     ]
    }
   ],
   "source": [
    "# Our original polynomial P(x)\n",
    "print(\"Original P(x):\\n\", P)\n",
    "\n",
    "# Indefinite integral of P(x) with integration constant C = 10\n",
    "P_integral = np.polyint(P, k=10) # k is the constant of integration\n",
    "print(\"\\nIndefinite integral of P(x) (C=10):\\n\", P_integral)\n",
    "\n",
    "# Let's verify by differentiating the integral\n",
    "P_integral_prime = P_integral.deriv()\n",
    "print(\"\\nDerivative of the integral of P(x):\\n\", P_integral_prime) # This should be P(x)\n",
    "\n",
    "# Alternatively, you can directly integrate the poly1d object\n",
    "P_integral_direct = P.integ(m=1, k=10) # m=1 for single integration\n",
    "print(\"\\nIndefinite integral of P(x) (using .integ(), C=10):\\n\", P_integral_direct)\n",
    "\n",
    "# Maybe you need to integrate twice directly:\n",
    "P_second_integral = P.integ(m=2, k=(10, 3)) # m=2 for double integration\n",
    "print(\"\\nIndefinite integral of P(x) (using .integ(), C_1=10, C_2 = 3):\\n\", P_second_integral)"
   ]
  },
  {
   "cell_type": "markdown",
   "metadata": {
    "id": "Xo5w0h02i5tN"
   },
   "source": [
    "## 8. Polynomial Addition: `numpy.polyadd`\n",
    "\n",
    "Polynomial addition involves adding the coefficients of like powers. `numpy.polyadd` takes two arrays of polynomial coefficients and returns the coefficients of their sum.\n",
    "\n",
    "If $P_1(x) = a_nx^n + \\dots + a_0$ and $P_2(x) = b_mx^m + \\dots + b_0$, then $(P_1 + P_2)(x)$ is obtained by adding corresponding coefficients.\n",
    "\n",
    "### Example\n",
    "Let $P_1(x) = 3x^2 + 2x - 1$ and $P_2(x) = x^3 - 4x + 5$."
   ]
  },
  {
   "cell_type": "code",
   "execution_count": 8,
   "metadata": {
    "id": "h3jKM34Ki5tO"
   },
   "outputs": [
    {
     "name": "stdout",
     "output_type": "stream",
     "text": [
      "\n",
      "P1(x):\n",
      "    2\n",
      "3 x + 2 x - 1\n",
      "\n",
      "P2(x):\n",
      "    3\n",
      "1 x - 4 x + 5\n",
      "\n",
      "Sum of P1(x) and P2(x):\n",
      "    3     2\n",
      "1 x + 3 x - 2 x + 4\n",
      "\n",
      "Sum of P1(x) and P2(x) (direct addition):\n",
      "    3     2\n",
      "1 x + 3 x - 2 x + 4\n"
     ]
    }
   ],
   "source": [
    "# Define P1(x) and P2(x)\n",
    "P1 = np.poly1d([3, 2, -1])\n",
    "P2 = np.poly1d([1, 0, -4, 5]) # x^3 - 4x + 5\n",
    "\n",
    "print(\"\\nP1(x):\\n\", P1)\n",
    "print(\"\\nP2(x):\\n\", P2)\n",
    "\n",
    "# Add the polynomials\n",
    "P_sum = np.polyadd(P1, P2)\n",
    "print(\"\\nSum of P1(x) and P2(x):\\n\", P_sum)\n",
    "\n",
    "# Alternatively, you can directly add poly1d objects\n",
    "P_sum = P1 + P2\n",
    "print(\"\\nSum of P1(x) and P2(x) (direct addition):\\n\", P_sum)"
   ]
  },
  {
   "cell_type": "markdown",
   "metadata": {
    "id": "JsOyxM3Ai5tO"
   },
   "source": [
    "## 9. Polynomial Subtraction: `numpy.polysub`\n",
    "\n",
    "Similar to addition, polynomial subtraction involves subtracting the coefficients of like powers. `numpy.polysub` takes two arrays of polynomial coefficients and returns the coefficients of their difference.\n",
    "\n",
    "If $P_1(x) = a_nx^n + \\dots + a_0$ and $P_2(x) = b_mx^m + \\dots + b_0$, then $(P_1 - P_2)(x)$ is obtained by subtracting corresponding coefficients.\n",
    "\n",
    "### Example\n",
    "Let's subtract $P_2(x)$ from $P_1(x)$."
   ]
  },
  {
   "cell_type": "code",
   "execution_count": 9,
   "metadata": {
    "id": "qNZB5a1Ji5tO"
   },
   "outputs": [
    {
     "name": "stdout",
     "output_type": "stream",
     "text": [
      "\n",
      "Difference P1(x) - P2(x):\n",
      "     3     2\n",
      "-1 x + 3 x + 6 x - 6\n",
      "\n",
      "Difference P1(x) - P2(x) (direct subtraction):\n",
      "     3     2\n",
      "-1 x + 3 x + 6 x - 6\n"
     ]
    }
   ],
   "source": [
    "# P1(x) and P2(x) are defined above\n",
    "\n",
    "# Subtract P2(x) from P1(x)\n",
    "P_diff = np.polysub(P1, P2)\n",
    "print(\"\\nDifference P1(x) - P2(x):\\n\", P_diff)\n",
    "\n",
    "# Alternatively, you can directly subtract poly1d objects\n",
    "P_diff = P1 - P2\n",
    "print(\"\\nDifference P1(x) - P2(x) (direct subtraction):\\n\", P_diff)"
   ]
  },
  {
   "cell_type": "markdown",
   "metadata": {
    "id": "ReShpKL3i5tO"
   },
   "source": [
    "## 10. Polynomial Multiplication: `numpy.polymul`\n",
    "\n",
    "Polynomial multiplication involves multiplying each term of one polynomial by each term of the other and then combining like terms. `numpy.polymul` takes two arrays of polynomial coefficients and returns the coefficients of their product.\n",
    "\n",
    "The product of two polynomials of degree $n$ and $m$ will have a degree of $n+m$.\n",
    "\n",
    "### Example\n",
    "Let's multiply $P_1(x) = 3x^2 + 2x - 1$ and $P_2(x) = x^3 - 4x + 5$."
   ]
  },
  {
   "cell_type": "code",
   "execution_count": 10,
   "metadata": {
    "id": "d9R-uuNai5tP"
   },
   "outputs": [
    {
     "name": "stdout",
     "output_type": "stream",
     "text": [
      "\n",
      "Product of P1(x) and P2(x):\n",
      "    5     4      3     2\n",
      "3 x + 2 x - 13 x + 7 x + 14 x - 5\n",
      "\n",
      "Product of P1(x) and P2(x) (direct multiplication):\n",
      "    5     4      3     2\n",
      "3 x + 2 x - 13 x + 7 x + 14 x - 5\n"
     ]
    }
   ],
   "source": [
    "# P1(x) and P2(x) are defined above\n",
    "\n",
    "# Multiply the polynomials\n",
    "P_prod = np.polymul(P1, P2)\n",
    "print(\"\\nProduct of P1(x) and P2(x):\\n\", P_prod)\n",
    "\n",
    "# Alternatively, you can directly multiply poly1d objects\n",
    "P_prod = P1 * P2\n",
    "print(\"\\nProduct of P1(x) and P2(x) (direct multiplication):\\n\", P_prod)"
   ]
  },
  {
   "cell_type": "markdown",
   "metadata": {},
   "source": [
    "Let us calculate the square of the polynomial:"
   ]
  },
  {
   "cell_type": "code",
   "execution_count": 11,
   "metadata": {},
   "outputs": [
    {
     "name": "stdout",
     "output_type": "stream",
     "text": [
      "\n",
      "P(x)*P(x) (method 1) =\n",
      "    4      3     2\n",
      "9 x + 12 x - 2 x - 4 x + 1\n",
      "\n",
      "P(x)*P(x) (method 2) =\n",
      "    4      3     2\n",
      "9 x + 12 x - 2 x - 4 x + 1\n",
      "\n",
      "Square of the individual coefficients:\n",
      " [9 4 1]\n"
     ]
    }
   ],
   "source": [
    "print('\\nP(x)*P(x) (method 1) =\\n', P*P)\n",
    "print('\\nP(x)*P(x) (method 2) =\\n', P**2)\n",
    "\n",
    "print('\\nSquare of the individual coefficients:\\n', np.square(P))"
   ]
  },
  {
   "cell_type": "markdown",
   "metadata": {
    "id": "8qzNPWZFi5tP"
   },
   "source": [
    "## 11. Polynomial Division: `numpy.polydiv`\n",
    "\n",
    "Polynomial division finds the quotient and remainder when one polynomial is divided by another. `numpy.polydiv` takes two arrays of polynomial coefficients (dividend and divisor) and returns two arrays: the coefficients of the quotient and the coefficients of the remainder.\n",
    "\n",
    "If $P_1(x)$ is divided by $P_2(x)$, we have $P_1(x) = Q(x)P_2(x) + R(x)$, where $Q(x)$ is the quotient and $R(x)$ is the remainder.\n",
    "\n",
    "### Example\n",
    "Let $Q(x) = x^3 - 6x^2 + 11x - 6$, $P_2(x) = 3x^2 - 2$, and $R(x) = 3x - 1$. Let us perform the multiplication $P_1(x) = Q(x)P_2(x) + R(x)$, and then retrieve $Q(x)$ and $R(x)$."
   ]
  },
  {
   "cell_type": "code",
   "execution_count": 12,
   "metadata": {
    "id": "NWT_3G7di5tP"
   },
   "outputs": [
    {
     "name": "stdout",
     "output_type": "stream",
     "text": [
      "P1(x):\n",
      "    5      4      3     2\n",
      "3 x - 18 x + 31 x - 6 x - 19 x + 11\n",
      "\n",
      "Quotient  Q(x):\n",
      "    3     2\n",
      "1 x - 6 x + 11 x - 6\n",
      "\n",
      "Remainder R(x):\n",
      "  \n",
      "3 x - 1\n",
      "\n",
      "Quotient  Q(x) (direct division):\n",
      "    3     2\n",
      "1 x - 6 x + 11 x - 6\n",
      "\n",
      "Remainder R(x) (direct division):\n",
      "  \n",
      "3 x - 1\n"
     ]
    }
   ],
   "source": [
    "# Define P1(x) (our Q from earlier) and P2(x)\n",
    "Q  = np.poly1d([1, -6, 11, -6])\n",
    "P2 = np.poly1d([3, 0, -2])\n",
    "R  = np.poly1d([3, -1])\n",
    "\n",
    "P1 = Q*P2 + R\n",
    "print(\"P1(x):\\n\", P1)\n",
    "\n",
    "# Divide P1(x) by P2(x)\n",
    "Q_est, R_est = np.polydiv(P1, P2)   # Q_est = quotient, R_est = remainder\n",
    "\n",
    "print(\"\\nQuotient  Q(x):\\n\", Q_est)\n",
    "print(\"\\nRemainder R(x):\\n\", R_est)\n",
    "\n",
    "# Alternatively, you can directly divide poly1d objects\n",
    "Q_est, R_est = P1/P2\n",
    "print(\"\\nQuotient  Q(x) (direct division):\\n\", Q_est)\n",
    "print(\"\\nRemainder R(x) (direct division):\\n\", R_est)"
   ]
  }
 ],
 "metadata": {
  "colab": {
   "provenance": []
  },
  "kernelspec": {
   "display_name": "Python 3 (ipykernel)",
   "language": "python",
   "name": "python3"
  },
  "language_info": {
   "codemirror_mode": {
    "name": "ipython",
    "version": 3
   },
   "file_extension": ".py",
   "mimetype": "text/x-python",
   "name": "python",
   "nbconvert_exporter": "python",
   "pygments_lexer": "ipython3",
   "version": "3.12.7"
  }
 },
 "nbformat": 4,
 "nbformat_minor": 4
}
