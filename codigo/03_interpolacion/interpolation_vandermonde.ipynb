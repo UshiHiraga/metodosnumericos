{
 "cells": [
  {
   "cell_type": "markdown",
   "id": "50eedeca-c426-421e-9580-188695baeded",
   "metadata": {},
   "source": [
    "# Polynomial interpolation using Vandermonde matrices"
   ]
  },
  {
   "cell_type": "markdown",
   "id": "242c3fa0-e3a8-4d4b-bb4f-36ab3898945b",
   "metadata": {},
   "source": [
    "## 1. The interpolation problem\n",
    "\n",
    "Given $n+1$ distinct data points $(x_0, y_0), (x_1, y_1), \\dots, (x_n, y_n)$, we want to find a unique polynomial $P_n(x)$ of degree at most $n$ such that $P_n(x_i) = y_i$ for all $i = 0, 1, \\dots, n$:\n",
    "$$\n",
    "P_n(x) = a_0 + a_1x + a_2x^2 + \\dots + a_nx^n\n",
    "$$\n",
    "\n",
    "For each data point $(x_i, y_i)$, we have the condition $P_n(x_i) = y_i$. Substituting this into the polynomial expression, we get a system of linear equations:\n",
    "\\begin{align*}\n",
    "a_0 + a_1x_0 + a_2x_0^2 + \\dots + a_nx_0^n &= y_0 \\\\\n",
    "a_0 + a_1x_1 + a_2x_1^2 + \\dots + a_nx_1^n &= y_1 \\\\\n",
    "\\vdots \\\\\n",
    "a_0 + a_1x_n + a_2x_n^2 + \\dots + a_nx_n^n &= y_n\n",
    "\\end{align*}\n",
    "\n",
    "This system can be written in matrix form as $\\boldsymbol{V}\\boldsymbol{a} = \\boldsymbol{y}$:\n",
    "\n",
    "$$\n",
    "\\begin{pmatrix}\n",
    "1 & x_0 & x_0^2 & \\dots & x_0^n \\\\\n",
    "1 & x_1 & x_1^2 & \\dots & x_1^n \\\\\n",
    "\\vdots & \\vdots & \\vdots & \\ddots & \\vdots \\\\\n",
    "1 & x_n & x_n^2 & \\dots & x_n^n\n",
    "\\end{pmatrix}\n",
    "\\begin{pmatrix}\n",
    "a_0 \\\\\n",
    "a_1 \\\\\n",
    "\\vdots \\\\\n",
    "a_n\n",
    "\\end{pmatrix}\n",
    "=\n",
    "\\begin{pmatrix}\n",
    "y_0 \\\\\n",
    "y_1 \\\\\n",
    "\\vdots \\\\\n",
    "y_n\n",
    "\\end{pmatrix}\n",
    "$$\n",
    "\n",
    "The matrix $\\boldsymbol{V}$ is known as the **Vandermonde matrix**. If all $x_i$ are distinct, then the Vandermonde matrix is invertible, and a unique solution for the coefficients $\\boldsymbol{a}$ exists: $\\boldsymbol{a} = \\boldsymbol{V}^{-1}\\boldsymbol{y}$."
   ]
  },
  {
   "cell_type": "markdown",
   "id": "1fc69931-9aea-4289-a733-49fd423ac6e7",
   "metadata": {},
   "source": [
    "## 2. Constructing the Vandermonde matrix"
   ]
  },
  {
   "cell_type": "code",
   "execution_count": 1,
   "id": "0134873f-c55d-4da0-a269-ab25bfe89d9a",
   "metadata": {},
   "outputs": [
    {
     "name": "stdout",
     "output_type": "stream",
     "text": [
      "My Vandermonde matrix (decreasing powers):\n",
      "[[ 1.  1.  1.  1.]\n",
      " [ 8.  4.  2.  1.]\n",
      " [27.  9.  3.  1.]\n",
      " [64. 16.  4.  1.]]\n",
      "\n",
      "My Vandermonde matrix (increasing powers):\n",
      "[[ 1.  1.  1.  1.]\n",
      " [ 1.  2.  4.  8.]\n",
      " [ 1.  3.  9. 27.]\n",
      " [ 1.  4. 16. 64.]]\n"
     ]
    }
   ],
   "source": [
    "import numpy as np\n",
    "\n",
    "def create_vandermonde_matrix(x_vec, increasing=False):\n",
    "    \"\"\"\n",
    "    Creates a Vandermonde matrix for a given set of x-points.\n",
    "\n",
    "    Args:\n",
    "        x_points (array-like): A 1D array or list of x-coordinates.\n",
    "        increasing (bool): If True, the powers of x are increasing (x^0, x^1, ..., x^n).\n",
    "                           If False (default), the powers are decreasing (x^n, x^(n-1), ..., x^0).\n",
    "\n",
    "    Returns:\n",
    "        numpy.ndarray: The Vandermonde matrix.\n",
    "    \"\"\"\n",
    "    x_points = np.array(x_vec, dtype=float)\n",
    "    n = len(x_points)\n",
    "    if increasing:\n",
    "        V = np.column_stack([x_points**j for j in range(n)])\n",
    "    else:\n",
    "        # This is how np.vander creates it by default\n",
    "        V = np.column_stack([x_points**(n-1-j) for j in range(n)])\n",
    "    return V\n",
    "\n",
    "# Example usage:\n",
    "x_data = np.array([1, 2, 3, 4])\n",
    "y_data = np.array([1, 4, 9, 16]) # Example: y = x^2\n",
    "\n",
    "my_V_decr = create_vandermonde_matrix(x_data)\n",
    "print(\"My Vandermonde matrix (decreasing powers):\")\n",
    "print(my_V_decr)\n",
    "\n",
    "my_V_incr = create_vandermonde_matrix(x_data, increasing=True)\n",
    "print(\"\\nMy Vandermonde matrix (increasing powers):\")\n",
    "print(my_V_incr)"
   ]
  },
  {
   "cell_type": "markdown",
   "id": "83a07775-b2cb-4429-8e16-18cc332d2a1a",
   "metadata": {},
   "source": [
    "## 3. Comparison with `np.vander` and `numpy.polynomial.polynomial.polyvander`\n",
    "\n",
    "### 3.1 Comparison with `np.vander`\n",
    "\n",
    "NumPy has a built-in function `np.vander` that efficiently creates Vandermonde matrices. By default, `np.vander` creates the matrix with *decreasing* powers of $x$ (i.e., $x^n, x^{n-1}, \\dots, x^0$). Let's compare our custom function with `np.vander`."
   ]
  },
  {
   "cell_type": "code",
   "execution_count": 2,
   "id": "4c5bc9c7-bdcf-42b4-9e06-02ded6b5bffc",
   "metadata": {},
   "outputs": [
    {
     "name": "stdout",
     "output_type": "stream",
     "text": [
      "\n",
      "NumPy's np.vander matrix (default - decreasing powers):\n",
      "[[ 1  1  1  1]\n",
      " [ 8  4  2  1]\n",
      " [27  9  3  1]\n",
      " [64 16  4  1]]\n",
      "\n",
      "NumPy's np.vander matrix (increasing powers):\n",
      "[[ 1  1  1  1]\n",
      " [ 1  2  4  8]\n",
      " [ 1  3  9 27]\n",
      " [ 1  4 16 64]]\n",
      "\n",
      "Is my decreasing power matrix equal to np.vander's default? True\n",
      "Is my increasing power matrix equal to np.vander's increasing option? True\n"
     ]
    }
   ],
   "source": [
    "# Compare with np.vander\n",
    "np_V_decr = np.vander(x_data)\n",
    "print(\"\\nNumPy's np.vander matrix (default - decreasing powers):\")\n",
    "print(np_V_decr)\n",
    "\n",
    "np_V_incr = np.vander(x_data, increasing=True)\n",
    "print(\"\\nNumPy's np.vander matrix (increasing powers):\")\n",
    "print(np_V_incr)\n",
    "\n",
    "# Check if our decreasing power matrix matches np.vander's default\n",
    "print(\"\\nIs my decreasing power matrix equal to np.vander's default?\",\n",
    "      np.allclose(my_V_decr, np_V_decr))\n",
    "\n",
    "# Check if our increasing power matrix matches np.vander's increasing option\n",
    "print(\"Is my increasing power matrix equal to np.vander's increasing option?\",\n",
    "      np.allclose(np_V_incr, np_V_incr))"
   ]
  },
  {
   "cell_type": "markdown",
   "id": "1369653b-4bad-44d3-b55b-56b0d79b733e",
   "metadata": {},
   "source": [
    "As you can see, our custom function correctly reproduces the Vandermonde matrix, both in increasing and decreasing power configurations, matching `np.vander`."
   ]
  },
  {
   "cell_type": "markdown",
   "id": "11183286-2b4b-48c2-8c84-40c4b928b946",
   "metadata": {},
   "source": [
    "### 3.2. Comparison with `numpy.polynomial.polynomial.polyvander`\n",
    "\n",
    "NumPy's `numpy.polynomial` module provides a more object-oriented approach to polynomials, and `numpy.polynomial.polynomial.polyvander` is its equivalent for generating Vandermonde matrices for the *standard polynomial basis* (i.e., monomials $1, x, x^2, \\dots$). This function always generates the matrix with *increasing* powers."
   ]
  },
  {
   "cell_type": "code",
   "execution_count": 3,
   "id": "84d3c166-0f80-4a90-8c8f-41de85124290",
   "metadata": {},
   "outputs": [
    {
     "name": "stdout",
     "output_type": "stream",
     "text": [
      "\n",
      "NumPy's poly.polyvander matrix (always increasing powers):\n",
      "[[ 1.  1.  1.  1.]\n",
      " [ 1.  2.  4.  8.]\n",
      " [ 1.  3.  9. 27.]\n",
      " [ 1.  4. 16. 64.]]\n",
      "\n",
      "Is my increasing power matrix equal to poly.polyvander's matrix? True\n"
     ]
    }
   ],
   "source": [
    "from numpy.polynomial import polynomial as poly\n",
    "\n",
    "# Using the same x_data from before\n",
    "# polyvander expects the x-points and the degree (m-1 where m is number of columns)\n",
    "# Here, degree n = len(x_data) - 1\n",
    "poly_vander_matrix = poly.polyvander(x_data, deg=len(x_data) - 1)\n",
    "print(\"\\nNumPy's poly.polyvander matrix (always increasing powers):\")\n",
    "print(poly_vander_matrix)\n",
    "\n",
    "# Check if our increasing power matrix matches poly.polyvander\n",
    "print(\"\\nIs my increasing power matrix equal to poly.polyvander's matrix?\",\n",
    "      np.allclose(my_V_incr, poly_vander_matrix))"
   ]
  },
  {
   "cell_type": "markdown",
   "id": "0efbfb7b-9c7e-4f60-b097-8a3d1bb7872c",
   "metadata": {},
   "source": [
    "We can confirm that `numpy.polynomial.polynomial.polyvander` generates the Vandermonde matrix in the increasing power order, matching our custom implementation when `increasing=True`. This function is useful when working with the `numpy.polynomial` framework."
   ]
  },
  {
   "cell_type": "markdown",
   "id": "04b7f304-d733-461b-9c83-86ec3dde3ef5",
   "metadata": {},
   "source": [
    "## 4. Solving for coefficients and interpolation\n",
    "\n",
    "Now, let's use the Vandermonde matrix to find the polynomial coefficients and perform interpolation."
   ]
  },
  {
   "cell_type": "code",
   "execution_count": 4,
   "id": "34eb7331-a4e8-4a7e-86ca-d9caab750ceb",
   "metadata": {},
   "outputs": [
    {
     "name": "stdout",
     "output_type": "stream",
     "text": [
      "\n",
      "Polynomial coefficients (a_0, a_1, a_2, a_3):\n",
      "[ 5.55111512e-17  1.00000000e+00  8.74300632e-16 -4.99600361e-16]\n",
      "\n",
      "Vandermonde matrix for y = 2x + 1:\n",
      "[[1. 1. 1.]\n",
      " [1. 2. 4.]\n",
      " [1. 3. 9.]]\n",
      "Coefficients for y = 2x + 1 (should be [1, 2, 0]):\n",
      "[ 1.  2. -0.]\n",
      "\n",
      "Interpolated y-value at x = 2.5 for y = 2x + 1: 6.0\n",
      "Actual value for y = 2x + 1 at x = 2.5: 6.0\n"
     ]
    }
   ],
   "source": [
    "# We'll use the increasing power Vandermonde matrix for consistency with typical polynomial representation\n",
    "# Solving the system V_increasing * a = y\n",
    "# a = V_increasing_inverse * y\n",
    "\n",
    "coefficients = np.linalg.solve(np_V_decr, y_data)\n",
    "print(\"\\nPolynomial coefficients (a_0, a_1, a_2, a_3):\")\n",
    "print(coefficients)\n",
    "\n",
    "# The coefficients are [0, 1, 1, 0] which means P(x) = 0 + 1*x + 1*x^2 + 0*x^3 = x + x^2.\n",
    "# Wait! For y = x^2, the coefficients should be [0, 0, 1, 0]. Let's recheck.\n",
    "# The `increasing=True` option corresponds to the standard polynomial form a_0 + a_1*x + a_2*x^2 + ...\n",
    "# Let's verify for y = x^2:\n",
    "# x_data = [1, 2, 3, 4]\n",
    "# y_data = [1, 4, 9, 16]\n",
    "# If P(x) = x^2, then coefficients should be [0, 0, 1, 0] for a_0, a_1, a_2, a_3.\n",
    "\n",
    "# Let's test with a different set of y_data that truly corresponds to a low-degree polynomial.\n",
    "# Example: y = 2x + 1\n",
    "x_test = np.array([1, 2, 3])\n",
    "y_test = np.array([3, 5, 7]) # y_i = 2*x_i + 1\n",
    "\n",
    "V_test = create_vandermonde_matrix(x_test, increasing=True)\n",
    "print(\"\\nVandermonde matrix for y = 2x + 1:\")\n",
    "print(V_test)\n",
    "\n",
    "coeffs_test = np.linalg.solve(V_test, y_test)\n",
    "print(\"Coefficients for y = 2x + 1 (should be [1, 2, 0]):\")\n",
    "print(coeffs_test) # Expected: [1, 2, 0] for a_0 + a_1*x + a_2*x^2.\n",
    "\n",
    "# Now, let's interpolate a new point\n",
    "def interpolate_vandermonde(x_new, coefficients):\n",
    "    \"\"\"\n",
    "    Evaluates the interpolated polynomial at a new point.\n",
    "\n",
    "    Args:\n",
    "        x_new (float): The x-coordinate to interpolate.\n",
    "        coefficients (array-like): The polynomial coefficients [a_0, a_1, ..., a_n].\n",
    "\n",
    "    Returns:\n",
    "        float: The interpolated y-value.\n",
    "    \"\"\"\n",
    "    poly_val = 0\n",
    "    for i, coeff in enumerate(coefficients):\n",
    "        poly_val += coeff * (x_new**i)\n",
    "    return poly_val\n",
    "\n",
    "x_interpolate = 2.5\n",
    "y_interpolate = interpolate_vandermonde(x_interpolate, coeffs_test)\n",
    "print(f\"\\nInterpolated y-value at x = {x_interpolate} for y = 2x + 1: {y_interpolate}\")\n",
    "print(f\"Actual value for y = 2x + 1 at x = {x_interpolate}: {2 * x_interpolate + 1}\")"
   ]
  },
  {
   "cell_type": "markdown",
   "id": "8448fa47-67dc-4444-bab6-c46fb07942b9",
   "metadata": {},
   "source": [
    "## 4. Solving for coefficients and interpolation\n",
    "\n",
    "Now, let's use the Vandermonde matrix to find the polynomial coefficients and perform interpolation. We'll also compare our results with `np.polyfit` and `scipy.interpolate.lagrange`."
   ]
  },
  {
   "cell_type": "code",
   "execution_count": 5,
   "id": "6b838fcb-92c1-4e66-950d-a063d9d3135a",
   "metadata": {},
   "outputs": [
    {
     "name": "stdout",
     "output_type": "stream",
     "text": [
      "Polynomial coefficients from Vandermonde (increasing powers):\n",
      "a_0, a_1, a_2, a_3 (for P(x) = a_0 + a_1*x + a_2*x^2 + a_3*x^3):\n",
      "[ 0.00000000e+00  0.00000000e+00  1.00000000e+00 -1.23259516e-32]\n",
      "Rounded Vandermonde coefficients: [ 0.  0.  1. -0.]\n"
     ]
    }
   ],
   "source": [
    "# Let's use the y = x^2 example from before\n",
    "x_data_interp = np.array([1, 2, 3, 4])\n",
    "y_data_interp = np.array([1, 4, 9, 16]) # y = x^2\n",
    "\n",
    "# 4.1. Vandermonde Method\n",
    "V_interp = np.vander(x_data_interp, increasing=True)\n",
    "vandermonde_coeffs = np.linalg.solve(V_interp, y_data_interp)\n",
    "print(\"Polynomial coefficients from Vandermonde (increasing powers):\")\n",
    "print(f\"a_0, a_1, a_2, a_3 (for P(x) = a_0 + a_1*x + a_2*x^2 + a_3*x^3):\")\n",
    "print(vandermonde_coeffs)\n",
    "\n",
    "# For y = x^2, we expect coefficients to be [0, 0, 1, 0] for a_0, a_1, a_2, a_3 respectively.\n",
    "# The small non-zero values are due to floating-point precision.\n",
    "# Let's clean them up for display.\n",
    "vandermonde_coeffs_rounded = np.round(vandermonde_coeffs, decimals=10)\n",
    "print(\"Rounded Vandermonde coefficients:\", vandermonde_coeffs_rounded)"
   ]
  },
  {
   "cell_type": "code",
   "execution_count": 6,
   "id": "8b359378-2fdc-48d0-9672-264a8bc550e3",
   "metadata": {},
   "outputs": [
    {
     "name": "stdout",
     "output_type": "stream",
     "text": [
      "\n",
      "Interpolated y-value at x = 2.5 (Vandermonde): 6.25\n",
      "Actual value for y = x^2 at x = 2.5: 6.25\n"
     ]
    }
   ],
   "source": [
    "# 4.2. Interpolation Function\n",
    "x_test_point = 2.5\n",
    "y_vandermonde = np.polyval(vandermonde_coeffs[::-1], x_test_point)\n",
    "print(f\"\\nInterpolated y-value at x = {x_test_point} (Vandermonde): {y_vandermonde}\")\n",
    "print(f\"Actual value for y = x^2 at x = {x_test_point}: {x_test_point**2}\")"
   ]
  },
  {
   "cell_type": "code",
   "execution_count": 7,
   "id": "71364583-ea9d-49ac-be35-9f17f8095597",
   "metadata": {},
   "outputs": [
    {
     "name": "stdout",
     "output_type": "stream",
     "text": [
      "\n",
      "Polynomial coefficients from np.polyfit (decreasing powers):\n",
      "a_3, a_2, a_1, a_0 (for P(x) = a_3*x^3 + a_2*x^2 + a_1*x + a_0):\n",
      "[-5.97595060e-16  1.00000000e+00 -2.68014957e-14  3.42633673e-14]\n",
      "Rounded np.polyfit coefficients: [-0.  1. -0.  0.]\n",
      "Interpolated y-value at x = 2.5 (np.polyfit): 6.250000000000008\n"
     ]
    }
   ],
   "source": [
    "# 4.3. Comparison with np.polyfit\n",
    "# np.polyfit returns coefficients in decreasing order of powers (x^n, x^(n-1), ..., x^0)\n",
    "polyfit_coeffs = np.polyfit(x_data_interp, y_data_interp, len(x_data_interp) - 1)\n",
    "print(\"\\nPolynomial coefficients from np.polyfit (decreasing powers):\")\n",
    "print(f\"a_3, a_2, a_1, a_0 (for P(x) = a_3*x^3 + a_2*x^2 + a_1*x + a_0):\")\n",
    "print(polyfit_coeffs)\n",
    "\n",
    "# For y = x^2, we expect coefficients to be [0, 1, 0, 0] for a_3, a_2, a_1, a_0 respectively.\n",
    "polyfit_coeffs_rounded = np.round(polyfit_coeffs, decimals=10)\n",
    "print(\"Rounded np.polyfit coefficients:\", polyfit_coeffs_rounded)\n",
    "\n",
    "# Evaluate using np.polyval (which expects decreasing powers)\n",
    "y_polyfit = np.polyval(polyfit_coeffs, x_test_point)\n",
    "print(f\"Interpolated y-value at x = {x_test_point} (np.polyfit): {y_polyfit}\")"
   ]
  },
  {
   "cell_type": "code",
   "execution_count": 8,
   "id": "67f2528c-ba1e-48b9-94a4-da2cb8aea64b",
   "metadata": {},
   "outputs": [
    {
     "name": "stdout",
     "output_type": "stream",
     "text": [
      "\n",
      "Polynomial coefficients from scipy.interpolate.lagrange (decreasing powers):\n",
      "a_3, a_2, a_1, a_0 (for P(x) = a_3*x^3 + a_2*x^2 + a_1*x + a_0):\n",
      "[-4.44089210e-16  1.00000000e+00 -3.55271368e-15  0.00000000e+00]\n",
      "Rounded lagrange coefficients: [-0.  1. -0.  0.]\n"
     ]
    }
   ],
   "source": [
    "# 4.4. Comparison with scipy.interpolate.lagrange\n",
    "from scipy.interpolate import lagrange\n",
    "\n",
    "# lagrange returns a polynomial object where .coefficients gives coefficients\n",
    "# in decreasing order of powers.\n",
    "lagrange_poly = lagrange(x_data_interp, y_data_interp)\n",
    "lagrange_coeffs = lagrange_poly.coefficients\n",
    "print(\"\\nPolynomial coefficients from scipy.interpolate.lagrange (decreasing powers):\")\n",
    "print(f\"a_3, a_2, a_1, a_0 (for P(x) = a_3*x^3 + a_2*x^2 + a_1*x + a_0):\")\n",
    "print(lagrange_coeffs)\n",
    "\n",
    "lagrange_coeffs_rounded = np.round(lagrange_coeffs, decimals=10)\n",
    "print(\"Rounded lagrange coefficients:\", lagrange_coeffs_rounded)"
   ]
  },
  {
   "cell_type": "code",
   "execution_count": 9,
   "id": "b451b623-65c1-4542-9e1c-446ebb7070b1",
   "metadata": {},
   "outputs": [
    {
     "name": "stdout",
     "output_type": "stream",
     "text": [
      "Interpolated y-value at x = 2.5 (scipy.interpolate.lagrange): 6.249999999999984\n",
      "\n",
      "--- Summary of interpolated values at x = 2.5 ---\n",
      "Vandermonde: 6.25\n",
      "np.polyfit: 6.250000000000008\n",
      "scipy.interpolate.lagrange: 6.249999999999984\n",
      "Actual (y=x^2): 6.25\n"
     ]
    }
   ],
   "source": [
    "# Evaluate using the polynomial object\n",
    "y_lagrange = lagrange_poly(x_test_point)\n",
    "print(f\"Interpolated y-value at x = {x_test_point} (scipy.interpolate.lagrange): {y_lagrange}\")\n",
    "\n",
    "print(\"\\n--- Summary of interpolated values at x = 2.5 ---\")\n",
    "print(f\"Vandermonde: {y_vandermonde}\")\n",
    "print(f\"np.polyfit: {y_polyfit}\")\n",
    "print(f\"scipy.interpolate.lagrange: {y_lagrange}\")\n",
    "print(f\"Actual (y=x^2): {x_test_point**2}\")"
   ]
  },
  {
   "cell_type": "code",
   "execution_count": 10,
   "id": "79d0f926-7f62-4026-8d2b-6e624cb9c811",
   "metadata": {},
   "outputs": [
    {
     "data": {
      "image/png": "[encoded data removed]",
      "text/plain": [
       "<Figure size 1000x600 with 1 Axes>"
      ]
     },
     "metadata": {},
     "output_type": "display_data"
    }
   ],
   "source": [
    "# Let's plot the interpolated polynomials\n",
    "import matplotlib.pyplot as plt\n",
    "\n",
    "x_range = np.linspace(min(x_data_interp) - 0.5, max(x_data_interp) + 0.5, 100)\n",
    "y_actual = x_range**2\n",
    "\n",
    "plt.figure(figsize=(10, 6))\n",
    "plt.plot(x_data_interp, y_data_interp, 'o', label='Data Points')\n",
    "plt.plot(x_range, y_actual, 'k--', label='Actual $y=x^2$')\n",
    "plt.plot(x_range, interpolate_vandermonde(x_range, vandermonde_coeffs), label='Vandermonde Interpolation')\n",
    "plt.plot(x_range, np.polyval(polyfit_coeffs, x_range), label='np.polyfit Interpolation')\n",
    "plt.plot(x_range, lagrange_poly(x_range), label='scipy.interpolate.lagrange Interpolation')\n",
    "\n",
    "plt.title('Polynomial Interpolation Comparison')\n",
    "plt.xlabel('x')\n",
    "plt.ylabel('y')\n",
    "plt.legend()\n",
    "plt.grid(True)\n",
    "plt.show()"
   ]
  },
  {
   "cell_type": "markdown",
   "id": "e990f507-2886-40a7-9ad7-ae70c6790089",
   "metadata": {},
   "source": [
    "As you can see, all three methods (`Vandermonde`, `np.polyfit`, and `scipy.interpolate.lagrange`) produce essentially the same polynomial for this well-behaved set of data points, yielding very similar interpolated values. The slight differences in coefficients are due to numerical precision and how each method handles the underlying calculations. `np.polyfit` and `scipy.interpolate.lagrange` are generally more robust and numerically stable for interpolation than directly inverting a Vandermonde matrix, especially for higher degrees."
   ]
  },
  {
   "cell_type": "markdown",
   "id": "8a0b0d7e-bba4-4285-989f-774258dca636",
   "metadata": {},
   "source": [
    "## 5. Condition number and numerical stability\n",
    "\n",
    "The condition number of a matrix is a measure of how sensitive the solution of a linear system $\\boldsymbol{A}\\boldsymbol{x} = \\boldsymbol{b}$ is to changes in $\\boldsymbol{b}$. A large condition number indicates that small errors in the input data (or round-off errors during computation) can lead to large errors in the solution.\n",
    "\n",
    "For Vandermonde matrices, the condition number tends to grow very rapidly as the number of data points ($n$) increases, especially when the $x_i$ values are close together or span a large range. This makes solving linear systems involving Vandermonde matrices numerically unstable for higher degrees.\n",
    "\n",
    "Let's observe this phenomenon."
   ]
  },
  {
   "cell_type": "code",
   "execution_count": 11,
   "id": "d7feb1d5-b8ff-4885-ba21-274df8758b4f",
   "metadata": {},
   "outputs": [
    {
     "data": {
      "image/png": "[encoded data removed]",
      "text/plain": [
       "<Figure size 1000x600 with 1 Axes>"
      ]
     },
     "metadata": {},
     "output_type": "display_data"
    },
    {
     "name": "stdout",
     "output_type": "stream",
     "text": [
      "\n",
      "Condition numbers for different number of points:\n",
      "n =  2: Condition Number = 2.00e+00\n",
      "n =  3: Condition Number = 1.50e+01\n",
      "n =  4: Condition Number = 9.80e+01\n",
      "n =  5: Condition Number = 6.86e+02\n",
      "n =  6: Condition Number = 4.92e+03\n",
      "n =  7: Condition Number = 3.61e+04\n",
      "n =  8: Condition Number = 2.68e+05\n",
      "n =  9: Condition Number = 2.01e+06\n",
      "n = 10: Condition Number = 1.52e+07\n",
      "n = 11: Condition Number = 1.16e+08\n",
      "n = 12: Condition Number = 8.83e+08\n",
      "n = 13: Condition Number = 6.78e+09\n",
      "n = 14: Condition Number = 5.22e+10\n",
      "n = 15: Condition Number = 4.03e+11\n"
     ]
    }
   ],
   "source": [
    "from numpy.linalg import cond\n",
    "import matplotlib.pyplot as plt\n",
    "\n",
    "# Let's see how the condition number changes with the number of points\n",
    "n_values = range(2, 15+1) # Number of points (degree + 1)\n",
    "condition_numbers = np.zeros_like(n_values)\n",
    "\n",
    "for i, n in enumerate(n_values):\n",
    "    # Use points evenly spaced in [0, 1] for demonstration\n",
    "    x_points_cond = np.linspace(0, 1, n)\n",
    "    condition_numbers[i] = cond(np.vander(x_points_cond))\n",
    "\n",
    "plt.figure(figsize=(10, 6))\n",
    "plt.semilogy(n_values, condition_numbers, '-o')\n",
    "plt.title('Condition Number of Vandermonde Matrix vs. Number of Points')\n",
    "plt.xlabel('Number of Points (n+1)')\n",
    "plt.ylabel('Condition Number')\n",
    "plt.grid(True, which=\"both\")\n",
    "plt.xticks(n_values)\n",
    "plt.show()\n",
    "\n",
    "print(\"\\nCondition numbers for different number of points:\")\n",
    "for n, cond_num in zip(n_values, condition_numbers):\n",
    "    print(f\"n = {n:2d}: Condition Number = {cond_num:.2e}\")"
   ]
  },
  {
   "cell_type": "markdown",
   "id": "69a8d147-c35b-446f-aa90-4ba5f744308d",
   "metadata": {},
   "source": [
    "As observed in the plot and the printed values, the condition number of the Vandermonde matrix increases drastically with the number of points. This exponential growth highlights the numerical instability of using Vandermonde matrices for high-degree polynomial interpolation."
   ]
  },
  {
   "cell_type": "markdown",
   "id": "2c5ca68d-65a2-4e93-982e-e99f6ec2aaba",
   "metadata": {},
   "source": [
    "## 6. Strengths and Drawbacks of Vandermonde Matrix Method\n",
    "\n",
    "### Strengths:\n",
    "\n",
    "  * **Conceptual Simplicity:** The method directly follows from the definition of a polynomial and the system of linear equations. It's easy to understand why it works.\n",
    "  * **Direct Solution:** Once the matrix is formed, standard linear algebra techniques (like `np.linalg.solve`) can be used to find the coefficients.\n",
    "\n",
    "### Drawbacks:\n",
    "\n",
    "  * **Numerical Instability:** As shown, Vandermonde matrices are often ill-conditioned, especially for higher degrees. This means that small errors in the input data or during computation can lead to very large errors in the calculated polynomial coefficients.\n",
    "  * **Computational Cost:** For large $n$, forming and inverting the Vandermonde matrix can be computationally expensive (typically $O(n^3)$ operations).\n",
    "  * **Lack of Basis Locality:** The monomial basis ($1, x, x^2, \\dots, x^n$) is not a \"local\" basis. Changing one data point affects all coefficients, and thus the entire polynomial. This is in contrast to methods like Lagrange or Newton interpolation.\n",
    "\n",
    "Due to its numerical instability, the Vandermonde matrix method for polynomial interpolation is rarely used in practice for high-degree polynomials. Other methods, such as Lagrange interpolation, Newton's divided differences, or spline interpolation, are preferred for their better numerical properties and efficiency."
   ]
  }
 ],
 "metadata": {
  "kernelspec": {
   "display_name": "Python 3 (ipykernel)",
   "language": "python",
   "name": "python3"
  },
  "language_info": {
   "codemirror_mode": {
    "name": "ipython",
    "version": 3
   },
   "file_extension": ".py",
   "mimetype": "text/x-python",
   "name": "python",
   "nbconvert_exporter": "python",
   "pygments_lexer": "ipython3",
   "version": "3.12.7"
  }
 },
 "nbformat": 4,
 "nbformat_minor": 5
}
