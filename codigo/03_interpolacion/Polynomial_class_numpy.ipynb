{
 "cells": [
  {
   "cell_type": "markdown",
   "metadata": {
    "id": "SivI-I_y5XXP"
   },
   "source": [
    "# Understanding Polynomials with NumPy (using the `numpy.polynomial.polynomial` module)\n",
    "\n",
    "https://numpy.org/devdocs/reference/routines.polynomials.classes"
   ]
  },
  {
   "cell_type": "markdown",
   "metadata": {
    "id": "SivI-I_y5XXP"
   },
   "source": [
    "The `numpy.polynomial.polynomial` module offers an alternative and often more robust way to handle polynomial operations, especially for higher-degree polynomials or when dealing with numerical stability issues. It uses a different representation for polynomials internally, which can sometimes lead to better results.\n",
    "\n",
    "While `numpy.poly1d` is excellent for general-purpose polynomial handling, `numpy.polynomial.polynomial` (and other submodules like `numpy.polynomial.chebyshev` for Chebyshev polynomials) are designed for more rigorous numerical analysis. The key difference lies in how coefficients are stored: `numpy.polynomial.polynomial` stores coefficients in *ascending* order of power, meaning the coefficient of $x^0$ comes first, then $x^1$, and so on.\n",
    "\n",
    "## 1. Representing Polynomials: `numpy.polynomial.polynomial.Polynomial`\n",
    "\n",
    "The `Polynomial` class in `numpy.polynomial.polynomial` allows you to create polynomial objects. Unlike `numpy.poly1d`, the coefficients are listed in *ascending* order of power.\n",
    "\n",
    "For example, the polynomial $P(x) = 3x^2 + 2x - 1$ would be represented by the coefficients `[-1, 2, 3]`.\n",
    "\n",
    "### Example\n",
    "\n",
    "Let's define the polynomial $P(x) = 3x^2 + 2x - 1$."
   ]
  },
  {
   "cell_type": "code",
   "execution_count": 1,
   "metadata": {
    "id": "MnWdgPD05XXS"
   },
   "outputs": [
    {
     "name": "stdout",
     "output_type": "stream",
     "text": [
      "\n",
      "Our polynomial P(x):\n",
      " -1.0 + 2.0·x + 3.0·x²\n",
      "\n",
      "The order of polynomial P(x): 2\n"
     ]
    }
   ],
   "source": [
    "import numpy as np\n",
    "import numpy.polynomial.polynomial as poly\n",
    "\n",
    "# Define the polynomial P(x) = 3x^2 + 2x - 1\n",
    "# Coefficients are in ascending order: [constant, x^1, x^2, ...]\n",
    "P = poly.Polynomial([-1, 2, 3])\n",
    "\n",
    "print(\"\\nOur polynomial P(x):\\n\", P)\n",
    "\n",
    "# Print the order of the polynomial\n",
    "print(\"\\nThe order of polynomial P(x):\", P.degree())"
   ]
  },
  {
   "cell_type": "markdown",
   "metadata": {
    "id": "j_QXAleJ5XXS"
   },
   "source": [
    "## 2. Evaluating Polynomials: `polyval`\n",
    "\n",
    "Similar to `poly1d`, `Polynomial` objects can be called directly like a function to evaluate the polynomial at specific points. The `polyval` function from `numpy.polynomial.polynomial` can also be used if you have the coefficients directly.\n",
    "\n",
    "### Example\n",
    "\n",
    "Let's evaluate our polynomial $P(x) = 3x^2 + 2x - 1$ at $x = 5$ and $x = -2$."
   ]
  },
  {
   "cell_type": "code",
   "execution_count": 2,
   "metadata": {
    "id": "alFcAANt5XXT"
   },
   "outputs": [
    {
     "name": "stdout",
     "output_type": "stream",
     "text": [
      "P(5) = 84.0\n",
      "P(-2) = 7.0\n",
      "P(x) for x_values [0 1 2 3] is: [-1.  4. 15. 32.]\n"
     ]
    }
   ],
   "source": [
    "# Evaluate P(x) at x = 5\n",
    "val_at_5 = P(5)\n",
    "print(f\"P(5) = {val_at_5}\")\n",
    "\n",
    "# Evaluate P(x) at x = -2\n",
    "val_at_minus_2 = poly.polyval(-2, P.coef)\n",
    "print(f\"P(-2) = {val_at_minus_2}\")\n",
    "\n",
    "# Evaluate P(x) for an array of x values\n",
    "x_values = np.array([0, 1, 2, 3])\n",
    "P_at_x_values = P(x_values)\n",
    "print(f\"P(x) for x_values {x_values} is: {P_at_x_values}\")"
   ]
  },
  {
   "cell_type": "markdown",
   "metadata": {
    "id": "6v71t-Wg5XXT"
   },
   "source": [
    "## 3. Finding Roots of a Polynomial: `poly.polyroots`\n",
    "\n",
    "The `poly.polyroots` function in this module finds the roots of a polynomial given its coefficients. It's similar to `numpy.roots` but designed to work with the ascending order coefficient convention of the `numpy.polynomial` module.\n",
    "\n",
    "### Example\n",
    "\n",
    "Let's find the roots of another polynomial $Q(x) = x^3 - 6x^2 + 11x - 6$."
   ]
  },
  {
   "cell_type": "code",
   "execution_count": 3,
   "metadata": {
    "id": "S-V8uVki5XXU"
   },
   "outputs": [
    {
     "name": "stdout",
     "output_type": "stream",
     "text": [
      "\n",
      "Our polynomial Q(x):\n",
      " -6.0 + 11.0·x - 6.0·x² + 1.0·x³\n",
      "The roots of Q(x) are (method 1): [1. 2. 3.]\n",
      "The roots of Q(x) are (method 2): [1. 2. 3.]\n"
     ]
    }
   ],
   "source": [
    "# Let's define another polynomial\n",
    "# Q(x) = x^3 - 6x^2 + 11x - 6\n",
    "Q = poly.Polynomial([-6, 11, -6, 1])\n",
    "print(\"\\nOur polynomial Q(x):\\n\", Q)\n",
    "\n",
    "roots_Q = poly.polyroots(Q.coef)\n",
    "print(f\"The roots of Q(x) are (method 1): {roots_Q}\")\n",
    "\n",
    "roots_Q = Q.roots()\n",
    "print(f\"The roots of Q(x) are (method 2): {roots_Q}\")"
   ]
  },
  {
   "cell_type": "markdown",
   "metadata": {
    "id": "UZ8ex7of5XXU"
   },
   "source": [
    "## 4. Constructing a Polynomial from its Roots: `poly.polyfromroots`\n",
    "\n",
    "`poly.polyfromroots` is the counterpart to `poly.polyroots`. Given a sequence of roots, it returns the coefficients of the polynomial that has those roots, adhering to the ascending order convention.\n",
    "\n",
    "### Example\n",
    "\n",
    "Let's reconstruct the polynomial $Q(x)$ using its roots, which we found to be approximately `[1., 2., 3.]`."
   ]
  },
  {
   "cell_type": "code",
   "execution_count": 4,
   "metadata": {
    "id": "3XbHQLCk5XXV"
   },
   "outputs": [
    {
     "name": "stdout",
     "output_type": "stream",
     "text": [
      "Coefficients of Q(x) reconstructed from roots (method 1): [-6. 11. -6.  1.]\n",
      "Coefficients of Q(x) reconstructed from roots (method 2): -6.0 + 11.0·x - 6.0·x² + 1.0·x³\n",
      "\n",
      "Reconstructed polynomial Q(x):\n",
      " -6.0 + 11.0·x - 6.0·x² + 1.0·x³\n"
     ]
    }
   ],
   "source": [
    "# Reconstruct polynomial Q(x) from its roots\n",
    "reconstructed_Q_coeffs = poly.polyfromroots(roots_Q)\n",
    "print(f\"Coefficients of Q(x) reconstructed from roots (method 1): {reconstructed_Q_coeffs}\")\n",
    "\n",
    "reconstructed_Q_coeffs = poly.Polynomial.fromroots(roots_Q)\n",
    "print(f\"Coefficients of Q(x) reconstructed from roots (method 2): {reconstructed_Q_coeffs}\")\n",
    "\n",
    "# We can then create a Polynomial object from these coefficients\n",
    "reconstructed_Q = poly.Polynomial(reconstructed_Q_coeffs)\n",
    "print(\"\\nReconstructed polynomial Q(x):\\n\", reconstructed_Q)"
   ]
  },
  {
   "cell_type": "markdown",
   "metadata": {
    "id": "IqukqGLy5XXV"
   },
   "source": [
    "## 5. Polynomial Fitting: `poly.polyfit`\n",
    "\n",
    "`poly.polyfit` is the equivalent of `numpy.polyfit` for this module. It finds the coefficients of a polynomial that best fits a given set of data points using a least-squares approach.\n",
    "\n",
    "The function takes `x` coordinates, `y` coordinates, and the desired degree of the polynomial. It returns the coefficients in *ascending* order.\n",
    "\n",
    "### Example\n",
    "\n",
    "Suppose we have some experimental data and we want to fit a quadratic polynomial to it."
   ]
  },
  {
   "cell_type": "code",
   "execution_count": 5,
   "metadata": {
    "id": "krjvGJmt5XXV"
   },
   "outputs": [
    {
     "name": "stdout",
     "output_type": "stream",
     "text": [
      "Coefficients of the fitted polynomial: [-6.78178639 13.48042043 -7.23026014  1.15706276]\n",
      "\n",
      "Fitted polynomial Q_fit(x) (method 1):\n",
      " -6.78178639 + 13.48042043·x - 7.23026014·x² + 1.15706276·x³\n",
      "\n",
      "Fitted polynomial Q_fit(x) (method 2):\n",
      " -6.78178639 + 13.48042043·x - 7.23026014·x² + 1.15706276·x³\n"
     ]
    },
    {
     "data": {
      "image/png": "[encoded data removed]",
      "text/plain": [
       "<Figure size 800x600 with 1 Axes>"
      ]
     },
     "metadata": {},
     "output_type": "display_data"
    }
   ],
   "source": [
    "# Experimental data\n",
    "n_data = 30\n",
    "x_data = np.linspace(0, 5, n_data)\n",
    "y_data = Q(x_data) + np.random.randn(n_data)\n",
    "\n",
    "# Fit a 3rd degree polynomial to the data\n",
    "# The result will be the coefficients [d, c, b, a] for ax^3 + bx^2 + cx + d\n",
    "coeffs_fit = poly.polyfit(x_data, y_data, 3)\n",
    "print(f\"Coefficients of the fitted polynomial: {coeffs_fit}\")\n",
    "\n",
    "# Create a Polynomial object from the fitted coefficients\n",
    "Q_fit = poly.Polynomial(coeffs_fit)\n",
    "print(\"\\nFitted polynomial Q_fit(x) (method 1):\\n\", Q_fit)\n",
    "\n",
    "Q_fit = poly.Polynomial.fit(x_data, y_data, 3).convert()\n",
    "print(\"\\nFitted polynomial Q_fit(x) (method 2):\\n\", Q_fit)\n",
    "\n",
    "# Let's plot the original data and the fitted polynomial\n",
    "import matplotlib.pyplot as plt\n",
    "\n",
    "plt.figure(figsize=(8, 6))\n",
    "plt.scatter(x_data, y_data, label='Original Data')\n",
    "x_plot = np.linspace(min(x_data), max(x_data), 100)\n",
    "plt.plot(x_plot, Q(x_plot),     color='blue', label='Original polynomial')\n",
    "plt.plot(x_plot, Q_fit(x_plot), color='red',  label='Fitted polynomial')\n",
    "plt.title('Polynomial Fit to Data (numpy.polynomial.polynomial)')\n",
    "plt.xlabel('x')\n",
    "plt.ylabel('y')\n",
    "plt.legend()\n",
    "plt.grid(True)\n",
    "plt.show()"
   ]
  },
  {
   "cell_type": "markdown",
   "metadata": {
    "id": "2ZhFPZ-v5XXW"
   },
   "source": [
    "## 6. Polynomial Differentiation: `Polynomial.deriv` (or `poly.polyder`)\n",
    "\n",
    "The `Polynomial` object has a `.deriv()` method for differentiation. Alternatively, `poly.polyder` can be used directly on the coefficient array.\n",
    "\n",
    "If $P(x) = \\sum_{i=0}^n a_i x^i$, then $\\frac{dP}{dx} = \\sum_{i=1}^n i a_i x^{i-1}$.\n",
    "\n",
    "### Example\n",
    "\n",
    "Let's find the first and second derivatives of our polynomial $P(x) = 3x^2 + 2x - 1$."
   ]
  },
  {
   "cell_type": "code",
   "execution_count": 6,
   "metadata": {
    "id": "8XEX6aoi5XXW"
   },
   "outputs": [
    {
     "name": "stdout",
     "output_type": "stream",
     "text": [
      "Original P(x):\n",
      " -1.0 + 2.0·x + 3.0·x²\n",
      "\n",
      "First derivative P'(x):\n",
      " 2.0 + 6.0·x\n",
      "\n",
      "First derivative P'(x) (using .deriv()):\n",
      " 2.0 + 6.0·x\n",
      "\n",
      "Second derivative P''(x) (using .deriv()):\n",
      " 6.0\n"
     ]
    }
   ],
   "source": [
    "# Our original polynomial P(x)\n",
    "print(\"Original P(x):\\n\", P)\n",
    "\n",
    "# Using poly.polyder with coefficients directly\n",
    "P_prime_coeffs = poly.polyder(P.coef, m=1)\n",
    "P_prime_from_coeffs = poly.Polynomial(P_prime_coeffs)\n",
    "print(\"\\nFirst derivative P'(x):\\n\", P_prime_from_coeffs)\n",
    "\n",
    "# First derivative of P(x) using .deriv()\n",
    "P_prime = P.deriv(m=1) # m=1 for first derivative\n",
    "print(\"\\nFirst derivative P'(x) (using .deriv()):\\n\", P_prime)\n",
    "\n",
    "# Second derivative of P(x)\n",
    "P_double_prime = P.deriv(m=2) # m=2 for second derivative\n",
    "print(\"\\nSecond derivative P''(x) (using .deriv()):\\n\", P_double_prime)"
   ]
  },
  {
   "cell_type": "markdown",
   "metadata": {
    "id": "pLJjt6ZX5XXW"
   },
   "source": [
    "## 7. Polynomial Integration: `Polynomial.integ` (or `poly.polyint`)\n",
    "\n",
    "The `Polynomial` object has an `.integ()` method for integration. `poly.polyint` can also be used directly on the coefficient array. You can specify the constant of integration.\n",
    "\n",
    "If $P(x) = \\sum_{i=0}^n a_i x^i$, then $\\int P(x) dx = C + \\sum_{i=0}^n \\frac{a_i}{i+1} x^{i+1}$.\n",
    "\n",
    "### Example\n",
    "\n",
    "Let's find the indefinite integral of $P(x) = 3x^2 + 2x - 1$. We'll set the constant of integration to 10."
   ]
  },
  {
   "cell_type": "code",
   "execution_count": 7,
   "metadata": {
    "id": "Gkiq3Zp95XXW"
   },
   "outputs": [
    {
     "name": "stdout",
     "output_type": "stream",
     "text": [
      "Original P(x):\n",
      " -1.0 + 2.0·x + 3.0·x²\n",
      "\n",
      "Indefinite integral of P(x) (using poly.polyint, C=10):\n",
      " 10.0 - 1.0·x + 1.0·x² + 1.0·x³\n",
      "\n",
      "Derivative of the integral of P(x):\n",
      " -1.0 + 2.0·x + 3.0·x²\n",
      "\n",
      "Indefinite integral of P(x) (using .integ(), C=10):\n",
      " 10.0 - 1.0·x + 1.0·x² + 1.0·x³\n"
     ]
    }
   ],
   "source": [
    "# Our original polynomial P(x)\n",
    "print(\"Original P(x):\\n\", P)\n",
    "\n",
    "# Using poly.polyint with coefficients directly\n",
    "P_integral_coeffs = poly.polyint(P.coef, m=1, k=[10])\n",
    "P_integral = poly.Polynomial(P_integral_coeffs)\n",
    "print(\"\\nIndefinite integral of P(x) (using poly.polyint, C=10):\\n\", P_integral)\n",
    "\n",
    "# Let's verify by differentiating the integral\n",
    "P_integral_prime = P_integral.deriv()\n",
    "print(\"\\nDerivative of the integral of P(x):\\n\", P_integral_prime) # This should be P(x)\n",
    "\n",
    "# Indefinite integral of P(x) with integration constant C = 10\n",
    "P_integral = P.integ(m=1, k=[10]) # m=1 for single integration, k=[10] for constant\n",
    "print(\"\\nIndefinite integral of P(x) (using .integ(), C=10):\\n\", P_integral)"
   ]
  },
  {
   "cell_type": "markdown",
   "metadata": {
    "id": "Wf23P_Xb5XXX"
   },
   "source": [
    "## 8. Polynomial Addition: `Polynomial` object addition (or `poly.polyadd`)\n",
    "\n",
    "`Polynomial` objects can be added directly using the `+` operator. You can also use `poly.polyadd` for adding coefficient arrays.\n",
    "\n",
    "### Example\n",
    "\n",
    "Let $P_1(x) = 3x^2 + 2x - 1$ and $P_2(x) = x^3 - 4x + 5$."
   ]
  },
  {
   "cell_type": "code",
   "execution_count": 8,
   "metadata": {
    "id": "-ZwnfV3D5XXX"
   },
   "outputs": [
    {
     "name": "stdout",
     "output_type": "stream",
     "text": [
      "\n",
      "P1(x):\n",
      " -1.0 + 2.0·x + 3.0·x²\n",
      "\n",
      "P2(x):\n",
      " 5.0 - 4.0·x + 0.0·x² + 1.0·x³\n",
      "\n",
      "Sum of P1(x) and P2(x) (direct addition):\n",
      " 4.0 - 2.0·x + 3.0·x² + 1.0·x³\n",
      "\n",
      "Sum of P1(x) and P2(x) (using poly.polyadd):\n",
      " 4.0 - 2.0·x + 3.0·x² + 1.0·x³\n"
     ]
    }
   ],
   "source": [
    "# Define P1(x) and P2(x)\n",
    "P1 = poly.Polynomial([-1, 2, 3])    # 3x^2 + 2x - 1\n",
    "P2 = poly.Polynomial([5, -4, 0, 1]) # x^3 - 4x + 5\n",
    "\n",
    "print(\"\\nP1(x):\\n\", P1)\n",
    "print(\"\\nP2(x):\\n\", P2)\n",
    "\n",
    "# Add the polynomials directly\n",
    "P_sum = P1 + P2\n",
    "print(\"\\nSum of P1(x) and P2(x) (direct addition):\\n\", P_sum)\n",
    "\n",
    "# Add using poly.polyadd on coefficients\n",
    "P_sum_coeffs = poly.polyadd(P1, P2)\n",
    "P_sum_from_coeffs = poly.Polynomial(P_sum_coeffs)\n",
    "print(\"\\nSum of P1(x) and P2(x) (using poly.polyadd):\\n\", P_sum_from_coeffs)"
   ]
  },
  {
   "cell_type": "markdown",
   "metadata": {
    "id": "_TMf6n0_5XXX"
   },
   "source": [
    "## 9. Polynomial Subtraction: `Polynomial` object subtraction (or `poly.polysub`)\n",
    "\n",
    "`Polynomial` objects can be subtracted directly using the `-` operator. `poly.polysub` is also available for coefficient arrays.\n",
    "\n",
    "### Example\n",
    "\n",
    "Let's subtract $P_2(x)$ from $P_1(x)$."
   ]
  },
  {
   "cell_type": "code",
   "execution_count": 9,
   "metadata": {
    "id": "fWjLimwj5XXX"
   },
   "outputs": [
    {
     "name": "stdout",
     "output_type": "stream",
     "text": [
      "\n",
      "Difference P1(x) - P2(x):\n",
      " -6.0 + 6.0·x + 3.0·x² - 1.0·x³\n",
      "\n",
      "Difference P1(x) - P2(x) (using poly.polysub):\n",
      " -6.0 + 6.0·x + 3.0·x² - 1.0·x³\n"
     ]
    }
   ],
   "source": [
    "# P1(x) and P2(x) are defined above\n",
    "\n",
    "# Subtract P2(x) from P1(x) directly\n",
    "P_diff = P1 - P2\n",
    "print(\"\\nDifference P1(x) - P2(x):\\n\", P_diff)\n",
    "\n",
    "# Subtract using poly.polysub on coefficients\n",
    "P_diff_coeffs = poly.polysub(P1, P2)\n",
    "P_diff_from_coeffs = poly.Polynomial(P_diff_coeffs)\n",
    "print(\"\\nDifference P1(x) - P2(x) (using poly.polysub):\\n\", P_diff_from_coeffs)"
   ]
  },
  {
   "cell_type": "markdown",
   "metadata": {
    "id": "ha5PljeG5XXX"
   },
   "source": [
    "## 10. Polynomial Multiplication: `Polynomial` object multiplication (or `poly.polymul`)\n",
    "\n",
    "`Polynomial` objects can be multiplied directly using the `*` operator. `poly.polymul` is available for coefficient arrays.\n",
    "\n",
    "### Example\n",
    "\n",
    "Let's multiply $P_1(x) = 3x^2 + 2x - 1$ and $P_2(x) = x^3 - 4x + 5$."
   ]
  },
  {
   "cell_type": "code",
   "execution_count": 10,
   "metadata": {
    "id": "XkxuHY6N5XXX"
   },
   "outputs": [
    {
     "name": "stdout",
     "output_type": "stream",
     "text": [
      "\n",
      "Product of P1(x) and P2(x) (using poly.polymul):\n",
      " -5.0 + 14.0·x + 7.0·x² - 13.0·x³ + 2.0·x⁴ + 3.0·x⁵\n",
      "\n",
      "Product of P1(x) and P2(x) (direct multiplication):\n",
      " -5.0 + 14.0·x + 7.0·x² - 13.0·x³ + 2.0·x⁴ + 3.0·x⁵\n"
     ]
    }
   ],
   "source": [
    "# P1(x) and P2(x) are defined above\n",
    "\n",
    "# Multiply using poly.polymul on coefficients\n",
    "P_prod_coeffs = poly.polymul(P1, P2)\n",
    "P_prod = poly.Polynomial(P_prod_coeffs)\n",
    "print(\"\\nProduct of P1(x) and P2(x) (using poly.polymul):\\n\", P_prod)\n",
    "\n",
    "# Multiply the polynomials directly\n",
    "P_prod = P1 * P2\n",
    "print(\"\\nProduct of P1(x) and P2(x) (direct multiplication):\\n\", P_prod)"
   ]
  },
  {
   "cell_type": "markdown",
   "metadata": {
    "id": "MP0T5Llm5XXY"
   },
   "source": [
    "## 11. Polynomial Division: `poly.polydiv`\n",
    "\n",
    "Polynomial division in `numpy.polynomial.polynomial` is handled by `poly.polydiv`. It returns the coefficients of the quotient and the remainder, similar to `numpy.polydiv`.\n",
    "\n",
    "### Example\n",
    "\n",
    "Let $Q(x) = x^3 - 6x^2 + 11x - 6$, $P_2(x) = 3x^2 - 2$, and $R(x) = 3x - 1$. Let us perform the multiplication $P_1(x) = Q(x)P_2(x) + R(x)$, and then retrieve $Q(x)$ and $R(x)$."
   ]
  },
  {
   "cell_type": "code",
   "execution_count": 11,
   "metadata": {
    "id": "goCtKIha5XXY"
   },
   "outputs": [
    {
     "name": "stdout",
     "output_type": "stream",
     "text": [
      "P1(x):\n",
      " 6.0 - 19.0·x + 31.0·x² - 6.0·x³ - 22.0·x⁴ + 12.0·x⁵\n",
      "\n",
      "Quotient  Q(x):\n",
      " 1.0 - 6.0·x + 11.0·x² - 6.0·x³\n",
      "\n",
      "Remainder R(x):\n",
      " 3.0 - 1.0·x\n",
      "\n",
      "Quotient  Q(x) (direct division):\n",
      " 1.0 - 6.0·x + 11.0·x² - 6.0·x³\n",
      "\n",
      "Remainder R(x) (direct division):\n",
      " 3.0 - 1.0·x\n"
     ]
    }
   ],
   "source": [
    "# Define P1_div(x) and P2_div(x)\n",
    "Q  = poly.Polynomial(np.array([1, -6, 11, -6]))\n",
    "P2 = poly.Polynomial(np.array([3, 0, -2]))\n",
    "R  = poly.Polynomial(np.array([3, -1]))\n",
    "\n",
    "P1 = Q*P2 + R\n",
    "print(\"P1(x):\\n\", P1)\n",
    "\n",
    "# Divide P1_div(x) by P2_div(x)\n",
    "Q_est_coeffs, R_est_coeffs = poly.polydiv(P1.coef, P2.coef)\n",
    "Q_est = poly.Polynomial(Q_est_coeffs)\n",
    "R_est = poly.Polynomial(R_est_coeffs)\n",
    "\n",
    "print(\"\\nQuotient  Q(x):\\n\", Q_est)\n",
    "print(\"\\nRemainder R(x):\\n\", R_est)\n",
    "\n",
    "# Alternatively, you can directly divide poly1d objects\n",
    "Q_est = P1//P2\n",
    "R_est = P1%P2\n",
    "# Q_est, R_est = divmod(P1, P2) is also valid\n",
    "print(\"\\nQuotient  Q(x) (direct division):\\n\", Q_est)\n",
    "print(\"\\nRemainder R(x) (direct division):\\n\", R_est)"
   ]
  }
 ],
 "metadata": {
  "colab": {
   "provenance": []
  },
  "kernelspec": {
   "display_name": "Python 3 (ipykernel)",
   "language": "python",
   "name": "python3"
  },
  "language_info": {
   "codemirror_mode": {
    "name": "ipython",
    "version": 3
   },
   "file_extension": ".py",
   "mimetype": "text/x-python",
   "name": "python",
   "nbconvert_exporter": "python",
   "pygments_lexer": "ipython3",
   "version": "3.12.7"
  }
 },
 "nbformat": 4,
 "nbformat_minor": 4
}
